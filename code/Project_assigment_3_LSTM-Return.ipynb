{
 "cells": [
  {
   "cell_type": "code",
   "execution_count": 1,
   "id": "72d2190f",
   "metadata": {},
   "outputs": [],
   "source": [
    "import numpy as np\n",
    "import pandas as pd\n",
    "import matplotlib.pyplot as plt\n",
    "import seaborn as sns\n",
    "import plotly.express as px\n",
    "import tensorflow as tf"
   ]
  },
  {
   "cell_type": "code",
   "execution_count": 2,
   "id": "9f92ea81",
   "metadata": {},
   "outputs": [
    {
     "data": {
      "text/plain": [
       "'C:\\\\Users\\\\Admin\\\\Python&Quants\\\\NIDA_DeepLearning'"
      ]
     },
     "execution_count": 2,
     "metadata": {},
     "output_type": "execute_result"
    }
   ],
   "source": [
    "pwd"
   ]
  },
  {
   "cell_type": "code",
   "execution_count": 3,
   "id": "f8f53041",
   "metadata": {},
   "outputs": [],
   "source": [
    "df = pd.read_excel('BCH Historical Price 10Y.xlsx',sheet_name='Daily',index_col='Date')"
   ]
  },
  {
   "cell_type": "code",
   "execution_count": 4,
   "id": "748a60a0",
   "metadata": {},
   "outputs": [],
   "source": [
    "df = df.dropna()"
   ]
  },
  {
   "cell_type": "code",
   "execution_count": 5,
   "id": "1a30d581",
   "metadata": {},
   "outputs": [
    {
     "data": {
      "text/html": [
       "<div>\n",
       "<style scoped>\n",
       "    .dataframe tbody tr th:only-of-type {\n",
       "        vertical-align: middle;\n",
       "    }\n",
       "\n",
       "    .dataframe tbody tr th {\n",
       "        vertical-align: top;\n",
       "    }\n",
       "\n",
       "    .dataframe thead th {\n",
       "        text-align: right;\n",
       "    }\n",
       "</style>\n",
       "<table border=\"1\" class=\"dataframe\">\n",
       "  <thead>\n",
       "    <tr style=\"text-align: right;\">\n",
       "      <th></th>\n",
       "      <th>Last Price</th>\n",
       "      <th>Volume</th>\n",
       "    </tr>\n",
       "    <tr>\n",
       "      <th>Date</th>\n",
       "      <th></th>\n",
       "      <th></th>\n",
       "    </tr>\n",
       "  </thead>\n",
       "  <tbody>\n",
       "    <tr>\n",
       "      <th>2022-03-21</th>\n",
       "      <td>21.8</td>\n",
       "      <td>31993000</td>\n",
       "    </tr>\n",
       "    <tr>\n",
       "      <th>2022-03-18</th>\n",
       "      <td>21.2</td>\n",
       "      <td>23403892</td>\n",
       "    </tr>\n",
       "    <tr>\n",
       "      <th>2022-03-17</th>\n",
       "      <td>21.0</td>\n",
       "      <td>21165356</td>\n",
       "    </tr>\n",
       "    <tr>\n",
       "      <th>2022-03-16</th>\n",
       "      <td>21.0</td>\n",
       "      <td>21344752</td>\n",
       "    </tr>\n",
       "    <tr>\n",
       "      <th>2022-03-15</th>\n",
       "      <td>21.0</td>\n",
       "      <td>35639216</td>\n",
       "    </tr>\n",
       "  </tbody>\n",
       "</table>\n",
       "</div>"
      ],
      "text/plain": [
       "            Last Price    Volume\n",
       "Date                            \n",
       "2022-03-21        21.8  31993000\n",
       "2022-03-18        21.2  23403892\n",
       "2022-03-17        21.0  21165356\n",
       "2022-03-16        21.0  21344752\n",
       "2022-03-15        21.0  35639216"
      ]
     },
     "execution_count": 5,
     "metadata": {},
     "output_type": "execute_result"
    }
   ],
   "source": [
    "df.head()"
   ]
  },
  {
   "cell_type": "code",
   "execution_count": 6,
   "id": "8d2d0e1d",
   "metadata": {},
   "outputs": [],
   "source": [
    "df['return'] = df['Last Price'].pct_change()"
   ]
  },
  {
   "cell_type": "code",
   "execution_count": 7,
   "id": "e09a048e",
   "metadata": {},
   "outputs": [],
   "source": [
    "df2 = df[['return']].dropna()"
   ]
  },
  {
   "cell_type": "code",
   "execution_count": 8,
   "id": "4055ed7c",
   "metadata": {
    "scrolled": true
   },
   "outputs": [
    {
     "data": {
      "text/html": [
       "<div>\n",
       "<style scoped>\n",
       "    .dataframe tbody tr th:only-of-type {\n",
       "        vertical-align: middle;\n",
       "    }\n",
       "\n",
       "    .dataframe tbody tr th {\n",
       "        vertical-align: top;\n",
       "    }\n",
       "\n",
       "    .dataframe thead th {\n",
       "        text-align: right;\n",
       "    }\n",
       "</style>\n",
       "<table border=\"1\" class=\"dataframe\">\n",
       "  <thead>\n",
       "    <tr style=\"text-align: right;\">\n",
       "      <th></th>\n",
       "      <th>return</th>\n",
       "    </tr>\n",
       "    <tr>\n",
       "      <th>Date</th>\n",
       "      <th></th>\n",
       "    </tr>\n",
       "  </thead>\n",
       "  <tbody>\n",
       "    <tr>\n",
       "      <th>2022-03-18</th>\n",
       "      <td>-0.027523</td>\n",
       "    </tr>\n",
       "    <tr>\n",
       "      <th>2022-03-17</th>\n",
       "      <td>-0.009434</td>\n",
       "    </tr>\n",
       "    <tr>\n",
       "      <th>2022-03-16</th>\n",
       "      <td>0.000000</td>\n",
       "    </tr>\n",
       "    <tr>\n",
       "      <th>2022-03-15</th>\n",
       "      <td>0.000000</td>\n",
       "    </tr>\n",
       "    <tr>\n",
       "      <th>2022-03-14</th>\n",
       "      <td>-0.004762</td>\n",
       "    </tr>\n",
       "  </tbody>\n",
       "</table>\n",
       "</div>"
      ],
      "text/plain": [
       "              return\n",
       "Date                \n",
       "2022-03-18 -0.027523\n",
       "2022-03-17 -0.009434\n",
       "2022-03-16  0.000000\n",
       "2022-03-15  0.000000\n",
       "2022-03-14 -0.004762"
      ]
     },
     "execution_count": 8,
     "metadata": {},
     "output_type": "execute_result"
    }
   ],
   "source": [
    "df2.head()"
   ]
  },
  {
   "cell_type": "code",
   "execution_count": 9,
   "id": "e45fdd33",
   "metadata": {
    "scrolled": true
   },
   "outputs": [
    {
     "data": {
      "text/plain": [
       "return   -0.000358\n",
       "dtype: float64"
      ]
     },
     "execution_count": 9,
     "metadata": {},
     "output_type": "execute_result"
    }
   ],
   "source": [
    "df2.mean()"
   ]
  },
  {
   "cell_type": "code",
   "execution_count": 12,
   "id": "1416511c",
   "metadata": {},
   "outputs": [
    {
     "data": {
      "text/plain": [
       "return    0.375578\n",
       "dtype: float64"
      ]
     },
     "execution_count": 12,
     "metadata": {},
     "output_type": "execute_result"
    }
   ],
   "source": [
    "df2.std()*np.sqrt(365)"
   ]
  },
  {
   "cell_type": "code",
   "execution_count": 6,
   "id": "5988a505",
   "metadata": {},
   "outputs": [],
   "source": [
    "df1 = df[['Last Price']]"
   ]
  },
  {
   "cell_type": "code",
   "execution_count": 7,
   "id": "1461b851",
   "metadata": {},
   "outputs": [
    {
     "data": {
      "text/plain": [
       "Last Price    4591.077118\n",
       "dtype: float64"
      ]
     },
     "execution_count": 7,
     "metadata": {},
     "output_type": "execute_result"
    }
   ],
   "source": [
    "df1.mean()*365"
   ]
  },
  {
   "cell_type": "code",
   "execution_count": 8,
   "id": "0e7b04bb",
   "metadata": {
    "scrolled": true
   },
   "outputs": [
    {
     "data": {
      "text/plain": [
       "Last Price    89.343578\n",
       "dtype: float64"
      ]
     },
     "execution_count": 8,
     "metadata": {},
     "output_type": "execute_result"
    }
   ],
   "source": [
    "df1.std()*np.sqrt(365)"
   ]
  },
  {
   "cell_type": "code",
   "execution_count": 9,
   "id": "eb86038f",
   "metadata": {},
   "outputs": [
    {
     "data": {
      "text/plain": [
       "Last Price    0.283548\n",
       "dtype: float64"
      ]
     },
     "execution_count": 9,
     "metadata": {},
     "output_type": "execute_result"
    }
   ],
   "source": [
    "df1.skew()"
   ]
  },
  {
   "cell_type": "code",
   "execution_count": 10,
   "id": "047448bd",
   "metadata": {},
   "outputs": [
    {
     "data": {
      "text/plain": [
       "Last Price   -0.848761\n",
       "dtype: float64"
      ]
     },
     "execution_count": 10,
     "metadata": {},
     "output_type": "execute_result"
    }
   ],
   "source": [
    "df1.kurt()"
   ]
  },
  {
   "cell_type": "code",
   "execution_count": 13,
   "id": "140bf38c",
   "metadata": {},
   "outputs": [
    {
     "data": {
      "text/plain": [
       "[<matplotlib.lines.Line2D at 0x2707552f820>]"
      ]
     },
     "execution_count": 13,
     "metadata": {},
     "output_type": "execute_result"
    },
    {
     "data": {
      "image/png": "[encoded data removed]",
      "text/plain": [
       "<Figure size 1800x1200 with 1 Axes>"
      ]
     },
     "metadata": {
      "needs_background": "light"
     },
     "output_type": "display_data"
    }
   ],
   "source": [
    "plt.figure(figsize=(12,8),dpi = 150)\n",
    "plt.plot(df2)"
   ]
  },
  {
   "cell_type": "code",
   "execution_count": 14,
   "id": "8cd7d0d3",
   "metadata": {},
   "outputs": [
    {
     "name": "stderr",
     "output_type": "stream",
     "text": [
      "E:\\anaconda3\\lib\\site-packages\\seaborn\\distributions.py:2557: FutureWarning: `distplot` is a deprecated function and will be removed in a future version. Please adapt your code to use either `displot` (a figure-level function with similar flexibility) or `histplot` (an axes-level function for histograms).\n",
      "  warnings.warn(msg, FutureWarning)\n"
     ]
    },
    {
     "data": {
      "image/png": "[encoded data removed]",
      "text/plain": [
       "<Figure size 1800x1200 with 1 Axes>"
      ]
     },
     "metadata": {
      "needs_background": "light"
     },
     "output_type": "display_data"
    }
   ],
   "source": [
    "plt.figure(figsize=(12,8),dpi = 150)\n",
    "sns.distplot(df2);"
   ]
  },
  {
   "cell_type": "code",
   "execution_count": 15,
   "id": "3b895d15",
   "metadata": {},
   "outputs": [],
   "source": [
    "from statsmodels.tsa.seasonal import seasonal_decompose"
   ]
  },
  {
   "cell_type": "code",
   "execution_count": 18,
   "id": "698101b6",
   "metadata": {},
   "outputs": [
    {
     "data": {
      "text/html": [
       "<div>\n",
       "<style scoped>\n",
       "    .dataframe tbody tr th:only-of-type {\n",
       "        vertical-align: middle;\n",
       "    }\n",
       "\n",
       "    .dataframe tbody tr th {\n",
       "        vertical-align: top;\n",
       "    }\n",
       "\n",
       "    .dataframe thead th {\n",
       "        text-align: right;\n",
       "    }\n",
       "</style>\n",
       "<table border=\"1\" class=\"dataframe\">\n",
       "  <thead>\n",
       "    <tr style=\"text-align: right;\">\n",
       "      <th></th>\n",
       "      <th>count</th>\n",
       "      <th>mean</th>\n",
       "      <th>std</th>\n",
       "      <th>min</th>\n",
       "      <th>25%</th>\n",
       "      <th>50%</th>\n",
       "      <th>75%</th>\n",
       "      <th>max</th>\n",
       "    </tr>\n",
       "  </thead>\n",
       "  <tbody>\n",
       "    <tr>\n",
       "      <th>return</th>\n",
       "      <td>2466.0</td>\n",
       "      <td>-0.000358</td>\n",
       "      <td>0.019659</td>\n",
       "      <td>-0.098765</td>\n",
       "      <td>-0.009324</td>\n",
       "      <td>0.0</td>\n",
       "      <td>0.008734</td>\n",
       "      <td>0.169811</td>\n",
       "    </tr>\n",
       "  </tbody>\n",
       "</table>\n",
       "</div>"
      ],
      "text/plain": [
       "         count      mean       std       min       25%  50%       75%  \\\n",
       "return  2466.0 -0.000358  0.019659 -0.098765 -0.009324  0.0  0.008734   \n",
       "\n",
       "             max  \n",
       "return  0.169811  "
      ]
     },
     "execution_count": 18,
     "metadata": {},
     "output_type": "execute_result"
    }
   ],
   "source": [
    "df2.describe().transpose()"
   ]
  },
  {
   "cell_type": "markdown",
   "id": "1ca80f8f",
   "metadata": {},
   "source": [
    "# Train Test Split"
   ]
  },
  {
   "cell_type": "code",
   "execution_count": 19,
   "id": "a3b4917c",
   "metadata": {
    "scrolled": true
   },
   "outputs": [
    {
     "data": {
      "text/plain": [
       "2466"
      ]
     },
     "execution_count": 19,
     "metadata": {},
     "output_type": "execute_result"
    }
   ],
   "source": [
    "len(df2)"
   ]
  },
  {
   "cell_type": "code",
   "execution_count": 20,
   "id": "854307f8",
   "metadata": {},
   "outputs": [
    {
     "data": {
      "text/plain": [
       "(2466,)"
      ]
     },
     "execution_count": 20,
     "metadata": {},
     "output_type": "execute_result"
    }
   ],
   "source": [
    "np.array(df2['return']).shape"
   ]
  },
  {
   "cell_type": "code",
   "execution_count": 21,
   "id": "876781f3",
   "metadata": {},
   "outputs": [
    {
     "data": {
      "text/plain": [
       "2466"
      ]
     },
     "execution_count": 21,
     "metadata": {},
     "output_type": "execute_result"
    }
   ],
   "source": [
    "len(df2)"
   ]
  },
  {
   "cell_type": "code",
   "execution_count": 23,
   "id": "54275698",
   "metadata": {
    "scrolled": true
   },
   "outputs": [
    {
     "name": "stdout",
     "output_type": "stream",
     "text": [
      "2222\n",
      "244\n"
     ]
    }
   ],
   "source": [
    "train_len = len(df2)-244\n",
    "train = df2.iloc[:train_len]\n",
    "test = df2.iloc[train_len:]\n",
    "print(train_len)\n",
    "print(len(test))"
   ]
  },
  {
   "cell_type": "markdown",
   "id": "99790b48",
   "metadata": {},
   "source": [
    "# Standard Scaler"
   ]
  },
  {
   "cell_type": "code",
   "execution_count": 24,
   "id": "d1660839",
   "metadata": {},
   "outputs": [],
   "source": [
    "from sklearn.preprocessing import StandardScaler\n",
    "scaler= StandardScaler()"
   ]
  },
  {
   "cell_type": "code",
   "execution_count": 25,
   "id": "76e55a61",
   "metadata": {},
   "outputs": [
    {
     "data": {
      "text/plain": [
       "StandardScaler()"
      ]
     },
     "execution_count": 25,
     "metadata": {},
     "output_type": "execute_result"
    }
   ],
   "source": [
    "scaler.fit(train)"
   ]
  },
  {
   "cell_type": "code",
   "execution_count": 26,
   "id": "2a9e8d69",
   "metadata": {},
   "outputs": [],
   "source": [
    "scaled_train = scaler.transform(train)\n",
    "scaled_test = scaler.transform(test)"
   ]
  },
  {
   "cell_type": "markdown",
   "id": "bc7082ca",
   "metadata": {},
   "source": [
    "# Time Series Generator"
   ]
  },
  {
   "cell_type": "code",
   "execution_count": 27,
   "id": "e2179e6a",
   "metadata": {},
   "outputs": [],
   "source": [
    "from keras.preprocessing.sequence import TimeseriesGenerator"
   ]
  },
  {
   "cell_type": "code",
   "execution_count": 28,
   "id": "eeecb4d9",
   "metadata": {},
   "outputs": [],
   "source": [
    "n_input = 20\n",
    "n_features=1\n",
    "generator = TimeseriesGenerator(scaled_train,scaled_train, length=n_input, batch_size=1)"
   ]
  },
  {
   "cell_type": "code",
   "execution_count": 29,
   "id": "7528cb4a",
   "metadata": {},
   "outputs": [],
   "source": [
    "from keras.models import Sequential\n",
    "from keras.layers import Dense,Dropout\n",
    "from keras.layers import LSTM\n",
    "nadam = tf.keras.optimizers.Nadam(learning_rate=0.0001)\n",
    "adam = tf.keras.optimizers.Adam(learning_rate=0.001)"
   ]
  },
  {
   "cell_type": "code",
   "execution_count": 30,
   "id": "68d17de7",
   "metadata": {},
   "outputs": [],
   "source": [
    "# define model\n",
    "model = Sequential()\n",
    "model.add(LSTM(150, activation='relu', input_shape=(n_input, n_features)))\n",
    "model.add(Dropout(0.3))\n",
    "model.add(Dense(1))\n",
    "model.compile(loss='mse', optimizer=nadam, metrics=['mean_absolute_error'])"
   ]
  },
  {
   "cell_type": "code",
   "execution_count": 31,
   "id": "cb4c8e7f",
   "metadata": {},
   "outputs": [
    {
     "name": "stdout",
     "output_type": "stream",
     "text": [
      "Model: \"sequential\"\n",
      "_________________________________________________________________\n",
      " Layer (type)                Output Shape              Param #   \n",
      "=================================================================\n",
      " lstm (LSTM)                 (None, 150)               91200     \n",
      "                                                                 \n",
      " dropout (Dropout)           (None, 150)               0         \n",
      "                                                                 \n",
      " dense (Dense)               (None, 1)                 151       \n",
      "                                                                 \n",
      "=================================================================\n",
      "Total params: 91,351\n",
      "Trainable params: 91,351\n",
      "Non-trainable params: 0\n",
      "_________________________________________________________________\n"
     ]
    }
   ],
   "source": [
    "model.summary()"
   ]
  },
  {
   "cell_type": "code",
   "execution_count": 32,
   "id": "8cc080f3",
   "metadata": {
    "scrolled": true
   },
   "outputs": [
    {
     "name": "stdout",
     "output_type": "stream",
     "text": [
      "Epoch 1/30\n"
     ]
    },
    {
     "name": "stderr",
     "output_type": "stream",
     "text": [
      "<ipython-input-32-ad990dc219c6>:2: UserWarning: `Model.fit_generator` is deprecated and will be removed in a future version. Please use `Model.fit`, which supports generators.\n",
      "  model.fit_generator(generator,epochs=30)\n"
     ]
    },
    {
     "name": "stdout",
     "output_type": "stream",
     "text": [
      "2202/2202 [==============================] - 13s 5ms/step - loss: 1.0062 - mean_absolute_error: 0.6929\n",
      "Epoch 2/30\n",
      "2202/2202 [==============================] - 12s 5ms/step - loss: 1.0021 - mean_absolute_error: 0.6931\n",
      "Epoch 3/30\n",
      "2202/2202 [==============================] - 12s 5ms/step - loss: 1.0020 - mean_absolute_error: 0.6940\n",
      "Epoch 4/30\n",
      "2202/2202 [==============================] - 12s 5ms/step - loss: 1.0011 - mean_absolute_error: 0.6936\n",
      "Epoch 5/30\n",
      "2202/2202 [==============================] - 12s 5ms/step - loss: 1.0010 - mean_absolute_error: 0.6941\n",
      "Epoch 6/30\n",
      "2202/2202 [==============================] - 12s 5ms/step - loss: 0.9991 - mean_absolute_error: 0.6928\n",
      "Epoch 7/30\n",
      "2202/2202 [==============================] - 11s 5ms/step - loss: 0.9983 - mean_absolute_error: 0.6932\n",
      "Epoch 8/30\n",
      "2202/2202 [==============================] - 12s 5ms/step - loss: 0.9988 - mean_absolute_error: 0.6929\n",
      "Epoch 9/30\n",
      "2202/2202 [==============================] - 12s 5ms/step - loss: 0.9977 - mean_absolute_error: 0.6951\n",
      "Epoch 10/30\n",
      "2202/2202 [==============================] - 12s 5ms/step - loss: 0.9948 - mean_absolute_error: 0.6928\n",
      "Epoch 11/30\n",
      "2202/2202 [==============================] - 12s 5ms/step - loss: 0.9981 - mean_absolute_error: 0.6948\n",
      "Epoch 12/30\n",
      "2202/2202 [==============================] - 12s 5ms/step - loss: 0.9951 - mean_absolute_error: 0.6925\n",
      "Epoch 13/30\n",
      "2202/2202 [==============================] - 12s 5ms/step - loss: 0.9938 - mean_absolute_error: 0.6937\n",
      "Epoch 14/30\n",
      "2202/2202 [==============================] - 12s 5ms/step - loss: 0.9928 - mean_absolute_error: 0.6955\n",
      "Epoch 15/30\n",
      "2202/2202 [==============================] - 12s 5ms/step - loss: 0.9932 - mean_absolute_error: 0.6946\n",
      "Epoch 16/30\n",
      "2202/2202 [==============================] - 12s 5ms/step - loss: 0.9924 - mean_absolute_error: 0.6933\n",
      "Epoch 17/30\n",
      "2202/2202 [==============================] - 11s 5ms/step - loss: 0.9912 - mean_absolute_error: 0.6925\n",
      "Epoch 18/30\n",
      "2202/2202 [==============================] - 12s 5ms/step - loss: 0.9946 - mean_absolute_error: 0.6944\n",
      "Epoch 19/30\n",
      "2202/2202 [==============================] - 12s 5ms/step - loss: 0.9926 - mean_absolute_error: 0.6921\n",
      "Epoch 20/30\n",
      "2202/2202 [==============================] - 12s 5ms/step - loss: 0.9894 - mean_absolute_error: 0.6931\n",
      "Epoch 21/30\n",
      "2202/2202 [==============================] - 12s 5ms/step - loss: 0.9873 - mean_absolute_error: 0.6939\n",
      "Epoch 22/30\n",
      "2202/2202 [==============================] - 12s 5ms/step - loss: 0.9886 - mean_absolute_error: 0.6937\n",
      "Epoch 23/30\n",
      "2202/2202 [==============================] - 12s 5ms/step - loss: 0.9912 - mean_absolute_error: 0.6936\n",
      "Epoch 24/30\n",
      "2202/2202 [==============================] - 12s 5ms/step - loss: 0.9852 - mean_absolute_error: 0.6931\n",
      "Epoch 25/30\n",
      "2202/2202 [==============================] - 12s 5ms/step - loss: 1.2791 - mean_absolute_error: 0.7041\n",
      "Epoch 26/30\n",
      "2202/2202 [==============================] - 12s 5ms/step - loss: 0.9845 - mean_absolute_error: 0.6915\n",
      "Epoch 27/30\n",
      "2202/2202 [==============================] - 12s 5ms/step - loss: 0.9835 - mean_absolute_error: 0.6928\n",
      "Epoch 28/30\n",
      "2202/2202 [==============================] - 12s 5ms/step - loss: 0.9851 - mean_absolute_error: 0.6932\n",
      "Epoch 29/30\n",
      "2202/2202 [==============================] - 12s 5ms/step - loss: 0.9841 - mean_absolute_error: 0.6924\n",
      "Epoch 30/30\n",
      "2202/2202 [==============================] - 12s 5ms/step - loss: 0.9826 - mean_absolute_error: 0.6923\n"
     ]
    },
    {
     "data": {
      "text/plain": [
       "<keras.callbacks.History at 0x27077e0bac0>"
      ]
     },
     "execution_count": 32,
     "metadata": {},
     "output_type": "execute_result"
    }
   ],
   "source": [
    "# fit model\n",
    "model.fit_generator(generator,epochs=30)"
   ]
  },
  {
   "cell_type": "code",
   "execution_count": 33,
   "id": "cdefec5c",
   "metadata": {
    "scrolled": true
   },
   "outputs": [
    {
     "data": {
      "text/plain": [
       "[<matplotlib.lines.Line2D at 0x27075882a00>]"
      ]
     },
     "execution_count": 33,
     "metadata": {},
     "output_type": "execute_result"
    },
    {
     "data": {
      "image/png": "[encoded data removed]",
      "text/plain": [
       "<Figure size 432x288 with 1 Axes>"
      ]
     },
     "metadata": {
      "needs_background": "light"
     },
     "output_type": "display_data"
    }
   ],
   "source": [
    "loss_per_epoch = model.history.history['loss']\n",
    "plt.plot(range(len(loss_per_epoch)),loss_per_epoch)"
   ]
  },
  {
   "cell_type": "code",
   "execution_count": 34,
   "id": "32ab5437",
   "metadata": {},
   "outputs": [],
   "source": [
    "first_eval_batch = scaled_train[-12:]"
   ]
  },
  {
   "cell_type": "code",
   "execution_count": 35,
   "id": "463fd1d8",
   "metadata": {},
   "outputs": [
    {
     "data": {
      "text/plain": [
       "array([[[ 1.25073282],\n",
       "        [-1.99971881],\n",
       "        [ 0.43257729],\n",
       "        [ 0.42908164],\n",
       "        [-1.63707887],\n",
       "        [ 1.29304508],\n",
       "        [-4.14672474],\n",
       "        [-0.44069974],\n",
       "        [-2.27671212],\n",
       "        [-0.94686014],\n",
       "        [ 0.50249029],\n",
       "        [-2.65241904]]])"
      ]
     },
     "execution_count": 35,
     "metadata": {},
     "output_type": "execute_result"
    }
   ],
   "source": [
    "np.array(first_eval_batch).reshape(1,12,1)"
   ]
  },
  {
   "cell_type": "code",
   "execution_count": 36,
   "id": "df058a87",
   "metadata": {},
   "outputs": [],
   "source": [
    "test_predictions = []\n",
    "\n",
    "first_eval_batch = scaled_train[-n_input:]\n",
    "current_batch = first_eval_batch.reshape((1, n_input, n_features))\n",
    "\n",
    "for i in range(len(test)):\n",
    "    \n",
    "    # get prediction 1 time stamp ahead ([0] is for grabbing just the number instead of [array])\n",
    "    current_pred = model.predict(current_batch)[0]\n",
    "    \n",
    "    # store prediction\n",
    "    test_predictions.append(current_pred) \n",
    "    \n",
    "    # update batch to now include prediction and drop first value\n",
    "    current_batch = np.append(current_batch[:,1:,:],[[current_pred]],axis=1)"
   ]
  },
  {
   "cell_type": "code",
   "execution_count": 37,
   "id": "32d6c897",
   "metadata": {},
   "outputs": [],
   "source": [
    "preds = scaler.inverse_transform(test_predictions)"
   ]
  },
  {
   "cell_type": "code",
   "execution_count": 38,
   "id": "eed42837",
   "metadata": {},
   "outputs": [
    {
     "data": {
      "text/plain": [
       "244"
      ]
     },
     "execution_count": 38,
     "metadata": {},
     "output_type": "execute_result"
    }
   ],
   "source": [
    "len(preds)"
   ]
  },
  {
   "cell_type": "code",
   "execution_count": 39,
   "id": "9ba09247",
   "metadata": {},
   "outputs": [
    {
     "data": {
      "text/html": [
       "<div>\n",
       "<style scoped>\n",
       "    .dataframe tbody tr th:only-of-type {\n",
       "        vertical-align: middle;\n",
       "    }\n",
       "\n",
       "    .dataframe tbody tr th {\n",
       "        vertical-align: top;\n",
       "    }\n",
       "\n",
       "    .dataframe thead th {\n",
       "        text-align: right;\n",
       "    }\n",
       "</style>\n",
       "<table border=\"1\" class=\"dataframe\">\n",
       "  <thead>\n",
       "    <tr style=\"text-align: right;\">\n",
       "      <th></th>\n",
       "      <th>return</th>\n",
       "    </tr>\n",
       "    <tr>\n",
       "      <th>Date</th>\n",
       "      <th></th>\n",
       "    </tr>\n",
       "  </thead>\n",
       "  <tbody>\n",
       "    <tr>\n",
       "      <th>2013-02-05</th>\n",
       "      <td>0.000000</td>\n",
       "    </tr>\n",
       "    <tr>\n",
       "      <th>2013-02-04</th>\n",
       "      <td>-0.005128</td>\n",
       "    </tr>\n",
       "    <tr>\n",
       "      <th>2013-02-01</th>\n",
       "      <td>0.005155</td>\n",
       "    </tr>\n",
       "    <tr>\n",
       "      <th>2013-01-31</th>\n",
       "      <td>-0.015385</td>\n",
       "    </tr>\n",
       "    <tr>\n",
       "      <th>2013-01-30</th>\n",
       "      <td>0.005208</td>\n",
       "    </tr>\n",
       "    <tr>\n",
       "      <th>...</th>\n",
       "      <td>...</td>\n",
       "    </tr>\n",
       "    <tr>\n",
       "      <th>2012-02-15</th>\n",
       "      <td>0.000000</td>\n",
       "    </tr>\n",
       "    <tr>\n",
       "      <th>2012-02-14</th>\n",
       "      <td>-0.007246</td>\n",
       "    </tr>\n",
       "    <tr>\n",
       "      <th>2012-02-13</th>\n",
       "      <td>0.014599</td>\n",
       "    </tr>\n",
       "    <tr>\n",
       "      <th>2012-02-10</th>\n",
       "      <td>0.014388</td>\n",
       "    </tr>\n",
       "    <tr>\n",
       "      <th>2012-02-09</th>\n",
       "      <td>-0.007092</td>\n",
       "    </tr>\n",
       "  </tbody>\n",
       "</table>\n",
       "<p>244 rows × 1 columns</p>\n",
       "</div>"
      ],
      "text/plain": [
       "              return\n",
       "Date                \n",
       "2013-02-05  0.000000\n",
       "2013-02-04 -0.005128\n",
       "2013-02-01  0.005155\n",
       "2013-01-31 -0.015385\n",
       "2013-01-30  0.005208\n",
       "...              ...\n",
       "2012-02-15  0.000000\n",
       "2012-02-14 -0.007246\n",
       "2012-02-13  0.014599\n",
       "2012-02-10  0.014388\n",
       "2012-02-09 -0.007092\n",
       "\n",
       "[244 rows x 1 columns]"
      ]
     },
     "execution_count": 39,
     "metadata": {},
     "output_type": "execute_result"
    }
   ],
   "source": [
    "test"
   ]
  },
  {
   "cell_type": "code",
   "execution_count": 40,
   "id": "392be05b",
   "metadata": {
    "scrolled": true
   },
   "outputs": [
    {
     "name": "stderr",
     "output_type": "stream",
     "text": [
      "<ipython-input-40-3f875448906a>:1: SettingWithCopyWarning: \n",
      "A value is trying to be set on a copy of a slice from a DataFrame.\n",
      "Try using .loc[row_indexer,col_indexer] = value instead\n",
      "\n",
      "See the caveats in the documentation: https://pandas.pydata.org/pandas-docs/stable/user_guide/indexing.html#returning-a-view-versus-a-copy\n",
      "  test['Predictions'] = preds\n"
     ]
    }
   ],
   "source": [
    "test['Predictions'] = preds"
   ]
  },
  {
   "cell_type": "code",
   "execution_count": 41,
   "id": "099290fe",
   "metadata": {},
   "outputs": [
    {
     "data": {
      "text/html": [
       "<div>\n",
       "<style scoped>\n",
       "    .dataframe tbody tr th:only-of-type {\n",
       "        vertical-align: middle;\n",
       "    }\n",
       "\n",
       "    .dataframe tbody tr th {\n",
       "        vertical-align: top;\n",
       "    }\n",
       "\n",
       "    .dataframe thead th {\n",
       "        text-align: right;\n",
       "    }\n",
       "</style>\n",
       "<table border=\"1\" class=\"dataframe\">\n",
       "  <thead>\n",
       "    <tr style=\"text-align: right;\">\n",
       "      <th></th>\n",
       "      <th>return</th>\n",
       "      <th>Predictions</th>\n",
       "    </tr>\n",
       "    <tr>\n",
       "      <th>Date</th>\n",
       "      <th></th>\n",
       "      <th></th>\n",
       "    </tr>\n",
       "  </thead>\n",
       "  <tbody>\n",
       "    <tr>\n",
       "      <th>2013-02-05</th>\n",
       "      <td>0.000000</td>\n",
       "      <td>0.005172</td>\n",
       "    </tr>\n",
       "    <tr>\n",
       "      <th>2013-02-04</th>\n",
       "      <td>-0.005128</td>\n",
       "      <td>0.002655</td>\n",
       "    </tr>\n",
       "    <tr>\n",
       "      <th>2013-02-01</th>\n",
       "      <td>0.005155</td>\n",
       "      <td>0.000922</td>\n",
       "    </tr>\n",
       "    <tr>\n",
       "      <th>2013-01-31</th>\n",
       "      <td>-0.015385</td>\n",
       "      <td>-0.000114</td>\n",
       "    </tr>\n",
       "    <tr>\n",
       "      <th>2013-01-30</th>\n",
       "      <td>0.005208</td>\n",
       "      <td>-0.000538</td>\n",
       "    </tr>\n",
       "    <tr>\n",
       "      <th>...</th>\n",
       "      <td>...</td>\n",
       "      <td>...</td>\n",
       "    </tr>\n",
       "    <tr>\n",
       "      <th>2012-02-15</th>\n",
       "      <td>0.000000</td>\n",
       "      <td>0.000236</td>\n",
       "    </tr>\n",
       "    <tr>\n",
       "      <th>2012-02-14</th>\n",
       "      <td>-0.007246</td>\n",
       "      <td>0.000236</td>\n",
       "    </tr>\n",
       "    <tr>\n",
       "      <th>2012-02-13</th>\n",
       "      <td>0.014599</td>\n",
       "      <td>0.000236</td>\n",
       "    </tr>\n",
       "    <tr>\n",
       "      <th>2012-02-10</th>\n",
       "      <td>0.014388</td>\n",
       "      <td>0.000236</td>\n",
       "    </tr>\n",
       "    <tr>\n",
       "      <th>2012-02-09</th>\n",
       "      <td>-0.007092</td>\n",
       "      <td>0.000236</td>\n",
       "    </tr>\n",
       "  </tbody>\n",
       "</table>\n",
       "<p>244 rows × 2 columns</p>\n",
       "</div>"
      ],
      "text/plain": [
       "              return  Predictions\n",
       "Date                             \n",
       "2013-02-05  0.000000     0.005172\n",
       "2013-02-04 -0.005128     0.002655\n",
       "2013-02-01  0.005155     0.000922\n",
       "2013-01-31 -0.015385    -0.000114\n",
       "2013-01-30  0.005208    -0.000538\n",
       "...              ...          ...\n",
       "2012-02-15  0.000000     0.000236\n",
       "2012-02-14 -0.007246     0.000236\n",
       "2012-02-13  0.014599     0.000236\n",
       "2012-02-10  0.014388     0.000236\n",
       "2012-02-09 -0.007092     0.000236\n",
       "\n",
       "[244 rows x 2 columns]"
      ]
     },
     "execution_count": 41,
     "metadata": {},
     "output_type": "execute_result"
    }
   ],
   "source": [
    "test"
   ]
  },
  {
   "cell_type": "code",
   "execution_count": 43,
   "id": "f1f412ff",
   "metadata": {},
   "outputs": [],
   "source": [
    "test.to_excel('test_return.xlsx')"
   ]
  },
  {
   "cell_type": "code",
   "execution_count": 42,
   "id": "7c11fefe",
   "metadata": {},
   "outputs": [
    {
     "data": {
      "text/plain": [
       "<AxesSubplot:xlabel='Date'>"
      ]
     },
     "execution_count": 42,
     "metadata": {},
     "output_type": "execute_result"
    },
    {
     "data": {
      "image/png": "[encoded data removed]",
      "text/plain": [
       "<Figure size 432x288 with 1 Axes>"
      ]
     },
     "metadata": {
      "needs_background": "light"
     },
     "output_type": "display_data"
    }
   ],
   "source": [
    "test.plot()"
   ]
  },
  {
   "cell_type": "code",
   "execution_count": 41,
   "id": "898f3e81",
   "metadata": {},
   "outputs": [],
   "source": [
    "from sklearn.metrics import mean_squared_error, mean_absolute_error"
   ]
  },
  {
   "cell_type": "code",
   "execution_count": 42,
   "id": "022a2605",
   "metadata": {},
   "outputs": [
    {
     "data": {
      "text/plain": [
       "1.1151440263829708"
      ]
     },
     "execution_count": 42,
     "metadata": {},
     "output_type": "execute_result"
    }
   ],
   "source": [
    "mean_squared_error(test['Last Price'],test['Predictions'])"
   ]
  },
  {
   "cell_type": "code",
   "execution_count": 43,
   "id": "825e43e7",
   "metadata": {},
   "outputs": [
    {
     "data": {
      "text/plain": [
       "0.824689531482634"
      ]
     },
     "execution_count": 43,
     "metadata": {},
     "output_type": "execute_result"
    }
   ],
   "source": [
    "mean_absolute_error(test['Last Price'],test['Predictions'])"
   ]
  },
  {
   "cell_type": "code",
   "execution_count": null,
   "id": "344a185e",
   "metadata": {},
   "outputs": [],
   "source": []
  },
  {
   "cell_type": "code",
   "execution_count": null,
   "id": "859035fe",
   "metadata": {},
   "outputs": [],
   "source": []
  }
 ],
 "metadata": {
  "kernelspec": {
   "display_name": "Python 3",
   "language": "python",
   "name": "python3"
  },
  "language_info": {
   "codemirror_mode": {
    "name": "ipython",
    "version": 3
   },
   "file_extension": ".py",
   "mimetype": "text/x-python",
   "name": "python",
   "nbconvert_exporter": "python",
   "pygments_lexer": "ipython3",
   "version": "3.8.8"
  }
 },
 "nbformat": 4,
 "nbformat_minor": 5
}
