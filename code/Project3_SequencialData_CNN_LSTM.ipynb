{
  "nbformat": 4,
  "nbformat_minor": 0,
  "metadata": {
    "colab": {
      "name": "Project3_SequencialData_CNN_LSTM.ipynb",
      "provenance": [],
      "collapsed_sections": [],
      "include_colab_link": true
    },
    "kernelspec": {
      "name": "python3",
      "display_name": "Python 3"
    },
    "language_info": {
      "name": "python"
    }
  },
  "cells": [
    {
      "cell_type": "markdown",
      "metadata": {
        "id": "view-in-github",
        "colab_type": "text"
      },
      "source": [
        "<a href=\"https://colab.research.google.com/github/BADS7604Group03/assignment3/blob/main/code/Project3_SequencialData_CNN_LSTM.ipynb\" target=\"_parent\"><img src=\"https://colab.research.google.com/assets/colab-badge.svg\" alt=\"Open In Colab\"/></a>"
      ]
    },
    {
      "cell_type": "markdown",
      "source": [
        "#Import Libraries"
      ],
      "metadata": {
        "id": "LYiivjn7F_kX"
      }
    },
    {
      "cell_type": "code",
      "execution_count": null,
      "metadata": {
        "id": "m--kzqKnFtX8"
      },
      "outputs": [],
      "source": [
        "import numpy as np\n",
        "import pandas as pd\n",
        "import tensorflow as tf\n",
        "from sklearn.model_selection import train_test_split\n",
        "from keras import backend as K\n",
        "from keras.models import Sequential\n",
        "from sklearn import preprocessing\n",
        "from keras.layers import Conv1D,Flatten,MaxPooling1D,Bidirectional,LSTM,Dropout,TimeDistributed,MaxPool2D\n",
        "from keras.layers import Dense,GlobalAveragePooling2D\n",
        "import matplotlib.pyplot as plt\n",
        "from sklearn.metrics import mean_squared_error,mean_absolute_error\n",
        "from sklearn import preprocessing"
      ]
    },
    {
      "cell_type": "code",
      "source": [
        ""
      ],
      "metadata": {
        "id": "b8ky7CShF28N"
      },
      "execution_count": null,
      "outputs": []
    },
    {
      "cell_type": "markdown",
      "source": [
        "#Define Functions"
      ],
      "metadata": {
        "id": "e_K2yTtAGHGF"
      }
    },
    {
      "cell_type": "code",
      "source": [
        "def split(x_array, y_array, ratio_train=0.8, ratio_test=0.1):\n",
        "  n_data = x_array.shape[0]\n",
        "  n_train = int(n_data * ratio_train)\n",
        "  n_test = int(n_data *ratio_test)\n",
        "  n_val = n_data -n_train -n_test\n",
        "  x_train, y_train = x_array[:n_train], y_array[:n_train]\n",
        "  x_val, y_val = x_array[n_train:n_train+n_val], y_array[n_train:n_train+n_val]\n",
        "  x_test, y_test = x_array[n_train+n_val:], y_array[n_train+n_val:]\n",
        "  return x_train, x_val, x_test, y_train, y_val, y_test"
      ],
      "metadata": {
        "id": "hHNHGKy9F2_M"
      },
      "execution_count": null,
      "outputs": []
    },
    {
      "cell_type": "code",
      "source": [
        "def window_return(val, window):\n",
        "  lst_x = []\n",
        "  lst_y = []\n",
        "  lst_x_return = []\n",
        "  lst_y_return = []\n",
        "  for i in range(0,len(val) - window -1,1):\n",
        "    first_price = val[i]\n",
        "    lst_x.append(val[i:i+window])\n",
        "    lst_y.append(val[i+window])\n",
        "    lst_x_return.append((val[i+1:i+window]-first_price)/first_price)\n",
        "    lst_y_return.append((val[i+window]-first_price)/first_price)\n",
        "  array_x_return = np.array(lst_x_return).reshape(-1,window-1)\n",
        "  array_y_return = np.array(lst_y_return).reshape(-1,1)\n",
        "  array_x = np.array(lst_x).reshape(-1,window)\n",
        "  array_y = np.array(lst_y).reshape(-1,1)\n",
        "  return array_x,array_x_return,array_y,array_y_return"
      ],
      "metadata": {
        "id": "EDvn2WrRF3CP"
      },
      "execution_count": null,
      "outputs": []
    },
    {
      "cell_type": "code",
      "source": [
        ""
      ],
      "metadata": {
        "id": "Mqid2HqQF3FE"
      },
      "execution_count": null,
      "outputs": []
    },
    {
      "cell_type": "markdown",
      "source": [
        "#Load Data"
      ],
      "metadata": {
        "id": "Qq4Wv5-vGV8C"
      }
    },
    {
      "cell_type": "code",
      "source": [
        "#mount my google drive\n",
        "from google.colab import drive\n",
        "drive.mount('/content/drive')"
      ],
      "metadata": {
        "colab": {
          "base_uri": "https://localhost:8080/"
        },
        "id": "C1ItSj6tF3IA",
        "outputId": "877ed5c4-2b66-4355-8f12-0db3288a2c08"
      },
      "execution_count": null,
      "outputs": [
        {
          "output_type": "stream",
          "name": "stdout",
          "text": [
            "Mounted at /content/drive\n"
          ]
        }
      ]
    },
    {
      "cell_type": "code",
      "source": [
        "path = \"/content/drive/MyDrive/Colab Notebooks/BADS7604_Deep_Learning/Project3/BCH OHLC 10Y.xlsx\"\n",
        "df_trans = pd.read_excel(path,sheet_name='Daily').sort_values(by='Date', ascending=True)\n",
        "df_trans.shape"
      ],
      "metadata": {
        "colab": {
          "base_uri": "https://localhost:8080/"
        },
        "id": "cE93mvu-F3K8",
        "outputId": "1523f873-ca7a-4b26-850f-85f483b8f3e6"
      },
      "execution_count": null,
      "outputs": [
        {
          "output_type": "execute_result",
          "data": {
            "text/plain": [
              "(2469, 6)"
            ]
          },
          "metadata": {},
          "execution_count": 11
        }
      ]
    },
    {
      "cell_type": "code",
      "source": [
        "df_trans.tail(10)"
      ],
      "metadata": {
        "colab": {
          "base_uri": "https://localhost:8080/",
          "height": 363
        },
        "id": "i8Oss-ziG7Sp",
        "outputId": "97944c50-f691-44e8-c151-ee87c44c4c50"
      },
      "execution_count": null,
      "outputs": [
        {
          "output_type": "execute_result",
          "data": {
            "text/plain": [
              "        Date  Last Price  Open Price  High Price  Low Price  \\\n",
              "9 2022-03-10        20.1        20.2        20.2       19.7   \n",
              "8 2022-03-11        20.5        20.0        20.6       20.0   \n",
              "7 2022-03-14        20.9        20.5        21.0       20.4   \n",
              "6 2022-03-15        21.0        21.0        21.2       20.8   \n",
              "5 2022-03-16        21.0        21.1        21.2       20.8   \n",
              "4 2022-03-17        21.0        20.9        21.3       20.9   \n",
              "3 2022-03-18        21.2        20.9        21.3       20.8   \n",
              "2 2022-03-21        21.8        21.4        21.9       21.3   \n",
              "1 2022-03-22        21.5        21.8        21.9       21.4   \n",
              "0 2022-03-23        21.3        21.5        21.8       21.3   \n",
              "\n",
              "   BCH TB Equity - Volume  \n",
              "9                46136188  \n",
              "8                24969364  \n",
              "7                46296824  \n",
              "6                35639216  \n",
              "5                21344752  \n",
              "4                21165356  \n",
              "3                23403892  \n",
              "2                31993000  \n",
              "1                15422907  \n",
              "0                13652618  "
            ],
            "text/html": [
              "\n",
              "  <div id=\"df-60684c77-6d58-4416-aa15-91afd71c22fe\">\n",
              "    <div class=\"colab-df-container\">\n",
              "      <div>\n",
              "<style scoped>\n",
              "    .dataframe tbody tr th:only-of-type {\n",
              "        vertical-align: middle;\n",
              "    }\n",
              "\n",
              "    .dataframe tbody tr th {\n",
              "        vertical-align: top;\n",
              "    }\n",
              "\n",
              "    .dataframe thead th {\n",
              "        text-align: right;\n",
              "    }\n",
              "</style>\n",
              "<table border=\"1\" class=\"dataframe\">\n",
              "  <thead>\n",
              "    <tr style=\"text-align: right;\">\n",
              "      <th></th>\n",
              "      <th>Date</th>\n",
              "      <th>Last Price</th>\n",
              "      <th>Open Price</th>\n",
              "      <th>High Price</th>\n",
              "      <th>Low Price</th>\n",
              "      <th>BCH TB Equity - Volume</th>\n",
              "    </tr>\n",
              "  </thead>\n",
              "  <tbody>\n",
              "    <tr>\n",
              "      <th>9</th>\n",
              "      <td>2022-03-10</td>\n",
              "      <td>20.1</td>\n",
              "      <td>20.2</td>\n",
              "      <td>20.2</td>\n",
              "      <td>19.7</td>\n",
              "      <td>46136188</td>\n",
              "    </tr>\n",
              "    <tr>\n",
              "      <th>8</th>\n",
              "      <td>2022-03-11</td>\n",
              "      <td>20.5</td>\n",
              "      <td>20.0</td>\n",
              "      <td>20.6</td>\n",
              "      <td>20.0</td>\n",
              "      <td>24969364</td>\n",
              "    </tr>\n",
              "    <tr>\n",
              "      <th>7</th>\n",
              "      <td>2022-03-14</td>\n",
              "      <td>20.9</td>\n",
              "      <td>20.5</td>\n",
              "      <td>21.0</td>\n",
              "      <td>20.4</td>\n",
              "      <td>46296824</td>\n",
              "    </tr>\n",
              "    <tr>\n",
              "      <th>6</th>\n",
              "      <td>2022-03-15</td>\n",
              "      <td>21.0</td>\n",
              "      <td>21.0</td>\n",
              "      <td>21.2</td>\n",
              "      <td>20.8</td>\n",
              "      <td>35639216</td>\n",
              "    </tr>\n",
              "    <tr>\n",
              "      <th>5</th>\n",
              "      <td>2022-03-16</td>\n",
              "      <td>21.0</td>\n",
              "      <td>21.1</td>\n",
              "      <td>21.2</td>\n",
              "      <td>20.8</td>\n",
              "      <td>21344752</td>\n",
              "    </tr>\n",
              "    <tr>\n",
              "      <th>4</th>\n",
              "      <td>2022-03-17</td>\n",
              "      <td>21.0</td>\n",
              "      <td>20.9</td>\n",
              "      <td>21.3</td>\n",
              "      <td>20.9</td>\n",
              "      <td>21165356</td>\n",
              "    </tr>\n",
              "    <tr>\n",
              "      <th>3</th>\n",
              "      <td>2022-03-18</td>\n",
              "      <td>21.2</td>\n",
              "      <td>20.9</td>\n",
              "      <td>21.3</td>\n",
              "      <td>20.8</td>\n",
              "      <td>23403892</td>\n",
              "    </tr>\n",
              "    <tr>\n",
              "      <th>2</th>\n",
              "      <td>2022-03-21</td>\n",
              "      <td>21.8</td>\n",
              "      <td>21.4</td>\n",
              "      <td>21.9</td>\n",
              "      <td>21.3</td>\n",
              "      <td>31993000</td>\n",
              "    </tr>\n",
              "    <tr>\n",
              "      <th>1</th>\n",
              "      <td>2022-03-22</td>\n",
              "      <td>21.5</td>\n",
              "      <td>21.8</td>\n",
              "      <td>21.9</td>\n",
              "      <td>21.4</td>\n",
              "      <td>15422907</td>\n",
              "    </tr>\n",
              "    <tr>\n",
              "      <th>0</th>\n",
              "      <td>2022-03-23</td>\n",
              "      <td>21.3</td>\n",
              "      <td>21.5</td>\n",
              "      <td>21.8</td>\n",
              "      <td>21.3</td>\n",
              "      <td>13652618</td>\n",
              "    </tr>\n",
              "  </tbody>\n",
              "</table>\n",
              "</div>\n",
              "      <button class=\"colab-df-convert\" onclick=\"convertToInteractive('df-60684c77-6d58-4416-aa15-91afd71c22fe')\"\n",
              "              title=\"Convert this dataframe to an interactive table.\"\n",
              "              style=\"display:none;\">\n",
              "        \n",
              "  <svg xmlns=\"http://www.w3.org/2000/svg\" height=\"24px\"viewBox=\"0 0 24 24\"\n",
              "       width=\"24px\">\n",
              "    <path d=\"M0 0h24v24H0V0z\" fill=\"none\"/>\n",
              "    <path d=\"M18.56 5.44l.94 2.06.94-2.06 2.06-.94-2.06-.94-.94-2.06-.94 2.06-2.06.94zm-11 1L8.5 8.5l.94-2.06 2.06-.94-2.06-.94L8.5 2.5l-.94 2.06-2.06.94zm10 10l.94 2.06.94-2.06 2.06-.94-2.06-.94-.94-2.06-.94 2.06-2.06.94z\"/><path d=\"M17.41 7.96l-1.37-1.37c-.4-.4-.92-.59-1.43-.59-.52 0-1.04.2-1.43.59L10.3 9.45l-7.72 7.72c-.78.78-.78 2.05 0 2.83L4 21.41c.39.39.9.59 1.41.59.51 0 1.02-.2 1.41-.59l7.78-7.78 2.81-2.81c.8-.78.8-2.07 0-2.86zM5.41 20L4 18.59l7.72-7.72 1.47 1.35L5.41 20z\"/>\n",
              "  </svg>\n",
              "      </button>\n",
              "      \n",
              "  <style>\n",
              "    .colab-df-container {\n",
              "      display:flex;\n",
              "      flex-wrap:wrap;\n",
              "      gap: 12px;\n",
              "    }\n",
              "\n",
              "    .colab-df-convert {\n",
              "      background-color: #E8F0FE;\n",
              "      border: none;\n",
              "      border-radius: 50%;\n",
              "      cursor: pointer;\n",
              "      display: none;\n",
              "      fill: #1967D2;\n",
              "      height: 32px;\n",
              "      padding: 0 0 0 0;\n",
              "      width: 32px;\n",
              "    }\n",
              "\n",
              "    .colab-df-convert:hover {\n",
              "      background-color: #E2EBFA;\n",
              "      box-shadow: 0px 1px 2px rgba(60, 64, 67, 0.3), 0px 1px 3px 1px rgba(60, 64, 67, 0.15);\n",
              "      fill: #174EA6;\n",
              "    }\n",
              "\n",
              "    [theme=dark] .colab-df-convert {\n",
              "      background-color: #3B4455;\n",
              "      fill: #D2E3FC;\n",
              "    }\n",
              "\n",
              "    [theme=dark] .colab-df-convert:hover {\n",
              "      background-color: #434B5C;\n",
              "      box-shadow: 0px 1px 3px 1px rgba(0, 0, 0, 0.15);\n",
              "      filter: drop-shadow(0px 1px 2px rgba(0, 0, 0, 0.3));\n",
              "      fill: #FFFFFF;\n",
              "    }\n",
              "  </style>\n",
              "\n",
              "      <script>\n",
              "        const buttonEl =\n",
              "          document.querySelector('#df-60684c77-6d58-4416-aa15-91afd71c22fe button.colab-df-convert');\n",
              "        buttonEl.style.display =\n",
              "          google.colab.kernel.accessAllowed ? 'block' : 'none';\n",
              "\n",
              "        async function convertToInteractive(key) {\n",
              "          const element = document.querySelector('#df-60684c77-6d58-4416-aa15-91afd71c22fe');\n",
              "          const dataTable =\n",
              "            await google.colab.kernel.invokeFunction('convertToInteractive',\n",
              "                                                     [key], {});\n",
              "          if (!dataTable) return;\n",
              "\n",
              "          const docLinkHtml = 'Like what you see? Visit the ' +\n",
              "            '<a target=\"_blank\" href=https://colab.research.google.com/notebooks/data_table.ipynb>data table notebook</a>'\n",
              "            + ' to learn more about interactive tables.';\n",
              "          element.innerHTML = '';\n",
              "          dataTable['output_type'] = 'display_data';\n",
              "          await google.colab.output.renderOutput(dataTable, element);\n",
              "          const docLink = document.createElement('div');\n",
              "          docLink.innerHTML = docLinkHtml;\n",
              "          element.appendChild(docLink);\n",
              "        }\n",
              "      </script>\n",
              "    </div>\n",
              "  </div>\n",
              "  "
            ]
          },
          "metadata": {},
          "execution_count": 89
        }
      ]
    },
    {
      "cell_type": "code",
      "source": [
        "df_trans.info()"
      ],
      "metadata": {
        "colab": {
          "base_uri": "https://localhost:8080/"
        },
        "id": "yO9fLZq6F3Ns",
        "outputId": "16583c5e-6b2d-417e-cd57-8b09bb182c1d"
      },
      "execution_count": null,
      "outputs": [
        {
          "output_type": "stream",
          "name": "stdout",
          "text": [
            "<class 'pandas.core.frame.DataFrame'>\n",
            "Int64Index: 2469 entries, 2468 to 0\n",
            "Data columns (total 6 columns):\n",
            " #   Column                  Non-Null Count  Dtype         \n",
            "---  ------                  --------------  -----         \n",
            " 0   Date                    2469 non-null   datetime64[ns]\n",
            " 1   Last Price              2469 non-null   float64       \n",
            " 2   Open Price              2469 non-null   float64       \n",
            " 3   High Price              2469 non-null   float64       \n",
            " 4   Low Price               2469 non-null   float64       \n",
            " 5   BCH TB Equity - Volume  2469 non-null   int64         \n",
            "dtypes: datetime64[ns](1), float64(4), int64(1)\n",
            "memory usage: 135.0 KB\n"
          ]
        }
      ]
    },
    {
      "cell_type": "code",
      "source": [
        "df_trans.describe(include='all',datetime_is_numeric=True)"
      ],
      "metadata": {
        "colab": {
          "base_uri": "https://localhost:8080/",
          "height": 300
        },
        "id": "saXHAL4gF3Tc",
        "outputId": "2697da98-5ce2-4185-d323-a4ea4d1e168a"
      },
      "execution_count": null,
      "outputs": [
        {
          "output_type": "execute_result",
          "data": {
            "text/plain": [
              "                                Date   Last Price   Open Price   High Price  \\\n",
              "count                           2469  2469.000000  2469.000000  2469.000000   \n",
              "mean   2017-02-27 01:08:14.289185792    12.585439    12.593718    12.770543   \n",
              "min              2012-02-09 00:00:00     5.360000     5.360000     5.440000   \n",
              "25%              2014-08-20 00:00:00     7.900000     7.900000     8.080000   \n",
              "50%              2017-02-28 00:00:00    13.100000    13.100000    13.300000   \n",
              "75%              2019-09-06 00:00:00    16.100000    16.100000    16.300000   \n",
              "max              2022-03-23 00:00:00    26.250000    26.500000    26.750000   \n",
              "std                              NaN     4.681297     4.688040     4.752978   \n",
              "\n",
              "         Low Price  BCH TB Equity - Volume  \n",
              "count  2469.000000            2.469000e+03  \n",
              "mean     12.416541            1.050543e+07  \n",
              "min       5.360000            1.911000e+05  \n",
              "25%       7.800000            3.712100e+06  \n",
              "50%      13.000000            7.320945e+06  \n",
              "75%      15.900000            1.296720e+07  \n",
              "max      25.750000            1.416106e+08  \n",
              "std       4.615918            1.151587e+07  "
            ],
            "text/html": [
              "\n",
              "  <div id=\"df-6ec1ada7-545f-4cbc-80ea-ab70ae2a04e1\">\n",
              "    <div class=\"colab-df-container\">\n",
              "      <div>\n",
              "<style scoped>\n",
              "    .dataframe tbody tr th:only-of-type {\n",
              "        vertical-align: middle;\n",
              "    }\n",
              "\n",
              "    .dataframe tbody tr th {\n",
              "        vertical-align: top;\n",
              "    }\n",
              "\n",
              "    .dataframe thead th {\n",
              "        text-align: right;\n",
              "    }\n",
              "</style>\n",
              "<table border=\"1\" class=\"dataframe\">\n",
              "  <thead>\n",
              "    <tr style=\"text-align: right;\">\n",
              "      <th></th>\n",
              "      <th>Date</th>\n",
              "      <th>Last Price</th>\n",
              "      <th>Open Price</th>\n",
              "      <th>High Price</th>\n",
              "      <th>Low Price</th>\n",
              "      <th>BCH TB Equity - Volume</th>\n",
              "    </tr>\n",
              "  </thead>\n",
              "  <tbody>\n",
              "    <tr>\n",
              "      <th>count</th>\n",
              "      <td>2469</td>\n",
              "      <td>2469.000000</td>\n",
              "      <td>2469.000000</td>\n",
              "      <td>2469.000000</td>\n",
              "      <td>2469.000000</td>\n",
              "      <td>2.469000e+03</td>\n",
              "    </tr>\n",
              "    <tr>\n",
              "      <th>mean</th>\n",
              "      <td>2017-02-27 01:08:14.289185792</td>\n",
              "      <td>12.585439</td>\n",
              "      <td>12.593718</td>\n",
              "      <td>12.770543</td>\n",
              "      <td>12.416541</td>\n",
              "      <td>1.050543e+07</td>\n",
              "    </tr>\n",
              "    <tr>\n",
              "      <th>min</th>\n",
              "      <td>2012-02-09 00:00:00</td>\n",
              "      <td>5.360000</td>\n",
              "      <td>5.360000</td>\n",
              "      <td>5.440000</td>\n",
              "      <td>5.360000</td>\n",
              "      <td>1.911000e+05</td>\n",
              "    </tr>\n",
              "    <tr>\n",
              "      <th>25%</th>\n",
              "      <td>2014-08-20 00:00:00</td>\n",
              "      <td>7.900000</td>\n",
              "      <td>7.900000</td>\n",
              "      <td>8.080000</td>\n",
              "      <td>7.800000</td>\n",
              "      <td>3.712100e+06</td>\n",
              "    </tr>\n",
              "    <tr>\n",
              "      <th>50%</th>\n",
              "      <td>2017-02-28 00:00:00</td>\n",
              "      <td>13.100000</td>\n",
              "      <td>13.100000</td>\n",
              "      <td>13.300000</td>\n",
              "      <td>13.000000</td>\n",
              "      <td>7.320945e+06</td>\n",
              "    </tr>\n",
              "    <tr>\n",
              "      <th>75%</th>\n",
              "      <td>2019-09-06 00:00:00</td>\n",
              "      <td>16.100000</td>\n",
              "      <td>16.100000</td>\n",
              "      <td>16.300000</td>\n",
              "      <td>15.900000</td>\n",
              "      <td>1.296720e+07</td>\n",
              "    </tr>\n",
              "    <tr>\n",
              "      <th>max</th>\n",
              "      <td>2022-03-23 00:00:00</td>\n",
              "      <td>26.250000</td>\n",
              "      <td>26.500000</td>\n",
              "      <td>26.750000</td>\n",
              "      <td>25.750000</td>\n",
              "      <td>1.416106e+08</td>\n",
              "    </tr>\n",
              "    <tr>\n",
              "      <th>std</th>\n",
              "      <td>NaN</td>\n",
              "      <td>4.681297</td>\n",
              "      <td>4.688040</td>\n",
              "      <td>4.752978</td>\n",
              "      <td>4.615918</td>\n",
              "      <td>1.151587e+07</td>\n",
              "    </tr>\n",
              "  </tbody>\n",
              "</table>\n",
              "</div>\n",
              "      <button class=\"colab-df-convert\" onclick=\"convertToInteractive('df-6ec1ada7-545f-4cbc-80ea-ab70ae2a04e1')\"\n",
              "              title=\"Convert this dataframe to an interactive table.\"\n",
              "              style=\"display:none;\">\n",
              "        \n",
              "  <svg xmlns=\"http://www.w3.org/2000/svg\" height=\"24px\"viewBox=\"0 0 24 24\"\n",
              "       width=\"24px\">\n",
              "    <path d=\"M0 0h24v24H0V0z\" fill=\"none\"/>\n",
              "    <path d=\"M18.56 5.44l.94 2.06.94-2.06 2.06-.94-2.06-.94-.94-2.06-.94 2.06-2.06.94zm-11 1L8.5 8.5l.94-2.06 2.06-.94-2.06-.94L8.5 2.5l-.94 2.06-2.06.94zm10 10l.94 2.06.94-2.06 2.06-.94-2.06-.94-.94-2.06-.94 2.06-2.06.94z\"/><path d=\"M17.41 7.96l-1.37-1.37c-.4-.4-.92-.59-1.43-.59-.52 0-1.04.2-1.43.59L10.3 9.45l-7.72 7.72c-.78.78-.78 2.05 0 2.83L4 21.41c.39.39.9.59 1.41.59.51 0 1.02-.2 1.41-.59l7.78-7.78 2.81-2.81c.8-.78.8-2.07 0-2.86zM5.41 20L4 18.59l7.72-7.72 1.47 1.35L5.41 20z\"/>\n",
              "  </svg>\n",
              "      </button>\n",
              "      \n",
              "  <style>\n",
              "    .colab-df-container {\n",
              "      display:flex;\n",
              "      flex-wrap:wrap;\n",
              "      gap: 12px;\n",
              "    }\n",
              "\n",
              "    .colab-df-convert {\n",
              "      background-color: #E8F0FE;\n",
              "      border: none;\n",
              "      border-radius: 50%;\n",
              "      cursor: pointer;\n",
              "      display: none;\n",
              "      fill: #1967D2;\n",
              "      height: 32px;\n",
              "      padding: 0 0 0 0;\n",
              "      width: 32px;\n",
              "    }\n",
              "\n",
              "    .colab-df-convert:hover {\n",
              "      background-color: #E2EBFA;\n",
              "      box-shadow: 0px 1px 2px rgba(60, 64, 67, 0.3), 0px 1px 3px 1px rgba(60, 64, 67, 0.15);\n",
              "      fill: #174EA6;\n",
              "    }\n",
              "\n",
              "    [theme=dark] .colab-df-convert {\n",
              "      background-color: #3B4455;\n",
              "      fill: #D2E3FC;\n",
              "    }\n",
              "\n",
              "    [theme=dark] .colab-df-convert:hover {\n",
              "      background-color: #434B5C;\n",
              "      box-shadow: 0px 1px 3px 1px rgba(0, 0, 0, 0.15);\n",
              "      filter: drop-shadow(0px 1px 2px rgba(0, 0, 0, 0.3));\n",
              "      fill: #FFFFFF;\n",
              "    }\n",
              "  </style>\n",
              "\n",
              "      <script>\n",
              "        const buttonEl =\n",
              "          document.querySelector('#df-6ec1ada7-545f-4cbc-80ea-ab70ae2a04e1 button.colab-df-convert');\n",
              "        buttonEl.style.display =\n",
              "          google.colab.kernel.accessAllowed ? 'block' : 'none';\n",
              "\n",
              "        async function convertToInteractive(key) {\n",
              "          const element = document.querySelector('#df-6ec1ada7-545f-4cbc-80ea-ab70ae2a04e1');\n",
              "          const dataTable =\n",
              "            await google.colab.kernel.invokeFunction('convertToInteractive',\n",
              "                                                     [key], {});\n",
              "          if (!dataTable) return;\n",
              "\n",
              "          const docLinkHtml = 'Like what you see? Visit the ' +\n",
              "            '<a target=\"_blank\" href=https://colab.research.google.com/notebooks/data_table.ipynb>data table notebook</a>'\n",
              "            + ' to learn more about interactive tables.';\n",
              "          element.innerHTML = '';\n",
              "          dataTable['output_type'] = 'display_data';\n",
              "          await google.colab.output.renderOutput(dataTable, element);\n",
              "          const docLink = document.createElement('div');\n",
              "          docLink.innerHTML = docLinkHtml;\n",
              "          element.appendChild(docLink);\n",
              "        }\n",
              "      </script>\n",
              "    </div>\n",
              "  </div>\n",
              "  "
            ]
          },
          "metadata": {},
          "execution_count": 15
        }
      ]
    },
    {
      "cell_type": "code",
      "source": [
        "window_size=20\n",
        "x_close,x_return,y_close,y_return = window_return(df_trans[\"Last Price\"].values, window_size)\n",
        "print(f\"x_close.shape : {x_close.shape}\")\n",
        "print(f\"x_return.shape : {x_return.shape}\")\n",
        "print(f\"v.shape : {y_close.shape}\")\n",
        "print(f\"y_return.shape : {y_return.shape}\")"
      ],
      "metadata": {
        "colab": {
          "base_uri": "https://localhost:8080/"
        },
        "id": "SSn4haUzF3Wd",
        "outputId": "3f5691c4-8caf-466f-9cc1-32b44da9e818"
      },
      "execution_count": null,
      "outputs": [
        {
          "output_type": "stream",
          "name": "stdout",
          "text": [
            "x_close.shape : (2448, 20)\n",
            "x_return.shape : (2448, 19)\n",
            "v.shape : (2448, 1)\n",
            "y_return.shape : (2448, 1)\n"
          ]
        }
      ]
    },
    {
      "cell_type": "code",
      "source": [
        "_, _, x_close_test, _, _, y_close_test = split(x_close, y_close, 0.8, 0.1)"
      ],
      "metadata": {
        "id": "9RSLXy59U4Wy"
      },
      "execution_count": null,
      "outputs": []
    },
    {
      "cell_type": "code",
      "source": [
        "x_train, x_val, x_test, y_train, y_val, y_test = split(x_return, y_return, 0.8, 0.1)\n",
        "print(len(x_train))\n",
        "print(len(x_test))\n",
        "print(len(x_val))"
      ],
      "metadata": {
        "colab": {
          "base_uri": "https://localhost:8080/"
        },
        "id": "qxYxXfUlNiDQ",
        "outputId": "b950aa0a-6c95-4918-f280-63bad65caf42"
      },
      "execution_count": null,
      "outputs": [
        {
          "output_type": "stream",
          "name": "stdout",
          "text": [
            "1958\n",
            "244\n",
            "246\n"
          ]
        }
      ]
    },
    {
      "cell_type": "code",
      "source": [
        "x_train.reshape(-1,1)"
      ],
      "metadata": {
        "colab": {
          "base_uri": "https://localhost:8080/"
        },
        "id": "b-z28JZiOJmn",
        "outputId": "4055ae34-c08e-4322-d21c-8eecb8b5d706"
      },
      "execution_count": null,
      "outputs": [
        {
          "output_type": "execute_result",
          "data": {
            "text/plain": [
              "array([[ 0.00714286],\n",
              "       [-0.00714286],\n",
              "       [-0.02142857],\n",
              "       ...,\n",
              "       [-0.12179487],\n",
              "       [-0.12820513],\n",
              "       [-0.14102564]])"
            ]
          },
          "metadata": {},
          "execution_count": 100
        }
      ]
    },
    {
      "cell_type": "code",
      "source": [
        "y_test"
      ],
      "metadata": {
        "colab": {
          "base_uri": "https://localhost:8080/"
        },
        "id": "aNwh6pznOfHv",
        "outputId": "da090638-822a-4e3a-e4f8-ba4823198fed"
      },
      "execution_count": null,
      "outputs": [
        {
          "output_type": "execute_result",
          "data": {
            "text/plain": [
              "array([[ 0.05555556],\n",
              "       [ 0.06293706],\n",
              "       [ 0.07042254],\n",
              "       [ 0.06382979],\n",
              "       [ 0.0647482 ],\n",
              "       [ 0.07971014],\n",
              "       [ 0.04195804],\n",
              "       [ 0.07142857],\n",
              "       [ 0.02083333],\n",
              "       [ 0.02758621],\n",
              "       [ 0.02068966],\n",
              "       [ 0.02083333],\n",
              "       [-0.00680272],\n",
              "       [ 0.02702703],\n",
              "       [ 0.11034483],\n",
              "       [ 0.14482759],\n",
              "       [ 0.12666667],\n",
              "       [ 0.11842105],\n",
              "       [ 0.09090909],\n",
              "       [ 0.09868421],\n",
              "       [ 0.09210526],\n",
              "       [ 0.16447368],\n",
              "       [ 0.25657895],\n",
              "       [ 0.24      ],\n",
              "       [ 0.24324324],\n",
              "       [ 0.24161074],\n",
              "       [ 0.2147651 ],\n",
              "       [ 0.21333333],\n",
              "       [ 0.24489796],\n",
              "       [ 0.23489933],\n",
              "       [ 0.22972973],\n",
              "       [ 0.23809524],\n",
              "       [ 0.24657534],\n",
              "       [ 0.19736842],\n",
              "       [ 0.14285714],\n",
              "       [ 0.10843373],\n",
              "       [ 0.07692308],\n",
              "       [ 0.13529412],\n",
              "       [ 0.16666667],\n",
              "       [ 0.18562874],\n",
              "       [ 0.19277108],\n",
              "       [ 0.14689266],\n",
              "       [ 0.07329843],\n",
              "       [ 0.09677419],\n",
              "       [ 0.10869565],\n",
              "       [ 0.11891892],\n",
              "       [ 0.12154696],\n",
              "       [ 0.08241758],\n",
              "       [ 0.09836066],\n",
              "       [ 0.10869565],\n",
              "       [ 0.11538462],\n",
              "       [ 0.12087912],\n",
              "       [ 0.10989011],\n",
              "       [ 0.11538462],\n",
              "       [ 0.11956522],\n",
              "       [ 0.11956522],\n",
              "       [ 0.16483516],\n",
              "       [ 0.08290155],\n",
              "       [ 0.05612245],\n",
              "       [ 0.08585859],\n",
              "       [ 0.1010101 ],\n",
              "       [ 0.08374384],\n",
              "       [ 0.06341463],\n",
              "       [ 0.1127451 ],\n",
              "       [ 0.15196078],\n",
              "       [ 0.12077295],\n",
              "       [ 0.16748768],\n",
              "       [ 0.1928934 ],\n",
              "       [ 0.17412935],\n",
              "       [ 0.15686275],\n",
              "       [ 0.21182266],\n",
              "       [ 0.22058824],\n",
              "       [ 0.25      ],\n",
              "       [ 0.15763547],\n",
              "       [ 0.13106796],\n",
              "       [ 0.16019417],\n",
              "       [ 0.13207547],\n",
              "       [ 0.20813397],\n",
              "       [ 0.25603865],\n",
              "       [ 0.22093023],\n",
              "       [ 0.18119266],\n",
              "       [ 0.15909091],\n",
              "       [ 0.18119266],\n",
              "       [ 0.14537445],\n",
              "       [ 0.10638298],\n",
              "       [ 0.13146552],\n",
              "       [ 0.07594937],\n",
              "       [ 0.02553191],\n",
              "       [ 0.03813559],\n",
              "       [ 0.03813559],\n",
              "       [-0.00406504],\n",
              "       [-0.04417671],\n",
              "       [-0.05346535],\n",
              "       [ 0.03404255],\n",
              "       [ 0.03433476],\n",
              "       [ 0.        ],\n",
              "       [ 0.03333333],\n",
              "       [-0.07326733],\n",
              "       [-0.1       ],\n",
              "       [-0.11238095],\n",
              "       [-0.11456311],\n",
              "       [-0.09803922],\n",
              "       [-0.11456311],\n",
              "       [-0.12307692],\n",
              "       [-0.12692308],\n",
              "       [-0.13904762],\n",
              "       [-0.11764706],\n",
              "       [-0.07053942],\n",
              "       [-0.07346939],\n",
              "       [-0.08163265],\n",
              "       [-0.10204082],\n",
              "       [-0.08403361],\n",
              "       [-0.07949791],\n",
              "       [-0.08641975],\n",
              "       [-0.09128631],\n",
              "       [-0.08368201],\n",
              "       [-0.13306452],\n",
              "       [-0.08119658],\n",
              "       [-0.03418803],\n",
              "       [-0.01287554],\n",
              "       [-0.02192982],\n",
              "       [-0.02608696],\n",
              "       [-0.02192982],\n",
              "       [-0.03070175],\n",
              "       [-0.04845815],\n",
              "       [-0.04867257],\n",
              "       [-0.04      ],\n",
              "       [-0.04464286],\n",
              "       [-0.0660793 ],\n",
              "       [-0.07111111],\n",
              "       [-0.04545455],\n",
              "       [-0.04587156],\n",
              "       [-0.07272727],\n",
              "       [-0.07207207],\n",
              "       [-0.06392694],\n",
              "       [-0.05936073],\n",
              "       [-0.05116279],\n",
              "       [-0.05116279],\n",
              "       [-0.10176991],\n",
              "       [-0.11304348],\n",
              "       [-0.05381166],\n",
              "       [-0.08035714],\n",
              "       [-0.07623318],\n",
              "       [-0.07239819],\n",
              "       [-0.06018519],\n",
              "       [-0.05116279],\n",
              "       [-0.06018519],\n",
              "       [-0.05140187],\n",
              "       [-0.04716981],\n",
              "       [-0.05263158],\n",
              "       [-0.03809524],\n",
              "       [-0.02884615],\n",
              "       [-0.0245098 ],\n",
              "       [-0.01941748],\n",
              "       [-0.01463415],\n",
              "       [-0.00970874],\n",
              "       [ 0.        ],\n",
              "       [ 0.        ],\n",
              "       [-0.01477833],\n",
              "       [-0.0245098 ],\n",
              "       [-0.04739336],\n",
              "       [-0.03398058],\n",
              "       [-0.02912621],\n",
              "       [-0.02926829],\n",
              "       [-0.02463054],\n",
              "       [-0.01960784],\n",
              "       [ 0.02955665],\n",
              "       [ 0.06896552],\n",
              "       [ 0.05940594],\n",
              "       [ 0.08585859],\n",
              "       [ 0.07425743],\n",
              "       [ 0.03960396],\n",
              "       [ 0.02512563],\n",
              "       [-0.00990099],\n",
              "       [-0.01485149],\n",
              "       [-0.02941176],\n",
              "       [-0.03431373],\n",
              "       [-0.04901961],\n",
              "       [-0.02      ],\n",
              "       [-0.01507538],\n",
              "       [ 0.00497512],\n",
              "       [ 0.00502513],\n",
              "       [ 0.005     ],\n",
              "       [ 0.        ],\n",
              "       [ 0.00505051],\n",
              "       [-0.005     ],\n",
              "       [-0.03827751],\n",
              "       [-0.06451613],\n",
              "       [-0.06074766],\n",
              "       [-0.09302326],\n",
              "       [-0.09677419],\n",
              "       [-0.0047619 ],\n",
              "       [ 0.00490196],\n",
              "       [-0.005     ],\n",
              "       [-0.00502513],\n",
              "       [ 0.01515152],\n",
              "       [ 0.01522843],\n",
              "       [ 0.0257732 ],\n",
              "       [ 0.        ],\n",
              "       [-0.00510204],\n",
              "       [-0.06930693],\n",
              "       [-0.065     ],\n",
              "       [-0.07462687],\n",
              "       [-0.08040201],\n",
              "       [-0.08542714],\n",
              "       [-0.07537688],\n",
              "       [-0.09950249],\n",
              "       [-0.08866995],\n",
              "       [-0.06965174],\n",
              "       [-0.05128205],\n",
              "       [-0.04591837],\n",
              "       [-0.10526316],\n",
              "       [-0.08780488],\n",
              "       [-0.07035176],\n",
              "       [-0.07070707],\n",
              "       [-0.07960199],\n",
              "       [-0.085     ],\n",
              "       [-0.09547739],\n",
              "       [-0.07142857],\n",
              "       [-0.06666667],\n",
              "       [-0.0212766 ],\n",
              "       [-0.01604278],\n",
              "       [ 0.01075269],\n",
              "       [ 0.07103825],\n",
              "       [ 0.07142857],\n",
              "       [ 0.03804348],\n",
              "       [ 0.04972376],\n",
              "       [ 0.03243243],\n",
              "       [ 0.03743316],\n",
              "       [ 0.05945946],\n",
              "       [ 0.06951872],\n",
              "       [ 0.05882353],\n",
              "       [ 0.06417112],\n",
              "       [ 0.09189189],\n",
              "       [ 0.0923913 ],\n",
              "       [ 0.08648649],\n",
              "       [ 0.12021858],\n",
              "       [ 0.16111111],\n",
              "       [ 0.15384615],\n",
              "       [ 0.15384615],\n",
              "       [ 0.14130435],\n",
              "       [ 0.15217391],\n",
              "       [ 0.15957447],\n",
              "       [ 0.09693878]])"
            ]
          },
          "metadata": {},
          "execution_count": 101
        }
      ]
    },
    {
      "cell_type": "code",
      "source": [
        "min_max_scaler = preprocessing.MinMaxScaler().fit(x_train.reshape(-1,1))\n",
        "X_train_norm = min_max_scaler.transform(x_train.reshape(-1,1)).reshape(x_train.shape)\n",
        "Y_train_norm = min_max_scaler.transform(y_train.reshape(-1,1)).reshape(y_train.shape)\n",
        "X_val_norm = min_max_scaler.transform(x_val.reshape(-1,1)).reshape(x_val.shape)\n",
        "Y_val_norm = min_max_scaler.transform(y_val.reshape(-1,1)).reshape(y_val.shape)\n",
        "X_test_norm = min_max_scaler.transform(x_test.reshape(-1,1)).reshape(x_test.shape)\n",
        "Y_test_norm = min_max_scaler.transform(y_test.reshape(-1,1)).reshape(y_test.shape)\n",
        "\n",
        "print(f\"X_train_norm.shape : {X_train_norm.shape}\")\n",
        "print(f\"Y_train_norm.shape : {Y_train_norm.shape}\")\n",
        "print(f\"X_val_norm.shape : {X_val_norm.shape}\")\n",
        "print(f\"Y_val_norm.shape : {Y_val_norm.shape}\")\n",
        "print(f\"X_test_norm.shape : {X_test_norm.shape}\")\n",
        "print(f\"Y_test_norm.shape : {Y_test_norm.shape}\")"
      ],
      "metadata": {
        "colab": {
          "base_uri": "https://localhost:8080/"
        },
        "id": "DR8BdCBiF3cZ",
        "outputId": "2f86bae8-99b6-4ec8-dc7a-7c9f26867895"
      },
      "execution_count": null,
      "outputs": [
        {
          "output_type": "stream",
          "name": "stdout",
          "text": [
            "X_train_norm.shape : (1958, 19)\n",
            "Y_train_norm.shape : (1958, 1)\n",
            "X_val_norm.shape : (246, 19)\n",
            "Y_val_norm.shape : (246, 1)\n",
            "X_test_norm.shape : (244, 19)\n",
            "Y_test_norm.shape : (244, 1)\n"
          ]
        }
      ]
    },
    {
      "cell_type": "code",
      "source": [
        ""
      ],
      "metadata": {
        "id": "dBZgkT9sRbIX"
      },
      "execution_count": null,
      "outputs": []
    },
    {
      "cell_type": "code",
      "source": [
        "x_train_norm = X_train_norm.astype(np.float32)\n",
        "y_train_norm = Y_train_norm.astype(np.float32)\n",
        "x_val_norm = X_val_norm.astype(np.float32)\n",
        "y_val_norm = Y_val_norm.astype(np.float32)\n",
        "x_test_norm = X_test_norm.astype(np.float32)"
      ],
      "metadata": {
        "id": "pTMlhfHiQbpY"
      },
      "execution_count": null,
      "outputs": []
    },
    {
      "cell_type": "code",
      "source": [
        "# len_t = len(x_train)\n",
        "# len_v = len(x_val)"
      ],
      "metadata": {
        "id": "S8HOySItF3iX"
      },
      "execution_count": null,
      "outputs": []
    },
    {
      "cell_type": "code",
      "source": [
        "# x_train_norm = np.array(x_train_norm)\n",
        "# test_X = np.array(x_test)\n",
        "# train_label = np.array(y_train)\n",
        "# test_label = np.array(y_test)\n",
        "# train_val = np.array(x_val)\n",
        "# test_val = np.array(y_val)"
      ],
      "metadata": {
        "id": "NKkMakj5F3lI"
      },
      "execution_count": null,
      "outputs": []
    },
    {
      "cell_type": "code",
      "source": [
        "X_train_norm = X_train_norm.reshape(X_train_norm.shape[0],1,window_size-1,1)\n",
        "X_val_norm = X_val_norm.reshape(X_val_norm.shape[0],1,window_size-1,1)\n",
        "X_test_norm = x_test_norm.reshape(X_test_norm.shape[0],1,window_size-1,1)"
      ],
      "metadata": {
        "id": "QhvOFFKqF3n3"
      },
      "execution_count": null,
      "outputs": []
    },
    {
      "cell_type": "code",
      "source": [
        "print(f\"X_train_norm.shape : {X_train_norm.shape}\")\n",
        "print(f\"Y_train_norm.shape : {Y_train_norm.shape}\")\n",
        "print(f\"X_val_norm.shape : {X_val_norm.shape}\")\n",
        "print(f\"Y_val_norm.shape : {Y_val_norm.shape}\")\n",
        "print(f\"X_test_norm.shape : {X_test_norm.shape}\")\n",
        "print(f\"Y_test_norm.shape : {Y_test_norm.shape}\")"
      ],
      "metadata": {
        "colab": {
          "base_uri": "https://localhost:8080/"
        },
        "id": "8lp4AHYySEGr",
        "outputId": "dcf159e1-9f2b-4578-e5a9-fb11705018c2"
      },
      "execution_count": null,
      "outputs": [
        {
          "output_type": "stream",
          "name": "stdout",
          "text": [
            "X_train_norm.shape : (1958, 1, 19, 1)\n",
            "Y_train_norm.shape : (1958, 1)\n",
            "X_val_norm.shape : (246, 1, 19, 1)\n",
            "Y_val_norm.shape : (246, 1)\n",
            "X_test_norm.shape : (244, 1, 19, 1)\n",
            "Y_test_norm.shape : (244, 1)\n"
          ]
        }
      ]
    },
    {
      "cell_type": "code",
      "source": [
        ""
      ],
      "metadata": {
        "id": "kX9kGW1NF3rA"
      },
      "execution_count": null,
      "outputs": []
    },
    {
      "cell_type": "markdown",
      "source": [
        "#Run Model"
      ],
      "metadata": {
        "id": "eoasNWFeIvui"
      }
    },
    {
      "cell_type": "code",
      "source": [
        "print(f\"X_train_norm.shape : {X_train_norm.shape}\")\n",
        "print(f\"Y_train_norm.shape : {Y_train_norm.shape}\")\n",
        "print(f\"X_val_norm.shape : {X_val_norm.shape}\")\n",
        "print(f\"Y_val_norm.shape : {Y_val_norm.shape}\")\n",
        "print(f\"X_test_norm.shape : {X_test_norm.shape}\")\n",
        "print(f\"Y_test_norm.shape : {Y_test_norm.shape}\")"
      ],
      "metadata": {
        "colab": {
          "base_uri": "https://localhost:8080/"
        },
        "id": "Vd5gjzk7Tq66",
        "outputId": "ef7e00f2-6aea-4319-aa9d-038e081fc973"
      },
      "execution_count": null,
      "outputs": [
        {
          "output_type": "stream",
          "name": "stdout",
          "text": [
            "X_train_norm.shape : (1958, 1, 19, 1)\n",
            "Y_train_norm.shape : (1958, 1)\n",
            "X_val_norm.shape : (246, 1, 19, 1)\n",
            "Y_val_norm.shape : (246, 1)\n",
            "X_test_norm.shape : (244, 1, 19, 1)\n",
            "Y_test_norm.shape : (244, 1)\n"
          ]
        }
      ]
    },
    {
      "cell_type": "code",
      "source": [
        "model = Sequential()\n",
        "#add model layers\n",
        "model.add(TimeDistributed(Conv1D(128, kernel_size=1, activation='relu', input_shape=(None,50,1))))\n",
        "model.add(TimeDistributed(MaxPooling1D(2)))\n",
        "model.add(TimeDistributed(Conv1D(256, kernel_size=1, activation='relu')))\n",
        "model.add(TimeDistributed(MaxPooling1D(2)))\n",
        "model.add(TimeDistributed(Conv1D(512, kernel_size=1, activation='relu')))\n",
        "model.add(TimeDistributed(MaxPooling1D(2)))\n",
        "model.add(TimeDistributed(Flatten()))\n",
        "model.add(Bidirectional(LSTM(200,return_sequences=True)))\n",
        "model.add(Dropout(0.3))\n",
        "model.add(Bidirectional(LSTM(200,return_sequences=False)))\n",
        "model.add(Dropout(0.3))\n",
        "model.add(Dense(1, activation='linear'))\n",
        "model.compile(optimizer='Nadam', loss='mse')\n",
        "K.set_value(model.optimizer.learning_rate, 0.0001)\n",
        "model.fit(X_train_norm, Y_train_norm, validation_data=(X_val_norm,Y_val_norm), epochs=30,batch_size=64,shuffle =False)\n",
        "print(model.evaluate(X_val_norm,Y_val_norm))"
      ],
      "metadata": {
        "colab": {
          "base_uri": "https://localhost:8080/"
        },
        "id": "2EmIpFZVF3t-",
        "outputId": "4c804ddb-6777-4243-99ed-64ae64611bcb"
      },
      "execution_count": null,
      "outputs": [
        {
          "output_type": "stream",
          "name": "stdout",
          "text": [
            "Epoch 1/30\n",
            "31/31 [==============================] - 17s 193ms/step - loss: 0.1771 - val_loss: 0.0383\n",
            "Epoch 2/30\n",
            "31/31 [==============================] - 3s 111ms/step - loss: 0.0138 - val_loss: 0.0109\n",
            "Epoch 3/30\n",
            "31/31 [==============================] - 3s 109ms/step - loss: 0.0101 - val_loss: 0.0107\n",
            "Epoch 4/30\n",
            "31/31 [==============================] - 4s 139ms/step - loss: 0.0101 - val_loss: 0.0103\n",
            "Epoch 5/30\n",
            "31/31 [==============================] - 3s 112ms/step - loss: 0.0097 - val_loss: 0.0101\n",
            "Epoch 6/30\n",
            "31/31 [==============================] - 3s 110ms/step - loss: 0.0096 - val_loss: 0.0099\n",
            "Epoch 7/30\n",
            "31/31 [==============================] - 3s 111ms/step - loss: 0.0094 - val_loss: 0.0094\n",
            "Epoch 8/30\n",
            "31/31 [==============================] - 3s 111ms/step - loss: 0.0091 - val_loss: 0.0093\n",
            "Epoch 9/30\n",
            "31/31 [==============================] - 3s 112ms/step - loss: 0.0088 - val_loss: 0.0090\n",
            "Epoch 10/30\n",
            "31/31 [==============================] - 3s 110ms/step - loss: 0.0087 - val_loss: 0.0087\n",
            "Epoch 11/30\n",
            "31/31 [==============================] - 4s 126ms/step - loss: 0.0083 - val_loss: 0.0086\n",
            "Epoch 12/30\n",
            "31/31 [==============================] - 4s 131ms/step - loss: 0.0081 - val_loss: 0.0083\n",
            "Epoch 13/30\n",
            "31/31 [==============================] - 6s 183ms/step - loss: 0.0079 - val_loss: 0.0081\n",
            "Epoch 14/30\n",
            "31/31 [==============================] - 5s 153ms/step - loss: 0.0078 - val_loss: 0.0081\n",
            "Epoch 15/30\n",
            "31/31 [==============================] - 6s 205ms/step - loss: 0.0076 - val_loss: 0.0078\n",
            "Epoch 16/30\n",
            "31/31 [==============================] - 6s 183ms/step - loss: 0.0076 - val_loss: 0.0077\n",
            "Epoch 17/30\n",
            "31/31 [==============================] - 4s 117ms/step - loss: 0.0075 - val_loss: 0.0077\n",
            "Epoch 18/30\n",
            "31/31 [==============================] - 3s 108ms/step - loss: 0.0073 - val_loss: 0.0075\n",
            "Epoch 19/30\n",
            "31/31 [==============================] - 3s 108ms/step - loss: 0.0072 - val_loss: 0.0074\n",
            "Epoch 20/30\n",
            "31/31 [==============================] - 3s 110ms/step - loss: 0.0073 - val_loss: 0.0074\n",
            "Epoch 21/30\n",
            "31/31 [==============================] - 3s 109ms/step - loss: 0.0072 - val_loss: 0.0073\n",
            "Epoch 22/30\n",
            "31/31 [==============================] - 3s 108ms/step - loss: 0.0072 - val_loss: 0.0074\n",
            "Epoch 23/30\n",
            "31/31 [==============================] - 5s 160ms/step - loss: 0.0071 - val_loss: 0.0073\n",
            "Epoch 24/30\n",
            "31/31 [==============================] - 5s 153ms/step - loss: 0.0071 - val_loss: 0.0073\n",
            "Epoch 25/30\n",
            "31/31 [==============================] - 5s 161ms/step - loss: 0.0070 - val_loss: 0.0073\n",
            "Epoch 26/30\n",
            "31/31 [==============================] - 3s 107ms/step - loss: 0.0070 - val_loss: 0.0073\n",
            "Epoch 27/30\n",
            "31/31 [==============================] - 3s 108ms/step - loss: 0.0072 - val_loss: 0.0072\n",
            "Epoch 28/30\n",
            "31/31 [==============================] - 4s 132ms/step - loss: 0.0071 - val_loss: 0.0071\n",
            "Epoch 29/30\n",
            "31/31 [==============================] - 6s 179ms/step - loss: 0.0069 - val_loss: 0.0071\n",
            "Epoch 30/30\n",
            "31/31 [==============================] - 5s 159ms/step - loss: 0.0070 - val_loss: 0.0072\n",
            "8/8 [==============================] - 0s 12ms/step - loss: 0.0072\n",
            "0.0071604144759476185\n"
          ]
        }
      ]
    },
    {
      "cell_type": "code",
      "source": [
        "_, _, x_close_test, _, _, y_close_test = split(x_close, y_close, 0.8, 0.1)"
      ],
      "metadata": {
        "id": "71LTSvPkYlXn"
      },
      "execution_count": null,
      "outputs": []
    },
    {
      "cell_type": "code",
      "source": [
        "x_close_test.shape"
      ],
      "metadata": {
        "colab": {
          "base_uri": "https://localhost:8080/"
        },
        "id": "akujA5ssYuC-",
        "outputId": "2c53afaf-ca56-4b79-97b1-a0c477d6a6f6"
      },
      "execution_count": null,
      "outputs": [
        {
          "output_type": "execute_result",
          "data": {
            "text/plain": [
              "(244, 20)"
            ]
          },
          "metadata": {},
          "execution_count": 112
        }
      ]
    },
    {
      "cell_type": "code",
      "source": [
        "predicted  = model.predict(X_test_norm)\n",
        "predicted = min_max_scaler.inverse_transform(predicted)\n",
        "predicted = np.array(predicted[:,0]).reshape(-1,1)\n",
        "predicted_price = (x_close_test[:,-1].reshape(-1,1)*(1+predicted)) # Return --> Price from P-20 x (1+return)\n",
        "plt.figure(figsize=(15,5))\n",
        "plt.plot(y_close_test, color = 'black', label = ' BCH Price')\n",
        "plt.plot(predicted_price, color = 'green', label = 'Predicted  BCH Price')\n",
        "plt.title(' BCH Price Prediction')\n",
        "plt.xlabel('Time')\n",
        "plt.ylabel(' BCH Price')\n",
        "plt.legend()\n",
        "plt.show()"
      ],
      "metadata": {
        "colab": {
          "base_uri": "https://localhost:8080/",
          "height": 350
        },
        "id": "9ACvgY44YGkM",
        "outputId": "5f80f4ab-f9f1-4616-eb13-7f314f696916"
      },
      "execution_count": null,
      "outputs": [
        {
          "output_type": "display_data",
          "data": {
            "text/plain": [
              "<Figure size 1080x360 with 1 Axes>"
            ],
            "image/png": "[encoded data removed]"
          },
          "metadata": {
            "needs_background": "light"
          }
        }
      ]
    },
    {
      "cell_type": "code",
      "source": [
        "#Normal case\n",
        "mse = mean_squared_error(y_close_test,predicted_price)\n",
        "mae = mean_absolute_error(y_close_test,predicted_price)\n",
        "\n",
        "\n",
        "\n",
        "print(f\"mean_squared_error : {mse}\")\n",
        "print(f\"mean_absolute_error : {mae}\")"
      ],
      "metadata": {
        "colab": {
          "base_uri": "https://localhost:8080/"
        },
        "id": "vZyWNytoF3z8",
        "outputId": "7f739eed-8d47-4938-e44d-4805f607df4d"
      },
      "execution_count": null,
      "outputs": [
        {
          "output_type": "stream",
          "name": "stdout",
          "text": [
            "mean_squared_error : 3.2655437348885146\n",
            "mean_absolute_error : 1.3588811477432485\n"
          ]
        }
      ]
    },
    {
      "cell_type": "code",
      "source": [
        "y = pd.DataFrame(predicted_price)\n",
        "y"
      ],
      "metadata": {
        "colab": {
          "base_uri": "https://localhost:8080/",
          "height": 423
        },
        "id": "by68eMfoJ9BL",
        "outputId": "8e7c06a3-74df-4ddd-a1d5-f9b82b21bfbe"
      },
      "execution_count": null,
      "outputs": [
        {
          "output_type": "execute_result",
          "data": {
            "text/plain": [
              "             0\n",
              "0    15.279260\n",
              "1    15.606723\n",
              "2    15.945556\n",
              "3    16.072237\n",
              "4    16.133870\n",
              "..         ...\n",
              "239  22.655613\n",
              "240  22.731668\n",
              "241  23.205834\n",
              "242  23.010005\n",
              "243  22.584579\n",
              "\n",
              "[244 rows x 1 columns]"
            ],
            "text/html": [
              "\n",
              "  <div id=\"df-90d373b6-d97f-4256-afb6-1f6c1497fa45\">\n",
              "    <div class=\"colab-df-container\">\n",
              "      <div>\n",
              "<style scoped>\n",
              "    .dataframe tbody tr th:only-of-type {\n",
              "        vertical-align: middle;\n",
              "    }\n",
              "\n",
              "    .dataframe tbody tr th {\n",
              "        vertical-align: top;\n",
              "    }\n",
              "\n",
              "    .dataframe thead th {\n",
              "        text-align: right;\n",
              "    }\n",
              "</style>\n",
              "<table border=\"1\" class=\"dataframe\">\n",
              "  <thead>\n",
              "    <tr style=\"text-align: right;\">\n",
              "      <th></th>\n",
              "      <th>0</th>\n",
              "    </tr>\n",
              "  </thead>\n",
              "  <tbody>\n",
              "    <tr>\n",
              "      <th>0</th>\n",
              "      <td>15.279260</td>\n",
              "    </tr>\n",
              "    <tr>\n",
              "      <th>1</th>\n",
              "      <td>15.606723</td>\n",
              "    </tr>\n",
              "    <tr>\n",
              "      <th>2</th>\n",
              "      <td>15.945556</td>\n",
              "    </tr>\n",
              "    <tr>\n",
              "      <th>3</th>\n",
              "      <td>16.072237</td>\n",
              "    </tr>\n",
              "    <tr>\n",
              "      <th>4</th>\n",
              "      <td>16.133870</td>\n",
              "    </tr>\n",
              "    <tr>\n",
              "      <th>...</th>\n",
              "      <td>...</td>\n",
              "    </tr>\n",
              "    <tr>\n",
              "      <th>239</th>\n",
              "      <td>22.655613</td>\n",
              "    </tr>\n",
              "    <tr>\n",
              "      <th>240</th>\n",
              "      <td>22.731668</td>\n",
              "    </tr>\n",
              "    <tr>\n",
              "      <th>241</th>\n",
              "      <td>23.205834</td>\n",
              "    </tr>\n",
              "    <tr>\n",
              "      <th>242</th>\n",
              "      <td>23.010005</td>\n",
              "    </tr>\n",
              "    <tr>\n",
              "      <th>243</th>\n",
              "      <td>22.584579</td>\n",
              "    </tr>\n",
              "  </tbody>\n",
              "</table>\n",
              "<p>244 rows × 1 columns</p>\n",
              "</div>\n",
              "      <button class=\"colab-df-convert\" onclick=\"convertToInteractive('df-90d373b6-d97f-4256-afb6-1f6c1497fa45')\"\n",
              "              title=\"Convert this dataframe to an interactive table.\"\n",
              "              style=\"display:none;\">\n",
              "        \n",
              "  <svg xmlns=\"http://www.w3.org/2000/svg\" height=\"24px\"viewBox=\"0 0 24 24\"\n",
              "       width=\"24px\">\n",
              "    <path d=\"M0 0h24v24H0V0z\" fill=\"none\"/>\n",
              "    <path d=\"M18.56 5.44l.94 2.06.94-2.06 2.06-.94-2.06-.94-.94-2.06-.94 2.06-2.06.94zm-11 1L8.5 8.5l.94-2.06 2.06-.94-2.06-.94L8.5 2.5l-.94 2.06-2.06.94zm10 10l.94 2.06.94-2.06 2.06-.94-2.06-.94-.94-2.06-.94 2.06-2.06.94z\"/><path d=\"M17.41 7.96l-1.37-1.37c-.4-.4-.92-.59-1.43-.59-.52 0-1.04.2-1.43.59L10.3 9.45l-7.72 7.72c-.78.78-.78 2.05 0 2.83L4 21.41c.39.39.9.59 1.41.59.51 0 1.02-.2 1.41-.59l7.78-7.78 2.81-2.81c.8-.78.8-2.07 0-2.86zM5.41 20L4 18.59l7.72-7.72 1.47 1.35L5.41 20z\"/>\n",
              "  </svg>\n",
              "      </button>\n",
              "      \n",
              "  <style>\n",
              "    .colab-df-container {\n",
              "      display:flex;\n",
              "      flex-wrap:wrap;\n",
              "      gap: 12px;\n",
              "    }\n",
              "\n",
              "    .colab-df-convert {\n",
              "      background-color: #E8F0FE;\n",
              "      border: none;\n",
              "      border-radius: 50%;\n",
              "      cursor: pointer;\n",
              "      display: none;\n",
              "      fill: #1967D2;\n",
              "      height: 32px;\n",
              "      padding: 0 0 0 0;\n",
              "      width: 32px;\n",
              "    }\n",
              "\n",
              "    .colab-df-convert:hover {\n",
              "      background-color: #E2EBFA;\n",
              "      box-shadow: 0px 1px 2px rgba(60, 64, 67, 0.3), 0px 1px 3px 1px rgba(60, 64, 67, 0.15);\n",
              "      fill: #174EA6;\n",
              "    }\n",
              "\n",
              "    [theme=dark] .colab-df-convert {\n",
              "      background-color: #3B4455;\n",
              "      fill: #D2E3FC;\n",
              "    }\n",
              "\n",
              "    [theme=dark] .colab-df-convert:hover {\n",
              "      background-color: #434B5C;\n",
              "      box-shadow: 0px 1px 3px 1px rgba(0, 0, 0, 0.15);\n",
              "      filter: drop-shadow(0px 1px 2px rgba(0, 0, 0, 0.3));\n",
              "      fill: #FFFFFF;\n",
              "    }\n",
              "  </style>\n",
              "\n",
              "      <script>\n",
              "        const buttonEl =\n",
              "          document.querySelector('#df-90d373b6-d97f-4256-afb6-1f6c1497fa45 button.colab-df-convert');\n",
              "        buttonEl.style.display =\n",
              "          google.colab.kernel.accessAllowed ? 'block' : 'none';\n",
              "\n",
              "        async function convertToInteractive(key) {\n",
              "          const element = document.querySelector('#df-90d373b6-d97f-4256-afb6-1f6c1497fa45');\n",
              "          const dataTable =\n",
              "            await google.colab.kernel.invokeFunction('convertToInteractive',\n",
              "                                                     [key], {});\n",
              "          if (!dataTable) return;\n",
              "\n",
              "          const docLinkHtml = 'Like what you see? Visit the ' +\n",
              "            '<a target=\"_blank\" href=https://colab.research.google.com/notebooks/data_table.ipynb>data table notebook</a>'\n",
              "            + ' to learn more about interactive tables.';\n",
              "          element.innerHTML = '';\n",
              "          dataTable['output_type'] = 'display_data';\n",
              "          await google.colab.output.renderOutput(dataTable, element);\n",
              "          const docLink = document.createElement('div');\n",
              "          docLink.innerHTML = docLinkHtml;\n",
              "          element.appendChild(docLink);\n",
              "        }\n",
              "      </script>\n",
              "    </div>\n",
              "  </div>\n",
              "  "
            ]
          },
          "metadata": {},
          "execution_count": 119
        }
      ]
    },
    {
      "cell_type": "code",
      "source": [
        "y.to_excel (r'/content/drive/MyDrive/Colab Notebooks/BADS7604_Deep_Learning/Project3/return1.xlsx', index = False, header=True)"
      ],
      "metadata": {
        "id": "RlNBVhYAJ9ry"
      },
      "execution_count": null,
      "outputs": []
    },
    {
      "cell_type": "code",
      "source": [
        "test_label"
      ],
      "metadata": {
        "colab": {
          "base_uri": "https://localhost:8080/"
        },
        "id": "QabfUOHBKJ8X",
        "outputId": "9141406e-63e0-41bc-d62c-8707175045b9"
      },
      "execution_count": null,
      "outputs": [
        {
          "output_type": "execute_result",
          "data": {
            "text/plain": [
              "array([[11.99404762],\n",
              "       [12.61764706],\n",
              "       [12.76752137],\n",
              "       [12.16735537],\n",
              "       [12.        ],\n",
              "       [12.16386555],\n",
              "       [12.10084034],\n",
              "       [11.8625    ],\n",
              "       [11.58181818],\n",
              "       [10.32580645],\n",
              "       [10.84285714],\n",
              "       [10.31625   ],\n",
              "       [10.44752066],\n",
              "       [10.90384615],\n",
              "       [10.925     ],\n",
              "       [11.72863636],\n",
              "       [11.50045872],\n",
              "       [12.03076923],\n",
              "       [11.82352941],\n",
              "       [11.54854369],\n",
              "       [10.51076923],\n",
              "       [11.19487179],\n",
              "       [ 9.92783505],\n",
              "       [10.02461538],\n",
              "       [10.65260417],\n",
              "       [10.63212435],\n",
              "       [11.68958333],\n",
              "       [ 9.83897436],\n",
              "       [ 9.97346939],\n",
              "       [10.56494845],\n",
              "       [11.57486631],\n",
              "       [11.35449735],\n",
              "       [10.77305699],\n",
              "       [11.0984127 ],\n",
              "       [11.29473684],\n",
              "       [11.92896175],\n",
              "       [12.09508197],\n",
              "       [13.17119565],\n",
              "       [13.46388889],\n",
              "       [13.11147541],\n",
              "       [13.54644809],\n",
              "       [13.17081081],\n",
              "       [14.28611111],\n",
              "       [13.56464088],\n",
              "       [12.84530387],\n",
              "       [13.46388889],\n",
              "       [13.41878453],\n",
              "       [13.24475138],\n",
              "       [13.27292818],\n",
              "       [13.3726776 ],\n",
              "       [13.14054054],\n",
              "       [13.24162162],\n",
              "       [13.79347826],\n",
              "       [14.14673913],\n",
              "       [14.07027027],\n",
              "       [13.51567568],\n",
              "       [13.44301075],\n",
              "       [13.31243243],\n",
              "       [14.09837838],\n",
              "       [14.04946237],\n",
              "       [14.20054054],\n",
              "       [14.02258065],\n",
              "       [13.96756757],\n",
              "       [13.92096774],\n",
              "       [14.42903226],\n",
              "       [14.89189189],\n",
              "       [14.43152174],\n",
              "       [14.38251366],\n",
              "       [14.77142857],\n",
              "       [14.68858696],\n",
              "       [14.65508021],\n",
              "       [14.45294118],\n",
              "       [14.57712766],\n",
              "       [14.32421053],\n",
              "       [14.44631579],\n",
              "       [14.85638298],\n",
              "       [14.67765957],\n",
              "       [14.4       ],\n",
              "       [14.1       ],\n",
              "       [14.27553191],\n",
              "       [14.17460317],\n",
              "       [14.37566138],\n",
              "       [14.41210526],\n",
              "       [14.32380952],\n",
              "       [14.88359788],\n",
              "       [14.65263158],\n",
              "       [14.5       ],\n",
              "       [14.5       ],\n",
              "       [15.11489362],\n",
              "       [15.03492063],\n",
              "       [15.05767196],\n",
              "       [14.98624339],\n",
              "       [14.97883598],\n",
              "       [15.15873016],\n",
              "       [15.01276596],\n",
              "       [15.03368421],\n",
              "       [14.93333333],\n",
              "       [15.01276596],\n",
              "       [15.15873016],\n",
              "       [15.29417989],\n",
              "       [15.29210526],\n",
              "       [14.70315789],\n",
              "       [14.27918782],\n",
              "       [15.05520833],\n",
              "       [14.7       ],\n",
              "       [14.6234375 ],\n",
              "       [14.22834225],\n",
              "       [14.15265957],\n",
              "       [14.0875    ],\n",
              "       [13.95208333],\n",
              "       [14.00732984],\n",
              "       [13.97835052],\n",
              "       [14.28947368],\n",
              "       [14.29319372],\n",
              "       [14.59791667],\n",
              "       [14.89948187],\n",
              "       [14.95      ],\n",
              "       [14.69270833],\n",
              "       [14.85078534],\n",
              "       [14.44742268],\n",
              "       [14.45230769],\n",
              "       [14.10309278],\n",
              "       [14.19587629],\n",
              "       [13.91752577],\n",
              "       [14.08814433],\n",
              "       [14.29319372],\n",
              "       [15.08287293],\n",
              "       [15.18342541],\n",
              "       [15.8       ],\n",
              "       [15.75690608],\n",
              "       [15.13186813],\n",
              "       [14.93406593],\n",
              "       [15.08287293],\n",
              "       [15.51428571],\n",
              "       [15.08241758],\n",
              "       [14.83516484],\n",
              "       [14.85380435],\n",
              "       [14.9       ],\n",
              "       [15.08196721],\n",
              "       [15.63626374],\n",
              "       [15.04262295],\n",
              "       [14.84333333],\n",
              "       [14.35777778],\n",
              "       [14.72      ],\n",
              "       [14.5       ],\n",
              "       [15.8032967 ],\n",
              "       [16.75164835],\n",
              "       [16.68571429],\n",
              "       [16.02826087],\n",
              "       [15.47282609],\n",
              "       [15.57333333],\n",
              "       [15.54722222],\n",
              "       [15.72307692],\n",
              "       [14.89834254],\n",
              "       [14.10163934],\n",
              "       [13.85222222],\n",
              "       [13.62430939],\n",
              "       [14.04395604],\n",
              "       [13.94673913],\n",
              "       [13.52634409],\n",
              "       [13.83870968],\n",
              "       [14.14371585],\n",
              "       [14.27802198],\n",
              "       [14.16521739],\n",
              "       [14.07734807],\n",
              "       [12.49543147],\n",
              "       [11.81747573],\n",
              "       [11.78990385],\n",
              "       [12.5019802 ],\n",
              "       [12.80923077],\n",
              "       [13.584375  ],\n",
              "       [14.14507772],\n",
              "       [13.07091837],\n",
              "       [13.30206186],\n",
              "       [13.7       ],\n",
              "       [13.74945055],\n",
              "       [13.8       ],\n",
              "       [14.20888889],\n",
              "       [13.47417582],\n",
              "       [14.02209945],\n",
              "       [14.3       ],\n",
              "       [14.47955801],\n",
              "       [14.52021858],\n",
              "       [14.61878453],\n",
              "       [14.76043956],\n",
              "       [14.03535912],\n",
              "       [13.79664804],\n",
              "       [13.87877095],\n",
              "       [13.66775956],\n",
              "       [14.00552486],\n",
              "       [13.06666667],\n",
              "       [12.33230769],\n",
              "       [13.        ],\n",
              "       [12.69411765],\n",
              "       [12.27807487],\n",
              "       [12.375     ],\n",
              "       [12.45      ],\n",
              "       [12.32608696],\n",
              "       [12.3575419 ],\n",
              "       [12.21111111],\n",
              "       [11.94944444],\n",
              "       [11.74285714],\n",
              "       [11.67692308],\n",
              "       [11.65333333],\n",
              "       [11.4826087 ],\n",
              "       [12.04655172],\n",
              "       [11.99404762],\n",
              "       [11.93727811],\n",
              "       [11.78224852],\n",
              "       [11.96213018],\n",
              "       [12.53571429],\n",
              "       [12.70419162],\n",
              "       [12.16      ],\n",
              "       [12.04337349],\n",
              "       [12.3695122 ],\n",
              "       [12.29939394],\n",
              "       [12.54457831],\n",
              "       [12.69876543],\n",
              "       [13.11392405],\n",
              "       [13.27261146],\n",
              "       [12.47834395],\n",
              "       [12.73397436],\n",
              "       [12.99350649],\n",
              "       [12.89210526],\n",
              "       [12.88881579],\n",
              "       [12.71764706],\n",
              "       [12.55354839],\n",
              "       [13.36753247],\n",
              "       [13.73289474],\n",
              "       [13.82631579],\n",
              "       [13.19230769],\n",
              "       [12.82692308],\n",
              "       [12.70065789],\n",
              "       [13.51360544],\n",
              "       [13.5       ],\n",
              "       [13.5       ],\n",
              "       [12.78289474],\n",
              "       [13.32432432],\n",
              "       [13.61351351],\n",
              "       [13.34304636],\n",
              "       [13.8965035 ],\n",
              "       [13.51103448],\n",
              "       [13.70827586],\n",
              "       [14.19929577]])"
            ]
          },
          "metadata": {},
          "execution_count": 46
        }
      ]
    },
    {
      "cell_type": "code",
      "source": [
        ""
      ],
      "metadata": {
        "id": "_S-5pxmCK6r-"
      },
      "execution_count": null,
      "outputs": []
    }
  ]
}