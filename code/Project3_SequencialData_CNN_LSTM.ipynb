{
  "nbformat": 4,
  "nbformat_minor": 0,
  "metadata": {
    "colab": {
      "name": "Project3_SequencialData_CNN_LSTM.ipynb",
      "provenance": [],
      "collapsed_sections": [],
      "include_colab_link": true
    },
    "kernelspec": {
      "name": "python3",
      "display_name": "Python 3"
    },
    "language_info": {
      "name": "python"
    }
  },
  "cells": [
    {
      "cell_type": "markdown",
      "metadata": {
        "id": "view-in-github",
        "colab_type": "text"
      },
      "source": [
        "<a href=\"https://colab.research.google.com/github/BADS7604Group03/assignment3/blob/main/code/Project3_SequencialData_CNN_LSTM.ipynb\" target=\"_parent\"><img src=\"https://colab.research.google.com/assets/colab-badge.svg\" alt=\"Open In Colab\"/></a>"
      ]
    },
    {
      "cell_type": "markdown",
      "source": [
        "#Import Libraries"
      ],
      "metadata": {
        "id": "LYiivjn7F_kX"
      }
    },
    {
      "cell_type": "code",
      "execution_count": null,
      "metadata": {
        "id": "m--kzqKnFtX8"
      },
      "outputs": [],
      "source": [
        "import numpy as np\n",
        "import pandas as pd\n",
        "import tensorflow as tf\n",
        "from sklearn.model_selection import train_test_split\n",
        "from keras import backend as K\n",
        "from keras.models import Sequential\n",
        "from sklearn import preprocessing\n",
        "from keras.layers import Conv1D,Flatten,MaxPooling1D,Bidirectional,LSTM,Dropout,TimeDistributed,MaxPool2D\n",
        "from keras.layers import Dense,GlobalAveragePooling2D\n",
        "import matplotlib.pyplot as plt\n",
        "from sklearn.metrics import mean_squared_error,mean_absolute_error\n",
        "from sklearn import preprocessing"
      ]
    },
    {
      "cell_type": "code",
      "source": [
        ""
      ],
      "metadata": {
        "id": "b8ky7CShF28N"
      },
      "execution_count": null,
      "outputs": []
    },
    {
      "cell_type": "markdown",
      "source": [
        "#Define Functions"
      ],
      "metadata": {
        "id": "e_K2yTtAGHGF"
      }
    },
    {
      "cell_type": "code",
      "source": [
        "def split(x_array, y_array, ratio_train=0.8, ratio_test=0.1):\n",
        "  n_data = x_array.shape[0]\n",
        "  n_train = int(n_data * ratio_train)\n",
        "  n_test = int(n_data *ratio_test)\n",
        "  n_val = n_data -n_train -n_test\n",
        "  x_train, y_train = x_array[:n_train], y_array[:n_train]\n",
        "  x_val, y_val = x_array[n_train:n_train+n_val], y_array[n_train:n_train+n_val]\n",
        "  x_test, y_test = x_array[n_train+n_val:], y_array[n_train+n_val:]\n",
        "  return x_train, x_val, x_test, y_train, y_val, y_test"
      ],
      "metadata": {
        "id": "hHNHGKy9F2_M"
      },
      "execution_count": null,
      "outputs": []
    },
    {
      "cell_type": "code",
      "source": [
        "def window_return(val, window):\n",
        "  lst_x = []\n",
        "  lst_y = []\n",
        "  lst_x_return = []\n",
        "  lst_y_return = []\n",
        "  for i in range(0,len(val) - window -1,1):\n",
        "    first_price = val[i]\n",
        "    lst_x.append(val[i:i+window])\n",
        "    lst_y.append(val[i+window])\n",
        "    lst_x_return.append((val[i+1:i+window]-first_price)/first_price)\n",
        "    lst_y_return.append((val[i+window]-first_price)/first_price)\n",
        "  array_x_return = np.array(lst_x_return).reshape(-1,window-1)\n",
        "  array_y_return = np.array(lst_y_return).reshape(-1,1)\n",
        "  array_x = np.array(lst_x).reshape(-1,window)\n",
        "  array_y = np.array(lst_y).reshape(-1,1)\n",
        "  return array_x,array_x_return,array_y,array_y_return"
      ],
      "metadata": {
        "id": "EDvn2WrRF3CP"
      },
      "execution_count": null,
      "outputs": []
    },
    {
      "cell_type": "code",
      "source": [
        ""
      ],
      "metadata": {
        "id": "Mqid2HqQF3FE"
      },
      "execution_count": null,
      "outputs": []
    },
    {
      "cell_type": "markdown",
      "source": [
        "#Load Data"
      ],
      "metadata": {
        "id": "Qq4Wv5-vGV8C"
      }
    },
    {
      "cell_type": "code",
      "source": [
        "#mount my google drive\n",
        "from google.colab import drive\n",
        "drive.mount('/content/drive')"
      ],
      "metadata": {
        "colab": {
          "base_uri": "https://localhost:8080/"
        },
        "id": "C1ItSj6tF3IA",
        "outputId": "877ed5c4-2b66-4355-8f12-0db3288a2c08"
      },
      "execution_count": null,
      "outputs": [
        {
          "output_type": "stream",
          "name": "stdout",
          "text": [
            "Mounted at /content/drive\n"
          ]
        }
      ]
    },
    {
      "cell_type": "code",
      "source": [
        "path = \"/content/drive/MyDrive/Colab Notebooks/BADS7604_Deep_Learning/Project3/BCH OHLC 10Y.xlsx\"\n",
        "df_trans = pd.read_excel(path,sheet_name='Daily').sort_values(by='Date', ascending=True)\n",
        "df_trans.shape"
      ],
      "metadata": {
        "colab": {
          "base_uri": "https://localhost:8080/"
        },
        "id": "cE93mvu-F3K8",
        "outputId": "1523f873-ca7a-4b26-850f-85f483b8f3e6"
      },
      "execution_count": null,
      "outputs": [
        {
          "output_type": "execute_result",
          "data": {
            "text/plain": [
              "(2469, 6)"
            ]
          },
          "metadata": {},
          "execution_count": 11
        }
      ]
    },
    {
      "cell_type": "code",
      "source": [
        "df_trans.tail(10)"
      ],
      "metadata": {
        "colab": {
          "base_uri": "https://localhost:8080/",
          "height": 363
        },
        "id": "i8Oss-ziG7Sp",
        "outputId": "97944c50-f691-44e8-c151-ee87c44c4c50"
      },
      "execution_count": null,
      "outputs": [
        {
          "output_type": "execute_result",
          "data": {
            "text/plain": [
              "        Date  Last Price  Open Price  High Price  Low Price  \\\n",
              "9 2022-03-10        20.1        20.2        20.2       19.7   \n",
              "8 2022-03-11        20.5        20.0        20.6       20.0   \n",
              "7 2022-03-14        20.9        20.5        21.0       20.4   \n",
              "6 2022-03-15        21.0        21.0        21.2       20.8   \n",
              "5 2022-03-16        21.0        21.1        21.2       20.8   \n",
              "4 2022-03-17        21.0        20.9        21.3       20.9   \n",
              "3 2022-03-18        21.2        20.9        21.3       20.8   \n",
              "2 2022-03-21        21.8        21.4        21.9       21.3   \n",
              "1 2022-03-22        21.5        21.8        21.9       21.4   \n",
              "0 2022-03-23        21.3        21.5        21.8       21.3   \n",
              "\n",
              "   BCH TB Equity - Volume  \n",
              "9                46136188  \n",
              "8                24969364  \n",
              "7                46296824  \n",
              "6                35639216  \n",
              "5                21344752  \n",
              "4                21165356  \n",
              "3                23403892  \n",
              "2                31993000  \n",
              "1                15422907  \n",
              "0                13652618  "
            ],
            "text/html": [
              "\n",
              "  <div id=\"df-60684c77-6d58-4416-aa15-91afd71c22fe\">\n",
              "    <div class=\"colab-df-container\">\n",
              "      <div>\n",
              "<style scoped>\n",
              "    .dataframe tbody tr th:only-of-type {\n",
              "        vertical-align: middle;\n",
              "    }\n",
              "\n",
              "    .dataframe tbody tr th {\n",
              "        vertical-align: top;\n",
              "    }\n",
              "\n",
              "    .dataframe thead th {\n",
              "        text-align: right;\n",
              "    }\n",
              "</style>\n",
              "<table border=\"1\" class=\"dataframe\">\n",
              "  <thead>\n",
              "    <tr style=\"text-align: right;\">\n",
              "      <th></th>\n",
              "      <th>Date</th>\n",
              "      <th>Last Price</th>\n",
              "      <th>Open Price</th>\n",
              "      <th>High Price</th>\n",
              "      <th>Low Price</th>\n",
              "      <th>BCH TB Equity - Volume</th>\n",
              "    </tr>\n",
              "  </thead>\n",
              "  <tbody>\n",
              "    <tr>\n",
              "      <th>9</th>\n",
              "      <td>2022-03-10</td>\n",
              "      <td>20.1</td>\n",
              "      <td>20.2</td>\n",
              "      <td>20.2</td>\n",
              "      <td>19.7</td>\n",
              "      <td>46136188</td>\n",
              "    </tr>\n",
              "    <tr>\n",
              "      <th>8</th>\n",
              "      <td>2022-03-11</td>\n",
              "      <td>20.5</td>\n",
              "      <td>20.0</td>\n",
              "      <td>20.6</td>\n",
              "      <td>20.0</td>\n",
              "      <td>24969364</td>\n",
              "    </tr>\n",
              "    <tr>\n",
              "      <th>7</th>\n",
              "      <td>2022-03-14</td>\n",
              "      <td>20.9</td>\n",
              "      <td>20.5</td>\n",
              "      <td>21.0</td>\n",
              "      <td>20.4</td>\n",
              "      <td>46296824</td>\n",
              "    </tr>\n",
              "    <tr>\n",
              "      <th>6</th>\n",
              "      <td>2022-03-15</td>\n",
              "      <td>21.0</td>\n",
              "      <td>21.0</td>\n",
              "      <td>21.2</td>\n",
              "      <td>20.8</td>\n",
              "      <td>35639216</td>\n",
              "    </tr>\n",
              "    <tr>\n",
              "      <th>5</th>\n",
              "      <td>2022-03-16</td>\n",
              "      <td>21.0</td>\n",
              "      <td>21.1</td>\n",
              "      <td>21.2</td>\n",
              "      <td>20.8</td>\n",
              "      <td>21344752</td>\n",
              "    </tr>\n",
              "    <tr>\n",
              "      <th>4</th>\n",
              "      <td>2022-03-17</td>\n",
              "      <td>21.0</td>\n",
              "      <td>20.9</td>\n",
              "      <td>21.3</td>\n",
              "      <td>20.9</td>\n",
              "      <td>21165356</td>\n",
              "    </tr>\n",
              "    <tr>\n",
              "      <th>3</th>\n",
              "      <td>2022-03-18</td>\n",
              "      <td>21.2</td>\n",
              "      <td>20.9</td>\n",
              "      <td>21.3</td>\n",
              "      <td>20.8</td>\n",
              "      <td>23403892</td>\n",
              "    </tr>\n",
              "    <tr>\n",
              "      <th>2</th>\n",
              "      <td>2022-03-21</td>\n",
              "      <td>21.8</td>\n",
              "      <td>21.4</td>\n",
              "      <td>21.9</td>\n",
              "      <td>21.3</td>\n",
              "      <td>31993000</td>\n",
              "    </tr>\n",
              "    <tr>\n",
              "      <th>1</th>\n",
              "      <td>2022-03-22</td>\n",
              "      <td>21.5</td>\n",
              "      <td>21.8</td>\n",
              "      <td>21.9</td>\n",
              "      <td>21.4</td>\n",
              "      <td>15422907</td>\n",
              "    </tr>\n",
              "    <tr>\n",
              "      <th>0</th>\n",
              "      <td>2022-03-23</td>\n",
              "      <td>21.3</td>\n",
              "      <td>21.5</td>\n",
              "      <td>21.8</td>\n",
              "      <td>21.3</td>\n",
              "      <td>13652618</td>\n",
              "    </tr>\n",
              "  </tbody>\n",
              "</table>\n",
              "</div>\n",
              "      <button class=\"colab-df-convert\" onclick=\"convertToInteractive('df-60684c77-6d58-4416-aa15-91afd71c22fe')\"\n",
              "              title=\"Convert this dataframe to an interactive table.\"\n",
              "              style=\"display:none;\">\n",
              "        \n",
              "  <svg xmlns=\"http://www.w3.org/2000/svg\" height=\"24px\"viewBox=\"0 0 24 24\"\n",
              "       width=\"24px\">\n",
              "    <path d=\"M0 0h24v24H0V0z\" fill=\"none\"/>\n",
              "    <path d=\"M18.56 5.44l.94 2.06.94-2.06 2.06-.94-2.06-.94-.94-2.06-.94 2.06-2.06.94zm-11 1L8.5 8.5l.94-2.06 2.06-.94-2.06-.94L8.5 2.5l-.94 2.06-2.06.94zm10 10l.94 2.06.94-2.06 2.06-.94-2.06-.94-.94-2.06-.94 2.06-2.06.94z\"/><path d=\"M17.41 7.96l-1.37-1.37c-.4-.4-.92-.59-1.43-.59-.52 0-1.04.2-1.43.59L10.3 9.45l-7.72 7.72c-.78.78-.78 2.05 0 2.83L4 21.41c.39.39.9.59 1.41.59.51 0 1.02-.2 1.41-.59l7.78-7.78 2.81-2.81c.8-.78.8-2.07 0-2.86zM5.41 20L4 18.59l7.72-7.72 1.47 1.35L5.41 20z\"/>\n",
              "  </svg>\n",
              "      </button>\n",
              "      \n",
              "  <style>\n",
              "    .colab-df-container {\n",
              "      display:flex;\n",
              "      flex-wrap:wrap;\n",
              "      gap: 12px;\n",
              "    }\n",
              "\n",
              "    .colab-df-convert {\n",
              "      background-color: #E8F0FE;\n",
              "      border: none;\n",
              "      border-radius: 50%;\n",
              "      cursor: pointer;\n",
              "      display: none;\n",
              "      fill: #1967D2;\n",
              "      height: 32px;\n",
              "      padding: 0 0 0 0;\n",
              "      width: 32px;\n",
              "    }\n",
              "\n",
              "    .colab-df-convert:hover {\n",
              "      background-color: #E2EBFA;\n",
              "      box-shadow: 0px 1px 2px rgba(60, 64, 67, 0.3), 0px 1px 3px 1px rgba(60, 64, 67, 0.15);\n",
              "      fill: #174EA6;\n",
              "    }\n",
              "\n",
              "    [theme=dark] .colab-df-convert {\n",
              "      background-color: #3B4455;\n",
              "      fill: #D2E3FC;\n",
              "    }\n",
              "\n",
              "    [theme=dark] .colab-df-convert:hover {\n",
              "      background-color: #434B5C;\n",
              "      box-shadow: 0px 1px 3px 1px rgba(0, 0, 0, 0.15);\n",
              "      filter: drop-shadow(0px 1px 2px rgba(0, 0, 0, 0.3));\n",
              "      fill: #FFFFFF;\n",
              "    }\n",
              "  </style>\n",
              "\n",
              "      <script>\n",
              "        const buttonEl =\n",
              "          document.querySelector('#df-60684c77-6d58-4416-aa15-91afd71c22fe button.colab-df-convert');\n",
              "        buttonEl.style.display =\n",
              "          google.colab.kernel.accessAllowed ? 'block' : 'none';\n",
              "\n",
              "        async function convertToInteractive(key) {\n",
              "          const element = document.querySelector('#df-60684c77-6d58-4416-aa15-91afd71c22fe');\n",
              "          const dataTable =\n",
              "            await google.colab.kernel.invokeFunction('convertToInteractive',\n",
              "                                                     [key], {});\n",
              "          if (!dataTable) return;\n",
              "\n",
              "          const docLinkHtml = 'Like what you see? Visit the ' +\n",
              "            '<a target=\"_blank\" href=https://colab.research.google.com/notebooks/data_table.ipynb>data table notebook</a>'\n",
              "            + ' to learn more about interactive tables.';\n",
              "          element.innerHTML = '';\n",
              "          dataTable['output_type'] = 'display_data';\n",
              "          await google.colab.output.renderOutput(dataTable, element);\n",
              "          const docLink = document.createElement('div');\n",
              "          docLink.innerHTML = docLinkHtml;\n",
              "          element.appendChild(docLink);\n",
              "        }\n",
              "      </script>\n",
              "    </div>\n",
              "  </div>\n",
              "  "
            ]
          },
          "metadata": {},
          "execution_count": 89
        }
      ]
    },
    {
      "cell_type": "code",
      "source": [
        "df_trans.info()"
      ],
      "metadata": {
        "colab": {
          "base_uri": "https://localhost:8080/"
        },
        "id": "yO9fLZq6F3Ns",
        "outputId": "16583c5e-6b2d-417e-cd57-8b09bb182c1d"
      },
      "execution_count": null,
      "outputs": [
        {
          "output_type": "stream",
          "name": "stdout",
          "text": [
            "<class 'pandas.core.frame.DataFrame'>\n",
            "Int64Index: 2469 entries, 2468 to 0\n",
            "Data columns (total 6 columns):\n",
            " #   Column                  Non-Null Count  Dtype         \n",
            "---  ------                  --------------  -----         \n",
            " 0   Date                    2469 non-null   datetime64[ns]\n",
            " 1   Last Price              2469 non-null   float64       \n",
            " 2   Open Price              2469 non-null   float64       \n",
            " 3   High Price              2469 non-null   float64       \n",
            " 4   Low Price               2469 non-null   float64       \n",
            " 5   BCH TB Equity - Volume  2469 non-null   int64         \n",
            "dtypes: datetime64[ns](1), float64(4), int64(1)\n",
            "memory usage: 135.0 KB\n"
          ]
        }
      ]
    },
    {
      "cell_type": "code",
      "source": [
        "df_trans.describe(include='all',datetime_is_numeric=True)"
      ],
      "metadata": {
        "colab": {
          "base_uri": "https://localhost:8080/",
          "height": 300
        },
        "id": "saXHAL4gF3Tc",
        "outputId": "2697da98-5ce2-4185-d323-a4ea4d1e168a"
      },
      "execution_count": null,
      "outputs": [
        {
          "output_type": "execute_result",
          "data": {
            "text/plain": [
              "                                Date   Last Price   Open Price   High Price  \\\n",
              "count                           2469  2469.000000  2469.000000  2469.000000   \n",
              "mean   2017-02-27 01:08:14.289185792    12.585439    12.593718    12.770543   \n",
              "min              2012-02-09 00:00:00     5.360000     5.360000     5.440000   \n",
              "25%              2014-08-20 00:00:00     7.900000     7.900000     8.080000   \n",
              "50%              2017-02-28 00:00:00    13.100000    13.100000    13.300000   \n",
              "75%              2019-09-06 00:00:00    16.100000    16.100000    16.300000   \n",
              "max              2022-03-23 00:00:00    26.250000    26.500000    26.750000   \n",
              "std                              NaN     4.681297     4.688040     4.752978   \n",
              "\n",
              "         Low Price  BCH TB Equity - Volume  \n",
              "count  2469.000000            2.469000e+03  \n",
              "mean     12.416541            1.050543e+07  \n",
              "min       5.360000            1.911000e+05  \n",
              "25%       7.800000            3.712100e+06  \n",
              "50%      13.000000            7.320945e+06  \n",
              "75%      15.900000            1.296720e+07  \n",
              "max      25.750000            1.416106e+08  \n",
              "std       4.615918            1.151587e+07  "
            ],
            "text/html": [
              "\n",
              "  <div id=\"df-6ec1ada7-545f-4cbc-80ea-ab70ae2a04e1\">\n",
              "    <div class=\"colab-df-container\">\n",
              "      <div>\n",
              "<style scoped>\n",
              "    .dataframe tbody tr th:only-of-type {\n",
              "        vertical-align: middle;\n",
              "    }\n",
              "\n",
              "    .dataframe tbody tr th {\n",
              "        vertical-align: top;\n",
              "    }\n",
              "\n",
              "    .dataframe thead th {\n",
              "        text-align: right;\n",
              "    }\n",
              "</style>\n",
              "<table border=\"1\" class=\"dataframe\">\n",
              "  <thead>\n",
              "    <tr style=\"text-align: right;\">\n",
              "      <th></th>\n",
              "      <th>Date</th>\n",
              "      <th>Last Price</th>\n",
              "      <th>Open Price</th>\n",
              "      <th>High Price</th>\n",
              "      <th>Low Price</th>\n",
              "      <th>BCH TB Equity - Volume</th>\n",
              "    </tr>\n",
              "  </thead>\n",
              "  <tbody>\n",
              "    <tr>\n",
              "      <th>count</th>\n",
              "      <td>2469</td>\n",
              "      <td>2469.000000</td>\n",
              "      <td>2469.000000</td>\n",
              "      <td>2469.000000</td>\n",
              "      <td>2469.000000</td>\n",
              "      <td>2.469000e+03</td>\n",
              "    </tr>\n",
              "    <tr>\n",
              "      <th>mean</th>\n",
              "      <td>2017-02-27 01:08:14.289185792</td>\n",
              "      <td>12.585439</td>\n",
              "      <td>12.593718</td>\n",
              "      <td>12.770543</td>\n",
              "      <td>12.416541</td>\n",
              "      <td>1.050543e+07</td>\n",
              "    </tr>\n",
              "    <tr>\n",
              "      <th>min</th>\n",
              "      <td>2012-02-09 00:00:00</td>\n",
              "      <td>5.360000</td>\n",
              "      <td>5.360000</td>\n",
              "      <td>5.440000</td>\n",
              "      <td>5.360000</td>\n",
              "      <td>1.911000e+05</td>\n",
              "    </tr>\n",
              "    <tr>\n",
              "      <th>25%</th>\n",
              "      <td>2014-08-20 00:00:00</td>\n",
              "      <td>7.900000</td>\n",
              "      <td>7.900000</td>\n",
              "      <td>8.080000</td>\n",
              "      <td>7.800000</td>\n",
              "      <td>3.712100e+06</td>\n",
              "    </tr>\n",
              "    <tr>\n",
              "      <th>50%</th>\n",
              "      <td>2017-02-28 00:00:00</td>\n",
              "      <td>13.100000</td>\n",
              "      <td>13.100000</td>\n",
              "      <td>13.300000</td>\n",
              "      <td>13.000000</td>\n",
              "      <td>7.320945e+06</td>\n",
              "    </tr>\n",
              "    <tr>\n",
              "      <th>75%</th>\n",
              "      <td>2019-09-06 00:00:00</td>\n",
              "      <td>16.100000</td>\n",
              "      <td>16.100000</td>\n",
              "      <td>16.300000</td>\n",
              "      <td>15.900000</td>\n",
              "      <td>1.296720e+07</td>\n",
              "    </tr>\n",
              "    <tr>\n",
              "      <th>max</th>\n",
              "      <td>2022-03-23 00:00:00</td>\n",
              "      <td>26.250000</td>\n",
              "      <td>26.500000</td>\n",
              "      <td>26.750000</td>\n",
              "      <td>25.750000</td>\n",
              "      <td>1.416106e+08</td>\n",
              "    </tr>\n",
              "    <tr>\n",
              "      <th>std</th>\n",
              "      <td>NaN</td>\n",
              "      <td>4.681297</td>\n",
              "      <td>4.688040</td>\n",
              "      <td>4.752978</td>\n",
              "      <td>4.615918</td>\n",
              "      <td>1.151587e+07</td>\n",
              "    </tr>\n",
              "  </tbody>\n",
              "</table>\n",
              "</div>\n",
              "      <button class=\"colab-df-convert\" onclick=\"convertToInteractive('df-6ec1ada7-545f-4cbc-80ea-ab70ae2a04e1')\"\n",
              "              title=\"Convert this dataframe to an interactive table.\"\n",
              "              style=\"display:none;\">\n",
              "        \n",
              "  <svg xmlns=\"http://www.w3.org/2000/svg\" height=\"24px\"viewBox=\"0 0 24 24\"\n",
              "       width=\"24px\">\n",
              "    <path d=\"M0 0h24v24H0V0z\" fill=\"none\"/>\n",
              "    <path d=\"M18.56 5.44l.94 2.06.94-2.06 2.06-.94-2.06-.94-.94-2.06-.94 2.06-2.06.94zm-11 1L8.5 8.5l.94-2.06 2.06-.94-2.06-.94L8.5 2.5l-.94 2.06-2.06.94zm10 10l.94 2.06.94-2.06 2.06-.94-2.06-.94-.94-2.06-.94 2.06-2.06.94z\"/><path d=\"M17.41 7.96l-1.37-1.37c-.4-.4-.92-.59-1.43-.59-.52 0-1.04.2-1.43.59L10.3 9.45l-7.72 7.72c-.78.78-.78 2.05 0 2.83L4 21.41c.39.39.9.59 1.41.59.51 0 1.02-.2 1.41-.59l7.78-7.78 2.81-2.81c.8-.78.8-2.07 0-2.86zM5.41 20L4 18.59l7.72-7.72 1.47 1.35L5.41 20z\"/>\n",
              "  </svg>\n",
              "      </button>\n",
              "      \n",
              "  <style>\n",
              "    .colab-df-container {\n",
              "      display:flex;\n",
              "      flex-wrap:wrap;\n",
              "      gap: 12px;\n",
              "    }\n",
              "\n",
              "    .colab-df-convert {\n",
              "      background-color: #E8F0FE;\n",
              "      border: none;\n",
              "      border-radius: 50%;\n",
              "      cursor: pointer;\n",
              "      display: none;\n",
              "      fill: #1967D2;\n",
              "      height: 32px;\n",
              "      padding: 0 0 0 0;\n",
              "      width: 32px;\n",
              "    }\n",
              "\n",
              "    .colab-df-convert:hover {\n",
              "      background-color: #E2EBFA;\n",
              "      box-shadow: 0px 1px 2px rgba(60, 64, 67, 0.3), 0px 1px 3px 1px rgba(60, 64, 67, 0.15);\n",
              "      fill: #174EA6;\n",
              "    }\n",
              "\n",
              "    [theme=dark] .colab-df-convert {\n",
              "      background-color: #3B4455;\n",
              "      fill: #D2E3FC;\n",
              "    }\n",
              "\n",
              "    [theme=dark] .colab-df-convert:hover {\n",
              "      background-color: #434B5C;\n",
              "      box-shadow: 0px 1px 3px 1px rgba(0, 0, 0, 0.15);\n",
              "      filter: drop-shadow(0px 1px 2px rgba(0, 0, 0, 0.3));\n",
              "      fill: #FFFFFF;\n",
              "    }\n",
              "  </style>\n",
              "\n",
              "      <script>\n",
              "        const buttonEl =\n",
              "          document.querySelector('#df-6ec1ada7-545f-4cbc-80ea-ab70ae2a04e1 button.colab-df-convert');\n",
              "        buttonEl.style.display =\n",
              "          google.colab.kernel.accessAllowed ? 'block' : 'none';\n",
              "\n",
              "        async function convertToInteractive(key) {\n",
              "          const element = document.querySelector('#df-6ec1ada7-545f-4cbc-80ea-ab70ae2a04e1');\n",
              "          const dataTable =\n",
              "            await google.colab.kernel.invokeFunction('convertToInteractive',\n",
              "                                                     [key], {});\n",
              "          if (!dataTable) return;\n",
              "\n",
              "          const docLinkHtml = 'Like what you see? Visit the ' +\n",
              "            '<a target=\"_blank\" href=https://colab.research.google.com/notebooks/data_table.ipynb>data table notebook</a>'\n",
              "            + ' to learn more about interactive tables.';\n",
              "          element.innerHTML = '';\n",
              "          dataTable['output_type'] = 'display_data';\n",
              "          await google.colab.output.renderOutput(dataTable, element);\n",
              "          const docLink = document.createElement('div');\n",
              "          docLink.innerHTML = docLinkHtml;\n",
              "          element.appendChild(docLink);\n",
              "        }\n",
              "      </script>\n",
              "    </div>\n",
              "  </div>\n",
              "  "
            ]
          },
          "metadata": {},
          "execution_count": 15
        }
      ]
    },
    {
      "cell_type": "code",
      "source": [
        "window_size=20\n",
        "x_close,x_return,y_close,y_return = window_return(df_trans[\"Last Price\"].values, window_size)\n",
        "print(f\"x_close.shape : {x_close.shape}\")\n",
        "print(f\"x_return.shape : {x_return.shape}\")\n",
        "print(f\"v.shape : {y_close.shape}\")\n",
        "print(f\"y_return.shape : {y_return.shape}\")"
      ],
      "metadata": {
        "colab": {
          "base_uri": "https://localhost:8080/"
        },
        "id": "SSn4haUzF3Wd",
        "outputId": "dd0ae85f-8329-4b83-ccd7-e5ebcaf206e1"
      },
      "execution_count": null,
      "outputs": [
        {
          "output_type": "stream",
          "name": "stdout",
          "text": [
            "x_close.shape : (2448, 20)\n",
            "x_return.shape : (2448, 19)\n",
            "v.shape : (2448, 1)\n",
            "y_return.shape : (2448, 1)\n"
          ]
        }
      ]
    },
    {
      "cell_type": "code",
      "source": [
        "_, _, x_close_test, _, _, y_close_test = split(x_close, y_close, 0.8, 0.1)"
      ],
      "metadata": {
        "id": "9RSLXy59U4Wy"
      },
      "execution_count": null,
      "outputs": []
    },
    {
      "cell_type": "code",
      "source": [
        "x_train, x_val, x_test, y_train, y_val, y_test = split(x_return, y_return, 0.8, 0.1)\n",
        "print(len(x_train))\n",
        "print(len(x_test))\n",
        "print(len(x_val))"
      ],
      "metadata": {
        "colab": {
          "base_uri": "https://localhost:8080/"
        },
        "id": "qxYxXfUlNiDQ",
        "outputId": "25b276e3-42b3-4840-a943-354942f585f8"
      },
      "execution_count": null,
      "outputs": [
        {
          "output_type": "stream",
          "name": "stdout",
          "text": [
            "1958\n",
            "244\n",
            "246\n"
          ]
        }
      ]
    },
    {
      "cell_type": "code",
      "source": [
        "x_train.reshape(-1,1)"
      ],
      "metadata": {
        "colab": {
          "base_uri": "https://localhost:8080/"
        },
        "id": "b-z28JZiOJmn",
        "outputId": "f14929c7-331a-4792-967f-f0d02e773dad"
      },
      "execution_count": null,
      "outputs": [
        {
          "output_type": "execute_result",
          "data": {
            "text/plain": [
              "array([[ 0.00714286],\n",
              "       [-0.00714286],\n",
              "       [-0.02142857],\n",
              "       ...,\n",
              "       [-0.12179487],\n",
              "       [-0.12820513],\n",
              "       [-0.14102564]])"
            ]
          },
          "metadata": {},
          "execution_count": 132
        }
      ]
    },
    {
      "cell_type": "code",
      "source": [
        "min_max_scaler = preprocessing.MinMaxScaler().fit(x_train.reshape(-1,1))\n",
        "X_train_norm = min_max_scaler.transform(x_train.reshape(-1,1)).reshape(x_train.shape)\n",
        "Y_train_norm = min_max_scaler.transform(y_train.reshape(-1,1)).reshape(y_train.shape)\n",
        "X_val_norm = min_max_scaler.transform(x_val.reshape(-1,1)).reshape(x_val.shape)\n",
        "Y_val_norm = min_max_scaler.transform(y_val.reshape(-1,1)).reshape(y_val.shape)\n",
        "X_test_norm = min_max_scaler.transform(x_test.reshape(-1,1)).reshape(x_test.shape)\n",
        "Y_test_norm = min_max_scaler.transform(y_test.reshape(-1,1)).reshape(y_test.shape)\n",
        "\n",
        "print(f\"X_train_norm.shape : {X_train_norm.shape}\")\n",
        "print(f\"Y_train_norm.shape : {Y_train_norm.shape}\")\n",
        "print(f\"X_val_norm.shape : {X_val_norm.shape}\")\n",
        "print(f\"Y_val_norm.shape : {Y_val_norm.shape}\")\n",
        "print(f\"X_test_norm.shape : {X_test_norm.shape}\")\n",
        "print(f\"Y_test_norm.shape : {Y_test_norm.shape}\")"
      ],
      "metadata": {
        "colab": {
          "base_uri": "https://localhost:8080/"
        },
        "id": "DR8BdCBiF3cZ",
        "outputId": "acd8c251-19dd-44b8-860c-90ebf9153857"
      },
      "execution_count": null,
      "outputs": [
        {
          "output_type": "stream",
          "name": "stdout",
          "text": [
            "X_train_norm.shape : (1958, 19)\n",
            "Y_train_norm.shape : (1958, 1)\n",
            "X_val_norm.shape : (246, 19)\n",
            "Y_val_norm.shape : (246, 1)\n",
            "X_test_norm.shape : (244, 19)\n",
            "Y_test_norm.shape : (244, 1)\n"
          ]
        }
      ]
    },
    {
      "cell_type": "code",
      "source": [
        ""
      ],
      "metadata": {
        "id": "dBZgkT9sRbIX"
      },
      "execution_count": null,
      "outputs": []
    },
    {
      "cell_type": "code",
      "source": [
        "x_train_norm = X_train_norm.astype(np.float32)\n",
        "y_train_norm = Y_train_norm.astype(np.float32)\n",
        "x_val_norm = X_val_norm.astype(np.float32)\n",
        "y_val_norm = Y_val_norm.astype(np.float32)\n",
        "x_test_norm = X_test_norm.astype(np.float32)"
      ],
      "metadata": {
        "id": "pTMlhfHiQbpY"
      },
      "execution_count": null,
      "outputs": []
    },
    {
      "cell_type": "code",
      "source": [
        "# len_t = len(x_train)\n",
        "# len_v = len(x_val)"
      ],
      "metadata": {
        "id": "S8HOySItF3iX"
      },
      "execution_count": null,
      "outputs": []
    },
    {
      "cell_type": "code",
      "source": [
        "# x_train_norm = np.array(x_train_norm)\n",
        "# test_X = np.array(x_test)\n",
        "# train_label = np.array(y_train)\n",
        "# test_label = np.array(y_test)\n",
        "# train_val = np.array(x_val)\n",
        "# test_val = np.array(y_val)"
      ],
      "metadata": {
        "id": "NKkMakj5F3lI"
      },
      "execution_count": null,
      "outputs": []
    },
    {
      "cell_type": "code",
      "source": [
        "X_train_norm = X_train_norm.reshape(X_train_norm.shape[0],1,window_size-1,1)\n",
        "X_val_norm = X_val_norm.reshape(X_val_norm.shape[0],1,window_size-1,1)\n",
        "X_test_norm = x_test_norm.reshape(X_test_norm.shape[0],1,window_size-1,1)"
      ],
      "metadata": {
        "id": "QhvOFFKqF3n3"
      },
      "execution_count": null,
      "outputs": []
    },
    {
      "cell_type": "code",
      "source": [
        "print(f\"X_train_norm.shape : {X_train_norm.shape}\")\n",
        "print(f\"Y_train_norm.shape : {Y_train_norm.shape}\")\n",
        "print(f\"X_val_norm.shape : {X_val_norm.shape}\")\n",
        "print(f\"Y_val_norm.shape : {Y_val_norm.shape}\")\n",
        "print(f\"X_test_norm.shape : {X_test_norm.shape}\")\n",
        "print(f\"Y_test_norm.shape : {Y_test_norm.shape}\")"
      ],
      "metadata": {
        "colab": {
          "base_uri": "https://localhost:8080/"
        },
        "id": "8lp4AHYySEGr",
        "outputId": "93cdb23e-e3a9-43ca-9498-c1c7c83f6c58"
      },
      "execution_count": null,
      "outputs": [
        {
          "output_type": "stream",
          "name": "stdout",
          "text": [
            "X_train_norm.shape : (1958, 1, 19, 1)\n",
            "Y_train_norm.shape : (1958, 1)\n",
            "X_val_norm.shape : (246, 1, 19, 1)\n",
            "Y_val_norm.shape : (246, 1)\n",
            "X_test_norm.shape : (244, 1, 19, 1)\n",
            "Y_test_norm.shape : (244, 1)\n"
          ]
        }
      ]
    },
    {
      "cell_type": "code",
      "source": [
        ""
      ],
      "metadata": {
        "id": "kX9kGW1NF3rA"
      },
      "execution_count": null,
      "outputs": []
    },
    {
      "cell_type": "markdown",
      "source": [
        "#Run Model"
      ],
      "metadata": {
        "id": "eoasNWFeIvui"
      }
    },
    {
      "cell_type": "code",
      "source": [
        "print(f\"X_train_norm.shape : {X_train_norm.shape}\")\n",
        "print(f\"Y_train_norm.shape : {Y_train_norm.shape}\")\n",
        "print(f\"X_val_norm.shape : {X_val_norm.shape}\")\n",
        "print(f\"Y_val_norm.shape : {Y_val_norm.shape}\")\n",
        "print(f\"X_test_norm.shape : {X_test_norm.shape}\")\n",
        "print(f\"Y_test_norm.shape : {Y_test_norm.shape}\")"
      ],
      "metadata": {
        "colab": {
          "base_uri": "https://localhost:8080/"
        },
        "id": "Vd5gjzk7Tq66",
        "outputId": "51ea6323-bd1a-452d-bdf0-a1ff0fe3f200"
      },
      "execution_count": null,
      "outputs": [
        {
          "output_type": "stream",
          "name": "stdout",
          "text": [
            "X_train_norm.shape : (1958, 1, 19, 1)\n",
            "Y_train_norm.shape : (1958, 1)\n",
            "X_val_norm.shape : (246, 1, 19, 1)\n",
            "Y_val_norm.shape : (246, 1)\n",
            "X_test_norm.shape : (244, 1, 19, 1)\n",
            "Y_test_norm.shape : (244, 1)\n"
          ]
        }
      ]
    },
    {
      "cell_type": "code",
      "source": [
        "model = Sequential()\n",
        "model.add(tf.keras.layers.InputLayer((1,19,1), name='Input'))\n",
        "#add model layers\n",
        "model.add(TimeDistributed(Conv1D(128, kernel_size=1, activation='relu')))\n",
        "model.add(TimeDistributed(MaxPooling1D(2)))\n",
        "model.add(TimeDistributed(Conv1D(256, kernel_size=1, activation='relu')))\n",
        "model.add(TimeDistributed(MaxPooling1D(2)))\n",
        "model.add(TimeDistributed(Conv1D(512, kernel_size=1, activation='relu')))\n",
        "model.add(TimeDistributed(MaxPooling1D(2)))\n",
        "model.add(TimeDistributed(Flatten()))\n",
        "model.add(Bidirectional(LSTM(200,return_sequences=True)))\n",
        "model.add(Dropout(0.3))\n",
        "model.add(Bidirectional(LSTM(200,return_sequences=False)))\n",
        "model.add(Dropout(0.3))\n",
        "model.add(Dense(1, activation='linear'))\n",
        "model.compile(optimizer='Nadam', loss='mse')\n",
        "K.set_value(model.optimizer.learning_rate, 0.0001)"
      ],
      "metadata": {
        "id": "2EmIpFZVF3t-"
      },
      "execution_count": null,
      "outputs": []
    },
    {
      "cell_type": "code",
      "source": [
        "tf.keras.utils.plot_model(model, 'Group_HW3_trainmodel.png', show_shapes=True, show_dtype=False, show_layer_names=True, dpi=96)"
      ],
      "metadata": {
        "colab": {
          "base_uri": "https://localhost:8080/",
          "height": 1000
        },
        "id": "it1bkme55bVq",
        "outputId": "83c80bfd-0160-465f-dcac-2d35450848d6"
      },
      "execution_count": null,
      "outputs": [
        {
          "output_type": "execute_result",
          "data": {
            "text/plain": [
              "<IPython.core.display.Image object>"
            ],
            "image/png": "[encoded data removed]"
          },
          "metadata": {},
          "execution_count": 179
        }
      ]
    },
    {
      "cell_type": "code",
      "source": [
        "model.summary()"
      ],
      "metadata": {
        "colab": {
          "base_uri": "https://localhost:8080/"
        },
        "id": "mSA6ikIB3cAn",
        "outputId": "8c7dd474-549c-4f8d-a7bf-804e0265b963"
      },
      "execution_count": null,
      "outputs": [
        {
          "output_type": "stream",
          "name": "stdout",
          "text": [
            "Model: \"sequential_27\"\n",
            "_________________________________________________________________\n",
            " Layer (type)                Output Shape              Param #   \n",
            "=================================================================\n",
            " time_distributed_168 (TimeD  (None, 1, 19, 128)       256       \n",
            " istributed)                                                     \n",
            "                                                                 \n",
            " time_distributed_169 (TimeD  (None, 1, 9, 128)        0         \n",
            " istributed)                                                     \n",
            "                                                                 \n",
            " time_distributed_170 (TimeD  (None, 1, 9, 256)        33024     \n",
            " istributed)                                                     \n",
            "                                                                 \n",
            " time_distributed_171 (TimeD  (None, 1, 4, 256)        0         \n",
            " istributed)                                                     \n",
            "                                                                 \n",
            " time_distributed_172 (TimeD  (None, 1, 4, 512)        131584    \n",
            " istributed)                                                     \n",
            "                                                                 \n",
            " time_distributed_173 (TimeD  (None, 1, 2, 512)        0         \n",
            " istributed)                                                     \n",
            "                                                                 \n",
            " time_distributed_174 (TimeD  (None, 1, 1024)          0         \n",
            " istributed)                                                     \n",
            "                                                                 \n",
            " bidirectional_48 (Bidirecti  (None, 1, 400)           1960000   \n",
            " onal)                                                           \n",
            "                                                                 \n",
            " dropout_57 (Dropout)        (None, 1, 400)            0         \n",
            "                                                                 \n",
            " bidirectional_49 (Bidirecti  (None, 400)              961600    \n",
            " onal)                                                           \n",
            "                                                                 \n",
            " dropout_58 (Dropout)        (None, 400)               0         \n",
            "                                                                 \n",
            " dense_27 (Dense)            (None, 1)                 401       \n",
            "                                                                 \n",
            "=================================================================\n",
            "Total params: 3,086,865\n",
            "Trainable params: 3,086,865\n",
            "Non-trainable params: 0\n",
            "_________________________________________________________________\n"
          ]
        }
      ]
    },
    {
      "cell_type": "code",
      "source": [
        "model.fit(X_train_norm, Y_train_norm, validation_data=(X_val_norm,Y_val_norm), epochs=30,batch_size=64,shuffle =False)\n",
        "print(model.evaluate(X_val_norm,Y_val_norm))"
      ],
      "metadata": {
        "colab": {
          "base_uri": "https://localhost:8080/"
        },
        "id": "KL2ZbGyz0qr4",
        "outputId": "4474177c-2fca-4a63-c53a-0e0bb419ef27"
      },
      "execution_count": null,
      "outputs": [
        {
          "output_type": "stream",
          "name": "stdout",
          "text": [
            "Epoch 1/30\n",
            "31/31 [==============================] - 14s 171ms/step - loss: 0.1714 - val_loss: 0.0320\n",
            "Epoch 2/30\n",
            "31/31 [==============================] - 3s 110ms/step - loss: 0.0130 - val_loss: 0.0111\n",
            "Epoch 3/30\n",
            "31/31 [==============================] - 3s 111ms/step - loss: 0.0105 - val_loss: 0.0108\n",
            "Epoch 4/30\n",
            "31/31 [==============================] - 3s 111ms/step - loss: 0.0103 - val_loss: 0.0106\n",
            "Epoch 5/30\n",
            "31/31 [==============================] - 3s 111ms/step - loss: 0.0097 - val_loss: 0.0102\n",
            "Epoch 6/30\n",
            "31/31 [==============================] - 3s 111ms/step - loss: 0.0095 - val_loss: 0.0100\n",
            "Epoch 7/30\n",
            "31/31 [==============================] - 3s 111ms/step - loss: 0.0094 - val_loss: 0.0096\n",
            "Epoch 8/30\n",
            "31/31 [==============================] - 3s 110ms/step - loss: 0.0091 - val_loss: 0.0093\n",
            "Epoch 9/30\n",
            "31/31 [==============================] - 3s 109ms/step - loss: 0.0087 - val_loss: 0.0091\n",
            "Epoch 10/30\n",
            "31/31 [==============================] - 3s 110ms/step - loss: 0.0084 - val_loss: 0.0090\n",
            "Epoch 11/30\n",
            "31/31 [==============================] - 3s 110ms/step - loss: 0.0083 - val_loss: 0.0086\n",
            "Epoch 12/30\n",
            "31/31 [==============================] - 3s 111ms/step - loss: 0.0083 - val_loss: 0.0084\n",
            "Epoch 13/30\n",
            "31/31 [==============================] - 3s 110ms/step - loss: 0.0079 - val_loss: 0.0083\n",
            "Epoch 14/30\n",
            "31/31 [==============================] - 3s 109ms/step - loss: 0.0079 - val_loss: 0.0080\n",
            "Epoch 15/30\n",
            "31/31 [==============================] - 4s 130ms/step - loss: 0.0075 - val_loss: 0.0080\n",
            "Epoch 16/30\n",
            "31/31 [==============================] - 5s 154ms/step - loss: 0.0075 - val_loss: 0.0077\n",
            "Epoch 17/30\n",
            "31/31 [==============================] - 4s 113ms/step - loss: 0.0075 - val_loss: 0.0076\n",
            "Epoch 18/30\n",
            "31/31 [==============================] - 5s 166ms/step - loss: 0.0074 - val_loss: 0.0075\n",
            "Epoch 19/30\n",
            "31/31 [==============================] - 4s 127ms/step - loss: 0.0074 - val_loss: 0.0074\n",
            "Epoch 20/30\n",
            "31/31 [==============================] - 3s 109ms/step - loss: 0.0073 - val_loss: 0.0074\n",
            "Epoch 21/30\n",
            "31/31 [==============================] - 4s 130ms/step - loss: 0.0072 - val_loss: 0.0075\n",
            "Epoch 22/30\n",
            "31/31 [==============================] - 7s 224ms/step - loss: 0.0071 - val_loss: 0.0074\n",
            "Epoch 23/30\n",
            "31/31 [==============================] - 6s 183ms/step - loss: 0.0073 - val_loss: 0.0073\n",
            "Epoch 24/30\n",
            "31/31 [==============================] - 4s 139ms/step - loss: 0.0071 - val_loss: 0.0073\n",
            "Epoch 25/30\n",
            "31/31 [==============================] - 3s 109ms/step - loss: 0.0070 - val_loss: 0.0073\n",
            "Epoch 26/30\n",
            "31/31 [==============================] - 3s 111ms/step - loss: 0.0070 - val_loss: 0.0072\n",
            "Epoch 27/30\n",
            "31/31 [==============================] - 3s 111ms/step - loss: 0.0072 - val_loss: 0.0073\n",
            "Epoch 28/30\n",
            "31/31 [==============================] - 3s 111ms/step - loss: 0.0072 - val_loss: 0.0073\n",
            "Epoch 29/30\n",
            "31/31 [==============================] - 3s 112ms/step - loss: 0.0070 - val_loss: 0.0071\n",
            "Epoch 30/30\n",
            "31/31 [==============================] - 3s 110ms/step - loss: 0.0069 - val_loss: 0.0072\n",
            "8/8 [==============================] - 0s 13ms/step - loss: 0.0072\n",
            "0.00717978784814477\n"
          ]
        }
      ]
    },
    {
      "cell_type": "code",
      "source": [
        "_, _, x_close_test, _, _, y_close_test = split(x_close, y_close, 0.8, 0.1)"
      ],
      "metadata": {
        "id": "71LTSvPkYlXn"
      },
      "execution_count": null,
      "outputs": []
    },
    {
      "cell_type": "code",
      "source": [
        "x_close_test.shape"
      ],
      "metadata": {
        "colab": {
          "base_uri": "https://localhost:8080/"
        },
        "id": "akujA5ssYuC-",
        "outputId": "9c8e11bc-6414-4bde-cfa6-40830feb41c3"
      },
      "execution_count": null,
      "outputs": [
        {
          "output_type": "execute_result",
          "data": {
            "text/plain": [
              "(244, 20)"
            ]
          },
          "metadata": {},
          "execution_count": 177
        }
      ]
    },
    {
      "cell_type": "code",
      "source": [
        "predicted  = model.predict(X_test_norm)\n",
        "predicted = min_max_scaler.inverse_transform(predicted)\n",
        "predicted = np.array(predicted[:,0]).reshape(-1,1)\n",
        "predicted_price = (x_close_test[:,0].reshape(-1,1)*(1+predicted)) # Return --> Price from P-20 x (1+return)\n",
        "plt.figure(figsize=(15,5))\n",
        "plt.plot(y_close_test, color = 'black', label = ' BCH Price')\n",
        "plt.plot(predicted_price, color = 'green', label = 'Predicted  BCH Price')\n",
        "plt.title(' BCH Price Prediction')\n",
        "plt.xlabel('Time')\n",
        "plt.ylabel(' BCH Price')\n",
        "plt.legend()\n",
        "plt.show()"
      ],
      "metadata": {
        "colab": {
          "base_uri": "https://localhost:8080/",
          "height": 350
        },
        "id": "9ACvgY44YGkM",
        "outputId": "ee9bbc88-41eb-4bcb-cf93-e23a8e0a6ba4"
      },
      "execution_count": null,
      "outputs": [
        {
          "output_type": "display_data",
          "data": {
            "text/plain": [
              "<Figure size 1080x360 with 1 Axes>"
            ],
            "image/png": "[encoded data removed]"
          },
          "metadata": {
            "needs_background": "light"
          }
        }
      ]
    },
    {
      "cell_type": "code",
      "source": [
        "#Normal case\n",
        "mse = mean_squared_error(y_close_test,predicted_price)\n",
        "mae = mean_absolute_error(y_close_test,predicted_price)\n",
        "\n",
        "\n",
        "\n",
        "print(f\"mean_squared_error : {mse}\")\n",
        "print(f\"mean_absolute_error : {mae}\")"
      ],
      "metadata": {
        "colab": {
          "base_uri": "https://localhost:8080/"
        },
        "id": "32kK9Wrakhrc",
        "outputId": "81ea03d3-4159-4d46-fe52-875b4df57d38"
      },
      "execution_count": null,
      "outputs": [
        {
          "output_type": "stream",
          "name": "stdout",
          "text": [
            "mean_squared_error : 0.9945332532120017\n",
            "mean_absolute_error : 0.8040743936402877\n"
          ]
        }
      ]
    },
    {
      "cell_type": "code",
      "source": [
        "y = pd.DataFrame(predicted_price)\n",
        "y"
      ],
      "metadata": {
        "colab": {
          "base_uri": "https://localhost:8080/",
          "height": 423
        },
        "id": "by68eMfoJ9BL",
        "outputId": "7969de24-b1a2-40f1-d3f0-000485239a29"
      },
      "execution_count": null,
      "outputs": [
        {
          "output_type": "execute_result",
          "data": {
            "text/plain": [
              "             0\n",
              "0    14.505119\n",
              "1    14.715599\n",
              "2    14.929326\n",
              "3    14.942621\n",
              "4    14.986744\n",
              "..         ...\n",
              "239  19.686302\n",
              "240  19.967703\n",
              "241  20.388341\n",
              "242  20.456857\n",
              "243  20.348195\n",
              "\n",
              "[244 rows x 1 columns]"
            ],
            "text/html": [
              "\n",
              "  <div id=\"df-a9c521b9-b09a-431d-ba0c-b8d2022c95d2\">\n",
              "    <div class=\"colab-df-container\">\n",
              "      <div>\n",
              "<style scoped>\n",
              "    .dataframe tbody tr th:only-of-type {\n",
              "        vertical-align: middle;\n",
              "    }\n",
              "\n",
              "    .dataframe tbody tr th {\n",
              "        vertical-align: top;\n",
              "    }\n",
              "\n",
              "    .dataframe thead th {\n",
              "        text-align: right;\n",
              "    }\n",
              "</style>\n",
              "<table border=\"1\" class=\"dataframe\">\n",
              "  <thead>\n",
              "    <tr style=\"text-align: right;\">\n",
              "      <th></th>\n",
              "      <th>0</th>\n",
              "    </tr>\n",
              "  </thead>\n",
              "  <tbody>\n",
              "    <tr>\n",
              "      <th>0</th>\n",
              "      <td>14.505119</td>\n",
              "    </tr>\n",
              "    <tr>\n",
              "      <th>1</th>\n",
              "      <td>14.715599</td>\n",
              "    </tr>\n",
              "    <tr>\n",
              "      <th>2</th>\n",
              "      <td>14.929326</td>\n",
              "    </tr>\n",
              "    <tr>\n",
              "      <th>3</th>\n",
              "      <td>14.942621</td>\n",
              "    </tr>\n",
              "    <tr>\n",
              "      <th>4</th>\n",
              "      <td>14.986744</td>\n",
              "    </tr>\n",
              "    <tr>\n",
              "      <th>...</th>\n",
              "      <td>...</td>\n",
              "    </tr>\n",
              "    <tr>\n",
              "      <th>239</th>\n",
              "      <td>19.686302</td>\n",
              "    </tr>\n",
              "    <tr>\n",
              "      <th>240</th>\n",
              "      <td>19.967703</td>\n",
              "    </tr>\n",
              "    <tr>\n",
              "      <th>241</th>\n",
              "      <td>20.388341</td>\n",
              "    </tr>\n",
              "    <tr>\n",
              "      <th>242</th>\n",
              "      <td>20.456857</td>\n",
              "    </tr>\n",
              "    <tr>\n",
              "      <th>243</th>\n",
              "      <td>20.348195</td>\n",
              "    </tr>\n",
              "  </tbody>\n",
              "</table>\n",
              "<p>244 rows × 1 columns</p>\n",
              "</div>\n",
              "      <button class=\"colab-df-convert\" onclick=\"convertToInteractive('df-a9c521b9-b09a-431d-ba0c-b8d2022c95d2')\"\n",
              "              title=\"Convert this dataframe to an interactive table.\"\n",
              "              style=\"display:none;\">\n",
              "        \n",
              "  <svg xmlns=\"http://www.w3.org/2000/svg\" height=\"24px\"viewBox=\"0 0 24 24\"\n",
              "       width=\"24px\">\n",
              "    <path d=\"M0 0h24v24H0V0z\" fill=\"none\"/>\n",
              "    <path d=\"M18.56 5.44l.94 2.06.94-2.06 2.06-.94-2.06-.94-.94-2.06-.94 2.06-2.06.94zm-11 1L8.5 8.5l.94-2.06 2.06-.94-2.06-.94L8.5 2.5l-.94 2.06-2.06.94zm10 10l.94 2.06.94-2.06 2.06-.94-2.06-.94-.94-2.06-.94 2.06-2.06.94z\"/><path d=\"M17.41 7.96l-1.37-1.37c-.4-.4-.92-.59-1.43-.59-.52 0-1.04.2-1.43.59L10.3 9.45l-7.72 7.72c-.78.78-.78 2.05 0 2.83L4 21.41c.39.39.9.59 1.41.59.51 0 1.02-.2 1.41-.59l7.78-7.78 2.81-2.81c.8-.78.8-2.07 0-2.86zM5.41 20L4 18.59l7.72-7.72 1.47 1.35L5.41 20z\"/>\n",
              "  </svg>\n",
              "      </button>\n",
              "      \n",
              "  <style>\n",
              "    .colab-df-container {\n",
              "      display:flex;\n",
              "      flex-wrap:wrap;\n",
              "      gap: 12px;\n",
              "    }\n",
              "\n",
              "    .colab-df-convert {\n",
              "      background-color: #E8F0FE;\n",
              "      border: none;\n",
              "      border-radius: 50%;\n",
              "      cursor: pointer;\n",
              "      display: none;\n",
              "      fill: #1967D2;\n",
              "      height: 32px;\n",
              "      padding: 0 0 0 0;\n",
              "      width: 32px;\n",
              "    }\n",
              "\n",
              "    .colab-df-convert:hover {\n",
              "      background-color: #E2EBFA;\n",
              "      box-shadow: 0px 1px 2px rgba(60, 64, 67, 0.3), 0px 1px 3px 1px rgba(60, 64, 67, 0.15);\n",
              "      fill: #174EA6;\n",
              "    }\n",
              "\n",
              "    [theme=dark] .colab-df-convert {\n",
              "      background-color: #3B4455;\n",
              "      fill: #D2E3FC;\n",
              "    }\n",
              "\n",
              "    [theme=dark] .colab-df-convert:hover {\n",
              "      background-color: #434B5C;\n",
              "      box-shadow: 0px 1px 3px 1px rgba(0, 0, 0, 0.15);\n",
              "      filter: drop-shadow(0px 1px 2px rgba(0, 0, 0, 0.3));\n",
              "      fill: #FFFFFF;\n",
              "    }\n",
              "  </style>\n",
              "\n",
              "      <script>\n",
              "        const buttonEl =\n",
              "          document.querySelector('#df-a9c521b9-b09a-431d-ba0c-b8d2022c95d2 button.colab-df-convert');\n",
              "        buttonEl.style.display =\n",
              "          google.colab.kernel.accessAllowed ? 'block' : 'none';\n",
              "\n",
              "        async function convertToInteractive(key) {\n",
              "          const element = document.querySelector('#df-a9c521b9-b09a-431d-ba0c-b8d2022c95d2');\n",
              "          const dataTable =\n",
              "            await google.colab.kernel.invokeFunction('convertToInteractive',\n",
              "                                                     [key], {});\n",
              "          if (!dataTable) return;\n",
              "\n",
              "          const docLinkHtml = 'Like what you see? Visit the ' +\n",
              "            '<a target=\"_blank\" href=https://colab.research.google.com/notebooks/data_table.ipynb>data table notebook</a>'\n",
              "            + ' to learn more about interactive tables.';\n",
              "          element.innerHTML = '';\n",
              "          dataTable['output_type'] = 'display_data';\n",
              "          await google.colab.output.renderOutput(dataTable, element);\n",
              "          const docLink = document.createElement('div');\n",
              "          docLink.innerHTML = docLinkHtml;\n",
              "          element.appendChild(docLink);\n",
              "        }\n",
              "      </script>\n",
              "    </div>\n",
              "  </div>\n",
              "  "
            ]
          },
          "metadata": {},
          "execution_count": 146
        }
      ]
    },
    {
      "cell_type": "code",
      "source": [
        "y.to_excel (r'/content/drive/MyDrive/Colab Notebooks/BADS7604_Deep_Learning/Project3/return2.xlsx', index = False, header=True)"
      ],
      "metadata": {
        "id": "RlNBVhYAJ9ry"
      },
      "execution_count": null,
      "outputs": []
    },
    {
      "cell_type": "code",
      "source": [
        ""
      ],
      "metadata": {
        "id": "_S-5pxmCK6r-"
      },
      "execution_count": null,
      "outputs": []
    }
  ]
}