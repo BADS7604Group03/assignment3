{
  "nbformat": 4,
  "nbformat_minor": 0,
  "metadata": {
    "colab": {
      "name": "RNN Encoder-Decoder.ipynb",
      "provenance": [],
      "collapsed_sections": [],
      "machine_shape": "hm",
      "mount_file_id": "1dmIIlwXL0rAxKGCOg2Gj1cNEe1TSG6lN",
      "authorship_tag": "ABX9TyOYSBO8jPBS1C/G/inE1v92",
      "include_colab_link": true
    },
    "kernelspec": {
      "name": "python3",
      "display_name": "Python 3"
    },
    "language_info": {
      "name": "python"
    },
    "accelerator": "GPU"
  },
  "cells": [
    {
      "cell_type": "markdown",
      "metadata": {
        "id": "view-in-github",
        "colab_type": "text"
      },
      "source": [
        "<a href=\"https://colab.research.google.com/github/BADS7604Group03/assignment3/blob/main/code/RNN_Encoder_Decoder.ipynb\" target=\"_parent\"><img src=\"https://colab.research.google.com/assets/colab-badge.svg\" alt=\"Open In Colab\"/></a>"
      ]
    },
    {
      "cell_type": "markdown",
      "source": [
        "# 1. Prepare the environment"
      ],
      "metadata": {
        "id": "ZB53-8leuQ1a"
      }
    },
    {
      "cell_type": "code",
      "execution_count": 37,
      "metadata": {
        "colab": {
          "base_uri": "https://localhost:8080/"
        },
        "id": "OWGz3XaOuKYu",
        "outputId": "11362c65-3b43-4ccb-b09c-a35014c1486f"
      },
      "outputs": [
        {
          "output_type": "stream",
          "name": "stdout",
          "text": [
            "GPU 0: Tesla P100-PCIE-16GB (UUID: GPU-c27c2272-2e5e-cef3-c8a2-22b18552db6f)\n"
          ]
        }
      ],
      "source": [
        "# List all NVIDIA GPUs as available in this computer (or Colab's session)\n",
        "!nvidia-smi -L"
      ]
    },
    {
      "cell_type": "code",
      "source": [
        "import sys\n",
        "print(f'Python {sys.version}\\n')\n",
        "\n",
        "import numpy as np\n",
        "print(f'NumPy {np.__version__}\\n')\n",
        "\n",
        "import matplotlib.pyplot as plt\n",
        "%matplotlib inline\n",
        "\n",
        "import tensorflow as tf\n",
        "print(f'TensorFlow {tf.__version__}')\n",
        "print(f'tf.keras.backend.image_data_format() = {tf.keras.backend.image_data_format()}')\n",
        "\n",
        "# Count the number of GPUs as detected by tensorflow\n",
        "gpus = tf.config.list_physical_devices('GPU')\n",
        "print(f'TensorFlow detected {len(gpus)} GPU(s):')\n",
        "for i, gpu in enumerate(gpus):\n",
        "  print(f'....GPU No. {i}: Name = {gpu.name}, Type = {gpu.device_type}')\n",
        "\n",
        "import os\n",
        "import math\n",
        "import time\n",
        "import datetime\n",
        "import pandas as pd\n",
        "import matplotlib.pyplot as plt\n",
        "from sklearn.metrics import mean_squared_error,mean_absolute_error\n",
        "\n",
        "# Set fixed seeding values for reproducability during experiments\n",
        "# To guarantee reproducability, make sure that seed values for ANY randomize operation are all set\n",
        "np.random.seed(1234)\n",
        "tf.random.set_seed(5678)"
      ],
      "metadata": {
        "colab": {
          "base_uri": "https://localhost:8080/"
        },
        "id": "4if0Qtc0ulw3",
        "outputId": "14269700-64d3-481f-991d-e3f7408efd3b"
      },
      "execution_count": 38,
      "outputs": [
        {
          "output_type": "stream",
          "name": "stdout",
          "text": [
            "Python 3.7.13 (default, Mar 16 2022, 17:37:17) \n",
            "[GCC 7.5.0]\n",
            "\n",
            "NumPy 1.21.5\n",
            "\n",
            "TensorFlow 2.8.0\n",
            "tf.keras.backend.image_data_format() = channels_last\n",
            "TensorFlow detected 1 GPU(s):\n",
            "....GPU No. 0: Name = /physical_device:GPU:0, Type = GPU\n"
          ]
        }
      ]
    },
    {
      "cell_type": "markdown",
      "source": [
        "# 2. Create the Encoder-Decoder RNN model"
      ],
      "metadata": {
        "id": "vSVDh78owoRE"
      }
    },
    {
      "cell_type": "code",
      "source": [
        "n_input, n_output, n_units = 1, 1, 20\n",
        "\n",
        "encoder_inputs = tf.keras.layers.Input(shape=(None, n_input), name='encoder_input_x')\n",
        "encoder_rnn = tf.keras.layers.SimpleRNN(n_units, return_state=True, name='encoder_rnn')\n",
        "\n",
        "encoder_outputs, encoder_states = encoder_rnn(encoder_inputs)\n",
        "\n",
        "decoder_inputs = tf.keras.layers.Input(shape=(None, n_output), name='decoder_input_x')\n",
        "decoder_rnn = tf.keras.layers.SimpleRNN(n_units, return_sequences=True, return_state=True, name='decoder_rnn')\n",
        "decoder_dropout = tf.keras.layers.Dropout(0.3, name='decoder_dropout')\n",
        "decoder_dense = tf.keras.layers.Dense(n_output, name='decoder_dense')\n",
        "\n",
        "decoder_outputs, _ = decoder_rnn(decoder_inputs, initial_state=encoder_states)\n",
        "decoder_outputs = decoder_dropout(decoder_outputs)\n",
        "decoder_outputs = decoder_dense(decoder_outputs)\n",
        "\n",
        "seq2seq_model = tf.keras.Model(inputs=[encoder_inputs, decoder_inputs], outputs=decoder_outputs, name='seq2seq_model')\n",
        "seq2seq_model.summary()\n",
        "\n",
        "tf.keras.utils.plot_model(seq2seq_model, 'Group_HW3_trainmodel.png', show_shapes=True, show_dtype=False, show_layer_names=True, dpi=96)"
      ],
      "metadata": {
        "colab": {
          "base_uri": "https://localhost:8080/",
          "height": 932
        },
        "id": "Edl5S2u_wuU6",
        "outputId": "de1466d3-5f9c-40c1-aa7b-d7350a5fd05a"
      },
      "execution_count": 39,
      "outputs": [
        {
          "output_type": "stream",
          "name": "stdout",
          "text": [
            "Model: \"seq2seq_model\"\n",
            "__________________________________________________________________________________________________\n",
            " Layer (type)                   Output Shape         Param #     Connected to                     \n",
            "==================================================================================================\n",
            " encoder_input_x (InputLayer)   [(None, None, 1)]    0           []                               \n",
            "                                                                                                  \n",
            " decoder_input_x (InputLayer)   [(None, None, 1)]    0           []                               \n",
            "                                                                                                  \n",
            " encoder_rnn (SimpleRNN)        [(None, 20),         440         ['encoder_input_x[0][0]']        \n",
            "                                 (None, 20)]                                                      \n",
            "                                                                                                  \n",
            " decoder_rnn (SimpleRNN)        [(None, None, 20),   440         ['decoder_input_x[0][0]',        \n",
            "                                 (None, 20)]                      'encoder_rnn[0][1]']            \n",
            "                                                                                                  \n",
            " decoder_dropout (Dropout)      (None, None, 20)     0           ['decoder_rnn[0][0]']            \n",
            "                                                                                                  \n",
            " decoder_dense (Dense)          (None, None, 1)      21          ['decoder_dropout[0][0]']        \n",
            "                                                                                                  \n",
            "==================================================================================================\n",
            "Total params: 901\n",
            "Trainable params: 901\n",
            "Non-trainable params: 0\n",
            "__________________________________________________________________________________________________\n"
          ]
        },
        {
          "output_type": "execute_result",
          "data": {
            "text/plain": [
              "<IPython.core.display.Image object>"
            ],
            "image/png": "[encoded data removed]"
          },
          "metadata": {},
          "execution_count": 39
        }
      ]
    },
    {
      "cell_type": "markdown",
      "source": [
        "## 2.2 Create separated decoder and encoder for inferencing"
      ],
      "metadata": {
        "id": "LEaVP_Ne0x3G"
      }
    },
    {
      "cell_type": "code",
      "source": [
        "encoder_model = tf.keras.Model(inputs=encoder_inputs, outputs=encoder_states, name='encoder_model')\n",
        "\n",
        "encoder_model.summary()\n",
        "tf.keras.utils.plot_model(encoder_model, 'Group_HW3_encodermodel.png', show_shapes=True, show_dtype=False, show_layer_names=True, dpi=96)"
      ],
      "metadata": {
        "colab": {
          "base_uri": "https://localhost:8080/",
          "height": 461
        },
        "id": "xmsW_N4B07sH",
        "outputId": "0eab9ade-f2b9-49a5-d66f-0eb8ccc8f81f"
      },
      "execution_count": 40,
      "outputs": [
        {
          "output_type": "stream",
          "name": "stdout",
          "text": [
            "Model: \"encoder_model\"\n",
            "_________________________________________________________________\n",
            " Layer (type)                Output Shape              Param #   \n",
            "=================================================================\n",
            " encoder_input_x (InputLayer  [(None, None, 1)]        0         \n",
            " )                                                               \n",
            "                                                                 \n",
            " encoder_rnn (SimpleRNN)     [(None, 20),              440       \n",
            "                              (None, 20)]                        \n",
            "                                                                 \n",
            "=================================================================\n",
            "Total params: 440\n",
            "Trainable params: 440\n",
            "Non-trainable params: 0\n",
            "_________________________________________________________________\n"
          ]
        },
        {
          "output_type": "execute_result",
          "data": {
            "text/plain": [
              "<IPython.core.display.Image object>"
            ],
            "image/png": "[encoded data removed]"
          },
          "metadata": {},
          "execution_count": 40
        }
      ]
    },
    {
      "cell_type": "code",
      "source": [
        "decoder_states_inputs = tf.keras.layers.Input(shape=(n_units), name='decoder_input_state')\n",
        "\n",
        "decoder_outputs, decoder_states = decoder_rnn(decoder_inputs, initial_state=decoder_states_inputs)\n",
        "decoder_outputs = decoder_dropout(decoder_outputs)\n",
        "decoder_outputs = decoder_dense(decoder_outputs)\n",
        "decoder_model = tf.keras.Model(inputs=[decoder_inputs] + [decoder_states_inputs],\n",
        "                               outputs=[decoder_outputs] + [decoder_states],\n",
        "                               name='decoder_model')\n",
        "\n",
        "decoder_model.summary()\n",
        "tf.keras.utils.plot_model(decoder_model, 'Group_HW3_decodermodel.png', show_shapes=True, show_dtype=False, show_layer_names=True, dpi=96)"
      ],
      "metadata": {
        "colab": {
          "base_uri": "https://localhost:8080/",
          "height": 787
        },
        "id": "6C2H0tXC1mdq",
        "outputId": "9c1e8737-9aec-4d53-ab13-c3742d621317"
      },
      "execution_count": 41,
      "outputs": [
        {
          "output_type": "stream",
          "name": "stdout",
          "text": [
            "Model: \"decoder_model\"\n",
            "__________________________________________________________________________________________________\n",
            " Layer (type)                   Output Shape         Param #     Connected to                     \n",
            "==================================================================================================\n",
            " decoder_input_x (InputLayer)   [(None, None, 1)]    0           []                               \n",
            "                                                                                                  \n",
            " decoder_input_state (InputLaye  [(None, 20)]        0           []                               \n",
            " r)                                                                                               \n",
            "                                                                                                  \n",
            " decoder_rnn (SimpleRNN)        [(None, None, 20),   440         ['decoder_input_x[0][0]',        \n",
            "                                 (None, 20)]                      'decoder_input_state[0][0]']    \n",
            "                                                                                                  \n",
            " decoder_dropout (Dropout)      (None, None, 20)     0           ['decoder_rnn[1][0]']            \n",
            "                                                                                                  \n",
            " decoder_dense (Dense)          (None, None, 1)      21          ['decoder_dropout[1][0]']        \n",
            "                                                                                                  \n",
            "==================================================================================================\n",
            "Total params: 461\n",
            "Trainable params: 461\n",
            "Non-trainable params: 0\n",
            "__________________________________________________________________________________________________\n"
          ]
        },
        {
          "output_type": "execute_result",
          "data": {
            "text/plain": [
              "<IPython.core.display.Image object>"
            ],
            "image/png": "[encoded data removed]"
          },
          "metadata": {},
          "execution_count": 41
        }
      ]
    },
    {
      "cell_type": "markdown",
      "source": [
        "# 3. Prepare Data\n"
      ],
      "metadata": {
        "id": "FGkEVely3W0y"
      }
    },
    {
      "cell_type": "markdown",
      "source": [
        "## 3.1 Load Data"
      ],
      "metadata": {
        "id": "dPL-bHpW5tkQ"
      }
    },
    {
      "cell_type": "code",
      "source": [
        "path = '/content/drive/MyDrive/Colab Notebooks/BADS7604/Group_HW3'\n",
        "df = pd.read_excel(f'{path}/BCH OHLC 10Y.xlsx',sheet_name='Daily',index_col='Date')\n",
        "df"
      ],
      "metadata": {
        "colab": {
          "base_uri": "https://localhost:8080/",
          "height": 455
        },
        "id": "V5OV_L5LMi2B",
        "outputId": "473be4b1-b2d9-4894-cdbe-f74f1ddbba65"
      },
      "execution_count": 42,
      "outputs": [
        {
          "output_type": "execute_result",
          "data": {
            "text/plain": [
              "            Last Price  Open Price  High Price  Low Price  \\\n",
              "Date                                                        \n",
              "2022-03-23       21.30       21.50       21.80      21.30   \n",
              "2022-03-22       21.50       21.80       21.90      21.40   \n",
              "2022-03-21       21.80       21.40       21.90      21.30   \n",
              "2022-03-18       21.20       20.90       21.30      20.80   \n",
              "2022-03-17       21.00       20.90       21.30      20.90   \n",
              "...                ...         ...         ...        ...   \n",
              "2012-02-15        5.52        5.48        5.56       5.48   \n",
              "2012-02-14        5.48        5.60        5.60       5.44   \n",
              "2012-02-13        5.56        5.64        5.64       5.56   \n",
              "2012-02-10        5.64        5.56        5.64       5.52   \n",
              "2012-02-09        5.60        5.64        5.64       5.60   \n",
              "\n",
              "            BCH TB Equity - Volume  \n",
              "Date                                \n",
              "2022-03-23                13652618  \n",
              "2022-03-22                15422907  \n",
              "2022-03-21                31993000  \n",
              "2022-03-18                23403892  \n",
              "2022-03-17                21165356  \n",
              "...                            ...  \n",
              "2012-02-15                 2479125  \n",
              "2012-02-14                 3553750  \n",
              "2012-02-13                 1923000  \n",
              "2012-02-10                 6783500  \n",
              "2012-02-09                 4118750  \n",
              "\n",
              "[2469 rows x 5 columns]"
            ],
            "text/html": [
              "\n",
              "  <div id=\"df-1090d887-2716-4bca-8a74-962cde6e8a75\">\n",
              "    <div class=\"colab-df-container\">\n",
              "      <div>\n",
              "<style scoped>\n",
              "    .dataframe tbody tr th:only-of-type {\n",
              "        vertical-align: middle;\n",
              "    }\n",
              "\n",
              "    .dataframe tbody tr th {\n",
              "        vertical-align: top;\n",
              "    }\n",
              "\n",
              "    .dataframe thead th {\n",
              "        text-align: right;\n",
              "    }\n",
              "</style>\n",
              "<table border=\"1\" class=\"dataframe\">\n",
              "  <thead>\n",
              "    <tr style=\"text-align: right;\">\n",
              "      <th></th>\n",
              "      <th>Last Price</th>\n",
              "      <th>Open Price</th>\n",
              "      <th>High Price</th>\n",
              "      <th>Low Price</th>\n",
              "      <th>BCH TB Equity - Volume</th>\n",
              "    </tr>\n",
              "    <tr>\n",
              "      <th>Date</th>\n",
              "      <th></th>\n",
              "      <th></th>\n",
              "      <th></th>\n",
              "      <th></th>\n",
              "      <th></th>\n",
              "    </tr>\n",
              "  </thead>\n",
              "  <tbody>\n",
              "    <tr>\n",
              "      <th>2022-03-23</th>\n",
              "      <td>21.30</td>\n",
              "      <td>21.50</td>\n",
              "      <td>21.80</td>\n",
              "      <td>21.30</td>\n",
              "      <td>13652618</td>\n",
              "    </tr>\n",
              "    <tr>\n",
              "      <th>2022-03-22</th>\n",
              "      <td>21.50</td>\n",
              "      <td>21.80</td>\n",
              "      <td>21.90</td>\n",
              "      <td>21.40</td>\n",
              "      <td>15422907</td>\n",
              "    </tr>\n",
              "    <tr>\n",
              "      <th>2022-03-21</th>\n",
              "      <td>21.80</td>\n",
              "      <td>21.40</td>\n",
              "      <td>21.90</td>\n",
              "      <td>21.30</td>\n",
              "      <td>31993000</td>\n",
              "    </tr>\n",
              "    <tr>\n",
              "      <th>2022-03-18</th>\n",
              "      <td>21.20</td>\n",
              "      <td>20.90</td>\n",
              "      <td>21.30</td>\n",
              "      <td>20.80</td>\n",
              "      <td>23403892</td>\n",
              "    </tr>\n",
              "    <tr>\n",
              "      <th>2022-03-17</th>\n",
              "      <td>21.00</td>\n",
              "      <td>20.90</td>\n",
              "      <td>21.30</td>\n",
              "      <td>20.90</td>\n",
              "      <td>21165356</td>\n",
              "    </tr>\n",
              "    <tr>\n",
              "      <th>...</th>\n",
              "      <td>...</td>\n",
              "      <td>...</td>\n",
              "      <td>...</td>\n",
              "      <td>...</td>\n",
              "      <td>...</td>\n",
              "    </tr>\n",
              "    <tr>\n",
              "      <th>2012-02-15</th>\n",
              "      <td>5.52</td>\n",
              "      <td>5.48</td>\n",
              "      <td>5.56</td>\n",
              "      <td>5.48</td>\n",
              "      <td>2479125</td>\n",
              "    </tr>\n",
              "    <tr>\n",
              "      <th>2012-02-14</th>\n",
              "      <td>5.48</td>\n",
              "      <td>5.60</td>\n",
              "      <td>5.60</td>\n",
              "      <td>5.44</td>\n",
              "      <td>3553750</td>\n",
              "    </tr>\n",
              "    <tr>\n",
              "      <th>2012-02-13</th>\n",
              "      <td>5.56</td>\n",
              "      <td>5.64</td>\n",
              "      <td>5.64</td>\n",
              "      <td>5.56</td>\n",
              "      <td>1923000</td>\n",
              "    </tr>\n",
              "    <tr>\n",
              "      <th>2012-02-10</th>\n",
              "      <td>5.64</td>\n",
              "      <td>5.56</td>\n",
              "      <td>5.64</td>\n",
              "      <td>5.52</td>\n",
              "      <td>6783500</td>\n",
              "    </tr>\n",
              "    <tr>\n",
              "      <th>2012-02-09</th>\n",
              "      <td>5.60</td>\n",
              "      <td>5.64</td>\n",
              "      <td>5.64</td>\n",
              "      <td>5.60</td>\n",
              "      <td>4118750</td>\n",
              "    </tr>\n",
              "  </tbody>\n",
              "</table>\n",
              "<p>2469 rows × 5 columns</p>\n",
              "</div>\n",
              "      <button class=\"colab-df-convert\" onclick=\"convertToInteractive('df-1090d887-2716-4bca-8a74-962cde6e8a75')\"\n",
              "              title=\"Convert this dataframe to an interactive table.\"\n",
              "              style=\"display:none;\">\n",
              "        \n",
              "  <svg xmlns=\"http://www.w3.org/2000/svg\" height=\"24px\"viewBox=\"0 0 24 24\"\n",
              "       width=\"24px\">\n",
              "    <path d=\"M0 0h24v24H0V0z\" fill=\"none\"/>\n",
              "    <path d=\"M18.56 5.44l.94 2.06.94-2.06 2.06-.94-2.06-.94-.94-2.06-.94 2.06-2.06.94zm-11 1L8.5 8.5l.94-2.06 2.06-.94-2.06-.94L8.5 2.5l-.94 2.06-2.06.94zm10 10l.94 2.06.94-2.06 2.06-.94-2.06-.94-.94-2.06-.94 2.06-2.06.94z\"/><path d=\"M17.41 7.96l-1.37-1.37c-.4-.4-.92-.59-1.43-.59-.52 0-1.04.2-1.43.59L10.3 9.45l-7.72 7.72c-.78.78-.78 2.05 0 2.83L4 21.41c.39.39.9.59 1.41.59.51 0 1.02-.2 1.41-.59l7.78-7.78 2.81-2.81c.8-.78.8-2.07 0-2.86zM5.41 20L4 18.59l7.72-7.72 1.47 1.35L5.41 20z\"/>\n",
              "  </svg>\n",
              "      </button>\n",
              "      \n",
              "  <style>\n",
              "    .colab-df-container {\n",
              "      display:flex;\n",
              "      flex-wrap:wrap;\n",
              "      gap: 12px;\n",
              "    }\n",
              "\n",
              "    .colab-df-convert {\n",
              "      background-color: #E8F0FE;\n",
              "      border: none;\n",
              "      border-radius: 50%;\n",
              "      cursor: pointer;\n",
              "      display: none;\n",
              "      fill: #1967D2;\n",
              "      height: 32px;\n",
              "      padding: 0 0 0 0;\n",
              "      width: 32px;\n",
              "    }\n",
              "\n",
              "    .colab-df-convert:hover {\n",
              "      background-color: #E2EBFA;\n",
              "      box-shadow: 0px 1px 2px rgba(60, 64, 67, 0.3), 0px 1px 3px 1px rgba(60, 64, 67, 0.15);\n",
              "      fill: #174EA6;\n",
              "    }\n",
              "\n",
              "    [theme=dark] .colab-df-convert {\n",
              "      background-color: #3B4455;\n",
              "      fill: #D2E3FC;\n",
              "    }\n",
              "\n",
              "    [theme=dark] .colab-df-convert:hover {\n",
              "      background-color: #434B5C;\n",
              "      box-shadow: 0px 1px 3px 1px rgba(0, 0, 0, 0.15);\n",
              "      filter: drop-shadow(0px 1px 2px rgba(0, 0, 0, 0.3));\n",
              "      fill: #FFFFFF;\n",
              "    }\n",
              "  </style>\n",
              "\n",
              "      <script>\n",
              "        const buttonEl =\n",
              "          document.querySelector('#df-1090d887-2716-4bca-8a74-962cde6e8a75 button.colab-df-convert');\n",
              "        buttonEl.style.display =\n",
              "          google.colab.kernel.accessAllowed ? 'block' : 'none';\n",
              "\n",
              "        async function convertToInteractive(key) {\n",
              "          const element = document.querySelector('#df-1090d887-2716-4bca-8a74-962cde6e8a75');\n",
              "          const dataTable =\n",
              "            await google.colab.kernel.invokeFunction('convertToInteractive',\n",
              "                                                     [key], {});\n",
              "          if (!dataTable) return;\n",
              "\n",
              "          const docLinkHtml = 'Like what you see? Visit the ' +\n",
              "            '<a target=\"_blank\" href=https://colab.research.google.com/notebooks/data_table.ipynb>data table notebook</a>'\n",
              "            + ' to learn more about interactive tables.';\n",
              "          element.innerHTML = '';\n",
              "          dataTable['output_type'] = 'display_data';\n",
              "          await google.colab.output.renderOutput(dataTable, element);\n",
              "          const docLink = document.createElement('div');\n",
              "          docLink.innerHTML = docLinkHtml;\n",
              "          element.appendChild(docLink);\n",
              "        }\n",
              "      </script>\n",
              "    </div>\n",
              "  </div>\n",
              "  "
            ]
          },
          "metadata": {},
          "execution_count": 42
        }
      ]
    },
    {
      "cell_type": "code",
      "source": [
        "# Sort descending\n",
        "df.drop([x for x in df.columns.to_list() if x != 'Last Price'], axis=1, inplace=True)\n",
        "df.sort_index(ascending=True, inplace=True)\n",
        "df"
      ],
      "metadata": {
        "colab": {
          "base_uri": "https://localhost:8080/",
          "height": 455
        },
        "id": "sNliiKfpM7ZQ",
        "outputId": "91d5905f-8fdb-4d5d-b809-8ec28fb0d13b"
      },
      "execution_count": 43,
      "outputs": [
        {
          "output_type": "execute_result",
          "data": {
            "text/plain": [
              "            Last Price\n",
              "Date                  \n",
              "2012-02-09        5.60\n",
              "2012-02-10        5.64\n",
              "2012-02-13        5.56\n",
              "2012-02-14        5.48\n",
              "2012-02-15        5.52\n",
              "...                ...\n",
              "2022-03-17       21.00\n",
              "2022-03-18       21.20\n",
              "2022-03-21       21.80\n",
              "2022-03-22       21.50\n",
              "2022-03-23       21.30\n",
              "\n",
              "[2469 rows x 1 columns]"
            ],
            "text/html": [
              "\n",
              "  <div id=\"df-a77f5b30-067e-403f-997f-2a4d382e0df5\">\n",
              "    <div class=\"colab-df-container\">\n",
              "      <div>\n",
              "<style scoped>\n",
              "    .dataframe tbody tr th:only-of-type {\n",
              "        vertical-align: middle;\n",
              "    }\n",
              "\n",
              "    .dataframe tbody tr th {\n",
              "        vertical-align: top;\n",
              "    }\n",
              "\n",
              "    .dataframe thead th {\n",
              "        text-align: right;\n",
              "    }\n",
              "</style>\n",
              "<table border=\"1\" class=\"dataframe\">\n",
              "  <thead>\n",
              "    <tr style=\"text-align: right;\">\n",
              "      <th></th>\n",
              "      <th>Last Price</th>\n",
              "    </tr>\n",
              "    <tr>\n",
              "      <th>Date</th>\n",
              "      <th></th>\n",
              "    </tr>\n",
              "  </thead>\n",
              "  <tbody>\n",
              "    <tr>\n",
              "      <th>2012-02-09</th>\n",
              "      <td>5.60</td>\n",
              "    </tr>\n",
              "    <tr>\n",
              "      <th>2012-02-10</th>\n",
              "      <td>5.64</td>\n",
              "    </tr>\n",
              "    <tr>\n",
              "      <th>2012-02-13</th>\n",
              "      <td>5.56</td>\n",
              "    </tr>\n",
              "    <tr>\n",
              "      <th>2012-02-14</th>\n",
              "      <td>5.48</td>\n",
              "    </tr>\n",
              "    <tr>\n",
              "      <th>2012-02-15</th>\n",
              "      <td>5.52</td>\n",
              "    </tr>\n",
              "    <tr>\n",
              "      <th>...</th>\n",
              "      <td>...</td>\n",
              "    </tr>\n",
              "    <tr>\n",
              "      <th>2022-03-17</th>\n",
              "      <td>21.00</td>\n",
              "    </tr>\n",
              "    <tr>\n",
              "      <th>2022-03-18</th>\n",
              "      <td>21.20</td>\n",
              "    </tr>\n",
              "    <tr>\n",
              "      <th>2022-03-21</th>\n",
              "      <td>21.80</td>\n",
              "    </tr>\n",
              "    <tr>\n",
              "      <th>2022-03-22</th>\n",
              "      <td>21.50</td>\n",
              "    </tr>\n",
              "    <tr>\n",
              "      <th>2022-03-23</th>\n",
              "      <td>21.30</td>\n",
              "    </tr>\n",
              "  </tbody>\n",
              "</table>\n",
              "<p>2469 rows × 1 columns</p>\n",
              "</div>\n",
              "      <button class=\"colab-df-convert\" onclick=\"convertToInteractive('df-a77f5b30-067e-403f-997f-2a4d382e0df5')\"\n",
              "              title=\"Convert this dataframe to an interactive table.\"\n",
              "              style=\"display:none;\">\n",
              "        \n",
              "  <svg xmlns=\"http://www.w3.org/2000/svg\" height=\"24px\"viewBox=\"0 0 24 24\"\n",
              "       width=\"24px\">\n",
              "    <path d=\"M0 0h24v24H0V0z\" fill=\"none\"/>\n",
              "    <path d=\"M18.56 5.44l.94 2.06.94-2.06 2.06-.94-2.06-.94-.94-2.06-.94 2.06-2.06.94zm-11 1L8.5 8.5l.94-2.06 2.06-.94-2.06-.94L8.5 2.5l-.94 2.06-2.06.94zm10 10l.94 2.06.94-2.06 2.06-.94-2.06-.94-.94-2.06-.94 2.06-2.06.94z\"/><path d=\"M17.41 7.96l-1.37-1.37c-.4-.4-.92-.59-1.43-.59-.52 0-1.04.2-1.43.59L10.3 9.45l-7.72 7.72c-.78.78-.78 2.05 0 2.83L4 21.41c.39.39.9.59 1.41.59.51 0 1.02-.2 1.41-.59l7.78-7.78 2.81-2.81c.8-.78.8-2.07 0-2.86zM5.41 20L4 18.59l7.72-7.72 1.47 1.35L5.41 20z\"/>\n",
              "  </svg>\n",
              "      </button>\n",
              "      \n",
              "  <style>\n",
              "    .colab-df-container {\n",
              "      display:flex;\n",
              "      flex-wrap:wrap;\n",
              "      gap: 12px;\n",
              "    }\n",
              "\n",
              "    .colab-df-convert {\n",
              "      background-color: #E8F0FE;\n",
              "      border: none;\n",
              "      border-radius: 50%;\n",
              "      cursor: pointer;\n",
              "      display: none;\n",
              "      fill: #1967D2;\n",
              "      height: 32px;\n",
              "      padding: 0 0 0 0;\n",
              "      width: 32px;\n",
              "    }\n",
              "\n",
              "    .colab-df-convert:hover {\n",
              "      background-color: #E2EBFA;\n",
              "      box-shadow: 0px 1px 2px rgba(60, 64, 67, 0.3), 0px 1px 3px 1px rgba(60, 64, 67, 0.15);\n",
              "      fill: #174EA6;\n",
              "    }\n",
              "\n",
              "    [theme=dark] .colab-df-convert {\n",
              "      background-color: #3B4455;\n",
              "      fill: #D2E3FC;\n",
              "    }\n",
              "\n",
              "    [theme=dark] .colab-df-convert:hover {\n",
              "      background-color: #434B5C;\n",
              "      box-shadow: 0px 1px 3px 1px rgba(0, 0, 0, 0.15);\n",
              "      filter: drop-shadow(0px 1px 2px rgba(0, 0, 0, 0.3));\n",
              "      fill: #FFFFFF;\n",
              "    }\n",
              "  </style>\n",
              "\n",
              "      <script>\n",
              "        const buttonEl =\n",
              "          document.querySelector('#df-a77f5b30-067e-403f-997f-2a4d382e0df5 button.colab-df-convert');\n",
              "        buttonEl.style.display =\n",
              "          google.colab.kernel.accessAllowed ? 'block' : 'none';\n",
              "\n",
              "        async function convertToInteractive(key) {\n",
              "          const element = document.querySelector('#df-a77f5b30-067e-403f-997f-2a4d382e0df5');\n",
              "          const dataTable =\n",
              "            await google.colab.kernel.invokeFunction('convertToInteractive',\n",
              "                                                     [key], {});\n",
              "          if (!dataTable) return;\n",
              "\n",
              "          const docLinkHtml = 'Like what you see? Visit the ' +\n",
              "            '<a target=\"_blank\" href=https://colab.research.google.com/notebooks/data_table.ipynb>data table notebook</a>'\n",
              "            + ' to learn more about interactive tables.';\n",
              "          element.innerHTML = '';\n",
              "          dataTable['output_type'] = 'display_data';\n",
              "          await google.colab.output.renderOutput(dataTable, element);\n",
              "          const docLink = document.createElement('div');\n",
              "          docLink.innerHTML = docLinkHtml;\n",
              "          element.appendChild(docLink);\n",
              "        }\n",
              "      </script>\n",
              "    </div>\n",
              "  </div>\n",
              "  "
            ]
          },
          "metadata": {},
          "execution_count": 43
        }
      ]
    },
    {
      "cell_type": "code",
      "source": [
        "# Visualize BCH price\n",
        "plt.figure(figsize=(10,6))\n",
        "plt.plot(df)"
      ],
      "metadata": {
        "colab": {
          "base_uri": "https://localhost:8080/",
          "height": 391
        },
        "id": "0nnCiX99NMZ8",
        "outputId": "580f7611-88d0-4620-a6e2-11055b72a995"
      },
      "execution_count": 44,
      "outputs": [
        {
          "output_type": "execute_result",
          "data": {
            "text/plain": [
              "[<matplotlib.lines.Line2D at 0x7f6eda25d290>]"
            ]
          },
          "metadata": {},
          "execution_count": 44
        },
        {
          "output_type": "display_data",
          "data": {
            "text/plain": [
              "<Figure size 720x432 with 1 Axes>"
            ],
            "image/png": "[encoded data removed]"
          },
          "metadata": {
            "needs_background": "light"
          }
        }
      ]
    },
    {
      "cell_type": "code",
      "source": [
        "# Split close price and return\n",
        "def window_return(val, window):\n",
        "  lst_x = []\n",
        "  lst_y = []\n",
        "  lst_x_return = []\n",
        "  lst_y_return = []\n",
        "  for i in range(0,len(val) - window -1,1):\n",
        "    first_price = val[i]\n",
        "    lst_x.append(val[i:i+window])\n",
        "    lst_y.append(val[i+window])\n",
        "    lst_x_return.append((val[i+1:i+window]-first_price)/first_price)\n",
        "    lst_y_return.append((val[i+window]-first_price)/first_price)\n",
        "  array_x_return = np.array(lst_x_return).reshape(-1,window-1)\n",
        "  array_y_return = np.array(lst_y_return).reshape(-1,1)\n",
        "  array_x = np.array(lst_x).reshape(-1,window)\n",
        "  array_y = np.array(lst_y).reshape(-1,1)\n",
        "  return array_x,array_x_return,array_y,array_y_return"
      ],
      "metadata": {
        "id": "ZX_iYp1Y-aZg"
      },
      "execution_count": 45,
      "outputs": []
    },
    {
      "cell_type": "code",
      "source": [
        "x_close,encoder_x,y_close,ynext = window_return(df['Last Price'].values, 20)\n",
        "ynext = ynext.flatten()\n",
        "print(f\"x_close.shape : {x_close.shape}\")\n",
        "print(f\"x_return.shape : {encoder_x.shape}\")\n",
        "print(f\"y_close.shape : {y_close.shape}\")\n",
        "print(f\"y_return.shape : {ynext.shape}\")"
      ],
      "metadata": {
        "colab": {
          "base_uri": "https://localhost:8080/"
        },
        "id": "AVOlnfF2-fnR",
        "outputId": "3c9b983c-3192-48d6-a933-40702ce4c51c"
      },
      "execution_count": 46,
      "outputs": [
        {
          "output_type": "stream",
          "name": "stdout",
          "text": [
            "x_close.shape : (2448, 20)\n",
            "x_return.shape : (2448, 19)\n",
            "y_close.shape : (2448, 1)\n",
            "y_return.shape : (2448,)\n"
          ]
        }
      ]
    },
    {
      "cell_type": "markdown",
      "source": [
        "Split the dataset in to train/val/test sets"
      ],
      "metadata": {
        "id": "2Iuv-iYPDsLD"
      }
    },
    {
      "cell_type": "code",
      "source": [
        "n_data = encoder_x.shape[0]"
      ],
      "metadata": {
        "id": "Jk4FVRwVW-8T"
      },
      "execution_count": 47,
      "outputs": []
    },
    {
      "cell_type": "code",
      "source": [
        "n_train = int(n_data*0.8)           # 80% in train set\n",
        "n_test = int(n_data*0.1)            # 10% in test set\n",
        "n_val = n_data - n_train - n_test   # 10% in validation set\n",
        "\n",
        "encoder_x_train, ynext_train = encoder_x[:n_train], ynext[:n_train]\n",
        "encoder_x_val, ynext_val = encoder_x[n_train:n_train+n_val], ynext[n_train:n_train+n_val]\n",
        "encoder_x_test, ynext_test = encoder_x[n_train+n_val:], ynext[n_train+n_val:]\n",
        "\n",
        "encoder_x_train.shape, ynext_train.shape, encoder_x_val.shape, ynext_val.shape, encoder_x_test.shape, ynext_test.shape"
      ],
      "metadata": {
        "colab": {
          "base_uri": "https://localhost:8080/"
        },
        "id": "tXVDh1eA8KfB",
        "outputId": "653b83f8-37e4-4bf5-823a-c6928fc61a62"
      },
      "execution_count": 48,
      "outputs": [
        {
          "output_type": "execute_result",
          "data": {
            "text/plain": [
              "((1958, 19), (1958,), (246, 19), (246,), (244, 19), (244,))"
            ]
          },
          "metadata": {},
          "execution_count": 48
        }
      ]
    },
    {
      "cell_type": "code",
      "source": [
        "x_close_train, y_close_train = x_close[:n_train], y_close[:n_train]\n",
        "x_close_val, y_close_val = x_close[n_train:n_train+n_val], y_close[n_train:n_train+n_val]\n",
        "x_close_test, y_close_test = x_close[n_train+n_val:], y_close[n_train+n_val:]\n",
        "\n",
        "x_close_train.shape, y_close_train.shape, x_close_val.shape, y_close_val.shape, x_close_test.shape, y_close_test.shape"
      ],
      "metadata": {
        "colab": {
          "base_uri": "https://localhost:8080/"
        },
        "id": "DJBcvZLVAva6",
        "outputId": "ff1e95c0-2bcb-44c2-b623-d5bc472bf6c7"
      },
      "execution_count": 49,
      "outputs": [
        {
          "output_type": "execute_result",
          "data": {
            "text/plain": [
              "((1958, 20), (1958, 1), (246, 20), (246, 1), (244, 20), (244, 1))"
            ]
          },
          "metadata": {},
          "execution_count": 49
        }
      ]
    },
    {
      "cell_type": "markdown",
      "source": [
        "## 3.2 Prepare the 1-step outputs (`decoder_y`)"
      ],
      "metadata": {
        "id": "A4PHcwZbFh4r"
      }
    },
    {
      "cell_type": "code",
      "source": [
        "n_output_timesteps = 1      # how many time step ahead to predict\n",
        "# Create 'decoder_y' from 'ynext'\n",
        "decoder_y_train = np.zeros((ynext_train.shape[0], n_output_timesteps), dtype=ynext_train.dtype)\n",
        "decoder_y_test = np.zeros((ynext_test.shape[0], n_output_timesteps), dtype=ynext_test.dtype)\n",
        "decoder_y_val = np.zeros((ynext_val.shape[0], n_output_timesteps), dtype=ynext_val.dtype)\n",
        "decoder_y_train[:,0] = ynext_train[:]\n",
        "decoder_y_test[:,0] = ynext_test[:]\n",
        "decoder_y_val[:,0] = ynext_val[:]\n",
        "for i in range(1, n_output_timesteps):\n",
        "  decoder_y_train[:,i] = decoder_y_train[:, i-1] + 2\n",
        "  decoder_y_test[:,i] = decoder_y_test[:, i-1] + 2\n",
        "  decoder_y_val[:,i] = decoder_y_val[:, i-1] + 2\n",
        "\n",
        "print('encoder_x_train.shape={}, decoder_y_train.shape={}'.format(encoder_x_train.shape, decoder_y_train.shape))\n",
        "print('encoder_x_val.shape={}, decoder_y_val.shape={}'.format(encoder_x_val.shape, decoder_y_val.shape))\n",
        "print('encoder_x_test.shape={}, decoder_y_test.shape={}'.format(encoder_x_test.shape, decoder_y_test.shape))"
      ],
      "metadata": {
        "colab": {
          "base_uri": "https://localhost:8080/"
        },
        "id": "nCC39P6HE4f1",
        "outputId": "9160ded0-2fa0-48ce-b175-0f7f95ba4719"
      },
      "execution_count": 50,
      "outputs": [
        {
          "output_type": "stream",
          "name": "stdout",
          "text": [
            "encoder_x_train.shape=(1958, 19), decoder_y_train.shape=(1958, 1)\n",
            "encoder_x_val.shape=(246, 19), decoder_y_val.shape=(246, 1)\n",
            "encoder_x_test.shape=(244, 19), decoder_y_test.shape=(244, 1)\n"
          ]
        }
      ]
    },
    {
      "cell_type": "markdown",
      "source": [
        "## 3.3 Normalize the data"
      ],
      "metadata": {
        "id": "r300IgaVgcYT"
      }
    },
    {
      "cell_type": "code",
      "source": [
        "from sklearn.preprocessing import MinMaxScaler\n",
        "\n",
        "# Min-max scaling to normalize the data to the range [0, 1]\n",
        "# .fit_transform expects 2D input\n",
        "minmax_norm = MinMaxScaler().fit(encoder_x_train.reshape(-1, 1))\n",
        "print('Dataset min-max:', minmax_norm.data_min_, minmax_norm.data_max_)\n",
        "\n",
        "encoder_x_train_norm = minmax_norm.transform(encoder_x_train.reshape(-1, 1)).reshape(encoder_x_train.shape)\n",
        "decoder_y_train_norm = minmax_norm.transform(decoder_y_train.reshape(-1, 1)).reshape(decoder_y_train.shape)\n",
        "encoder_x_test_norm = minmax_norm.transform(encoder_x_test.reshape(-1, 1)).reshape(encoder_x_test.shape)\n",
        "decoder_y_test_norm = minmax_norm.transform(decoder_y_test.reshape(-1, 1)).reshape(decoder_y_test.shape)\n",
        "encoder_x_val_norm = minmax_norm.transform(encoder_x_val.reshape(-1, 1)).reshape(encoder_x_val.shape)\n",
        "decoder_y_val_norm = minmax_norm.transform(decoder_y_val.reshape(-1, 1)).reshape(decoder_y_val.shape)"
      ],
      "metadata": {
        "colab": {
          "base_uri": "https://localhost:8080/"
        },
        "id": "nZxbZDSpgJd0",
        "outputId": "fbdf662c-1433-4c41-c056-be1b8068bb0e"
      },
      "execution_count": 51,
      "outputs": [
        {
          "output_type": "stream",
          "name": "stdout",
          "text": [
            "Dataset min-max: [-0.26153846] [0.32352941]\n"
          ]
        }
      ]
    },
    {
      "cell_type": "markdown",
      "source": [
        "## 3.4 Prepare the decoder's input (`decoder_x`) according to Teacher Forcing"
      ],
      "metadata": {
        "id": "lKKG-xz-jKMK"
      }
    },
    {
      "cell_type": "code",
      "source": [
        "def gen_decoder_x(decoder_y_train, decoder_y_test, decoder_y_val, start_token=-0.1):\n",
        "  # Initial all with zeros\n",
        "  decoder_x_train = np.zeros_like(decoder_y_train)\n",
        "  decoder_x_test = np.zeros_like(decoder_y_test)\n",
        "  decoder_x_val = np.zeros_like(decoder_y_val)\n",
        "\n",
        "  # Set the start token for the first time step\n",
        "  decoder_x_train[:,0] = start_token\n",
        "  decoder_x_test[:,0] = start_token\n",
        "  decoder_x_val[:,0] = start_token\n",
        "\n",
        "  # Teacher forcing\n",
        "  n_timesteps = decoder_y_train.shape[-1]\n",
        "  decoder_x_train[:,1:] = decoder_y_train[:,0:n_timesteps-1]\n",
        "  decoder_x_test[:,1:] = decoder_y_test[:,0:n_timesteps-1]\n",
        "  decoder_x_val[:,1:] = decoder_y_val[:,0:n_timesteps-1]\n",
        "\n",
        "  return decoder_x_train, decoder_x_test, decoder_x_val\n",
        "\n",
        "start_token = -0.1 # the start of sequence for teacher forcing\n",
        "\n",
        "gen_results = gen_decoder_x(decoder_y_train_norm, decoder_y_test_norm, decoder_y_val_norm, start_token=start_token)\n",
        "decoder_x_train_norm, decoder_x_test_norm, decoder_x_val_norm = gen_results"
      ],
      "metadata": {
        "id": "FUU5Ubp9jJFZ"
      },
      "execution_count": 52,
      "outputs": []
    },
    {
      "cell_type": "markdown",
      "source": [
        "Format the data according to `seq2seq_model`'s requirements"
      ],
      "metadata": {
        "id": "Z783QSkk6332"
      }
    },
    {
      "cell_type": "code",
      "source": [
        "print('Dimension before changed:')\n",
        "print(encoder_x_train_norm.shape)\n",
        "print(decoder_x_train_norm.shape)\n",
        "print(decoder_y_train_norm.shape)\n",
        "print(encoder_x_val_norm.shape)\n",
        "print(decoder_x_val_norm.shape)\n",
        "print(decoder_y_val_norm.shape)\n",
        "print(encoder_x_test_norm.shape)\n",
        "print(decoder_x_test_norm.shape)\n",
        "print(decoder_y_test_norm.shape)\n",
        "\n",
        "encoder_x_train_norm = np.expand_dims(encoder_x_train_norm, axis=2)\n",
        "decoder_x_train_norm = np.expand_dims(decoder_x_train_norm, axis=2)\n",
        "decoder_y_train_norm = np.expand_dims(decoder_y_train_norm, axis=2)\n",
        "encoder_x_val_norm = np.expand_dims(encoder_x_val_norm, axis=2)\n",
        "decoder_x_val_norm = np.expand_dims(decoder_x_val_norm, axis=2)\n",
        "decoder_y_val_norm = np.expand_dims(decoder_y_val_norm, axis=2)\n",
        "encoder_x_test_norm = np.expand_dims(encoder_x_test_norm, axis=2)\n",
        "decoder_x_test_norm = np.expand_dims(decoder_x_test_norm, axis=2)\n",
        "decoder_y_test_norm = np.expand_dims(decoder_y_test_norm, axis=2)\n",
        "\n",
        "print('\\nDimension after chenged:')\n",
        "print(encoder_x_train_norm.shape)\n",
        "print(decoder_x_train_norm.shape)\n",
        "print(decoder_y_train_norm.shape)\n",
        "print(encoder_x_val_norm.shape)\n",
        "print(decoder_x_val_norm.shape)\n",
        "print(decoder_y_val_norm.shape)\n",
        "print(encoder_x_test_norm.shape)\n",
        "print(decoder_x_test_norm.shape)\n",
        "print(decoder_y_test_norm.shape)\n",
        "\n",
        "# Convert everything to the default of float32\n",
        "encoder_x_train_norm = encoder_x_train_norm.astype(np.float32)\n",
        "decoder_x_train_norm = decoder_x_train_norm.astype(np.float32)\n",
        "decoder_y_train_norm = decoder_y_train_norm.astype(np.float32)\n",
        "encoder_x_val_norm = encoder_x_val_norm.astype(np.float32)\n",
        "decoder_x_val_norm = decoder_x_val_norm.astype(np.float32)\n",
        "decoder_y_val_norm = decoder_y_val_norm.astype(np.float32)\n",
        "encoder_x_test_norm = encoder_x_test_norm.astype(np.float32)\n",
        "decoder_x_test_norm = decoder_x_test_norm.astype(np.float32)\n",
        "decoder_y_test_norm = decoder_y_test_norm.astype(np.float32)"
      ],
      "metadata": {
        "colab": {
          "base_uri": "https://localhost:8080/"
        },
        "id": "QVez8zB_6sh8",
        "outputId": "face6bd0-75ad-4e61-b2a8-4446b5539015"
      },
      "execution_count": 53,
      "outputs": [
        {
          "output_type": "stream",
          "name": "stdout",
          "text": [
            "Dimension before changed:\n",
            "(1958, 19)\n",
            "(1958, 1)\n",
            "(1958, 1)\n",
            "(246, 19)\n",
            "(246, 1)\n",
            "(246, 1)\n",
            "(244, 19)\n",
            "(244, 1)\n",
            "(244, 1)\n",
            "\n",
            "Dimension after chenged:\n",
            "(1958, 19, 1)\n",
            "(1958, 1, 1)\n",
            "(1958, 1, 1)\n",
            "(246, 19, 1)\n",
            "(246, 1, 1)\n",
            "(246, 1, 1)\n",
            "(244, 19, 1)\n",
            "(244, 1, 1)\n",
            "(244, 1, 1)\n"
          ]
        }
      ]
    },
    {
      "cell_type": "markdown",
      "source": [
        "# 4. Compile and train the model"
      ],
      "metadata": {
        "id": "PgxxOE3A8jmE"
      }
    },
    {
      "cell_type": "markdown",
      "source": [
        "## 4.1 Save the best models"
      ],
      "metadata": {
        "id": "cjA_lf4o8pOq"
      }
    },
    {
      "cell_type": "code",
      "source": [
        "checkpoint_filepath = 'Group_HW3_bestmodel_epoch{epoch:03d}.hdf5'\n",
        "model_checkpoint_callback = tf.keras.callbacks.ModelCheckpoint(filepath=checkpoint_filepath,\n",
        "                                                               save_weights_only=False,\n",
        "                                                               monitor='val_loss',\n",
        "                                                               mode='min',\n",
        "                                                               save_best_only=True)"
      ],
      "metadata": {
        "id": "E9_CFmPG8huO"
      },
      "execution_count": 54,
      "outputs": []
    },
    {
      "cell_type": "code",
      "source": [
        "class CustomCallback(tf.keras.callbacks.Callback):\n",
        "  def __init__(self, encoder, decoder):\n",
        "    super().__init__()\n",
        "\n",
        "    # The encoder and decoder models to be saved\n",
        "    self.encoder = encoder\n",
        "    self.decoder = decoder\n",
        "\n",
        "    self.min_valloss = None\n",
        "    self.start_time = None\n",
        "  \n",
        "  def on_train_begin(self, logs=None):\n",
        "    self.start_time = time.time()\n",
        "    self.min_valloss = None\n",
        "  \n",
        "  def on_epoch_end(self, epoch, logs=None):\n",
        "    # Compute the total runtime since the training started\n",
        "    total_run_time = int(time.time() - self.start_time)\n",
        "    msg = f' Train time {datetime.timedelta(seconds=total_run_time)}'\n",
        "    # Save the best encoder and decoder models\n",
        "    if 'val_loss' in logs.keys():\n",
        "      if self.min_valloss is None:\n",
        "        self.min_valloss = logs['val_loss']\n",
        "      if logs['val_loss'] < self.min_valloss:\n",
        "        self.min_valloss = logs['val_loss']\n",
        "        self.encoder.save('Group_HW3_bestencoder.hdf5')\n",
        "        self.decoder.save('Group_HW3_bestdecoder.hdf5')\n",
        "        msg += ' **best'\n",
        "    \n",
        "    # Print total run time at the beginning of each epoch's log\n",
        "    print(msg, end='-')\n",
        "\n",
        "my_callback = CustomCallback(encoder_model, decoder_model)"
      ],
      "metadata": {
        "id": "Z4ej0YJU9Plr"
      },
      "execution_count": 55,
      "outputs": []
    },
    {
      "cell_type": "markdown",
      "source": [
        "## 4.2 Compile and train"
      ],
      "metadata": {
        "id": "fNSUsvVlAKYY"
      }
    },
    {
      "cell_type": "code",
      "source": [
        "nadam = tf.keras.optimizers.Nadam(learning_rate=0.0001)\n",
        "seq2seq_model.compile(loss='mse', optimizer=nadam, metrics=['mean_absolute_error'])"
      ],
      "metadata": {
        "id": "drz4z45HAJFW"
      },
      "execution_count": 56,
      "outputs": []
    },
    {
      "cell_type": "code",
      "source": [
        "# Surpass TF's warning messages\n",
        "tf.compat.v1.logging.set_verbosity(tf.compat.v1.logging.ERROR)\n",
        "\n",
        "# Train the unified model\n",
        "hist = seq2seq_model.fit([encoder_x_train_norm, decoder_x_train_norm], decoder_y_train_norm,\n",
        "                         validation_data=([encoder_x_val_norm, decoder_x_val_norm], decoder_y_val_norm),\n",
        "                         batch_size=64, epochs=30, callbacks=[model_checkpoint_callback, my_callback],\n",
        "                         verbose=2\n",
        "                         )"
      ],
      "metadata": {
        "colab": {
          "base_uri": "https://localhost:8080/"
        },
        "id": "MZy3w1l1Ar_6",
        "outputId": "4faf6374-1e1e-46f0-89e5-78abfa8b48bc"
      },
      "execution_count": 57,
      "outputs": [
        {
          "output_type": "stream",
          "name": "stdout",
          "text": [
            "Epoch 1/30\n",
            " Train time 0:00:02-31/31 - 2s - loss: 0.2928 - mean_absolute_error: 0.4978 - val_loss: 0.1638 - val_mean_absolute_error: 0.3841 - 2s/epoch - 73ms/step\n",
            "Epoch 2/30\n",
            " Train time 0:00:02 **best-31/31 - 0s - loss: 0.1338 - mean_absolute_error: 0.3083 - val_loss: 0.0556 - val_mean_absolute_error: 0.2116 - 443ms/epoch - 14ms/step\n",
            "Epoch 3/30\n",
            " Train time 0:00:03 **best-31/31 - 0s - loss: 0.0664 - mean_absolute_error: 0.2018 - val_loss: 0.0231 - val_mean_absolute_error: 0.1204 - 465ms/epoch - 15ms/step\n",
            "Epoch 4/30\n",
            " Train time 0:00:03 **best-31/31 - 0s - loss: 0.0473 - mean_absolute_error: 0.1706 - val_loss: 0.0160 - val_mean_absolute_error: 0.0932 - 433ms/epoch - 14ms/step\n",
            "Epoch 5/30\n",
            " Train time 0:00:04 **best-31/31 - 0s - loss: 0.0388 - mean_absolute_error: 0.1551 - val_loss: 0.0142 - val_mean_absolute_error: 0.0866 - 420ms/epoch - 14ms/step\n",
            "Epoch 6/30\n",
            " Train time 0:00:04 **best-31/31 - 0s - loss: 0.0377 - mean_absolute_error: 0.1517 - val_loss: 0.0125 - val_mean_absolute_error: 0.0800 - 445ms/epoch - 14ms/step\n",
            "Epoch 7/30\n",
            " Train time 0:00:04 **best-31/31 - 0s - loss: 0.0326 - mean_absolute_error: 0.1403 - val_loss: 0.0112 - val_mean_absolute_error: 0.0745 - 448ms/epoch - 14ms/step\n",
            "Epoch 8/30\n",
            " Train time 0:00:05 **best-31/31 - 0s - loss: 0.0304 - mean_absolute_error: 0.1365 - val_loss: 0.0104 - val_mean_absolute_error: 0.0725 - 442ms/epoch - 14ms/step\n",
            "Epoch 9/30\n",
            " Train time 0:00:05 **best-31/31 - 0s - loss: 0.0281 - mean_absolute_error: 0.1305 - val_loss: 0.0094 - val_mean_absolute_error: 0.0685 - 440ms/epoch - 14ms/step\n",
            "Epoch 10/30\n",
            " Train time 0:00:06 **best-31/31 - 0s - loss: 0.0242 - mean_absolute_error: 0.1200 - val_loss: 0.0088 - val_mean_absolute_error: 0.0665 - 433ms/epoch - 14ms/step\n",
            "Epoch 11/30\n",
            " Train time 0:00:06 **best-31/31 - 0s - loss: 0.0234 - mean_absolute_error: 0.1174 - val_loss: 0.0081 - val_mean_absolute_error: 0.0635 - 489ms/epoch - 16ms/step\n",
            "Epoch 12/30\n",
            " Train time 0:00:07 **best-31/31 - 0s - loss: 0.0213 - mean_absolute_error: 0.1143 - val_loss: 0.0076 - val_mean_absolute_error: 0.0614 - 425ms/epoch - 14ms/step\n",
            "Epoch 13/30\n",
            " Train time 0:00:07 **best-31/31 - 0s - loss: 0.0205 - mean_absolute_error: 0.1108 - val_loss: 0.0069 - val_mean_absolute_error: 0.0582 - 415ms/epoch - 13ms/step\n",
            "Epoch 14/30\n",
            " Train time 0:00:08 **best-31/31 - 0s - loss: 0.0185 - mean_absolute_error: 0.1061 - val_loss: 0.0066 - val_mean_absolute_error: 0.0566 - 419ms/epoch - 14ms/step\n",
            "Epoch 15/30\n",
            " Train time 0:00:08 **best-31/31 - 0s - loss: 0.0185 - mean_absolute_error: 0.1051 - val_loss: 0.0061 - val_mean_absolute_error: 0.0544 - 406ms/epoch - 13ms/step\n",
            "Epoch 16/30\n",
            " Train time 0:00:08 **best-31/31 - 0s - loss: 0.0174 - mean_absolute_error: 0.1034 - val_loss: 0.0060 - val_mean_absolute_error: 0.0537 - 375ms/epoch - 12ms/step\n",
            "Epoch 17/30\n",
            " Train time 0:00:09 **best-31/31 - 0s - loss: 0.0152 - mean_absolute_error: 0.0953 - val_loss: 0.0057 - val_mean_absolute_error: 0.0528 - 389ms/epoch - 13ms/step\n",
            "Epoch 18/30\n",
            " Train time 0:00:09 **best-31/31 - 0s - loss: 0.0161 - mean_absolute_error: 0.0985 - val_loss: 0.0054 - val_mean_absolute_error: 0.0508 - 375ms/epoch - 12ms/step\n",
            "Epoch 19/30\n",
            " Train time 0:00:09-31/31 - 0s - loss: 0.0151 - mean_absolute_error: 0.0967 - val_loss: 0.0056 - val_mean_absolute_error: 0.0528 - 347ms/epoch - 11ms/step\n",
            "Epoch 20/30\n",
            " Train time 0:00:10 **best-31/31 - 0s - loss: 0.0148 - mean_absolute_error: 0.0934 - val_loss: 0.0050 - val_mean_absolute_error: 0.0491 - 384ms/epoch - 12ms/step\n",
            "Epoch 21/30\n",
            " Train time 0:00:10-31/31 - 0s - loss: 0.0148 - mean_absolute_error: 0.0931 - val_loss: 0.0051 - val_mean_absolute_error: 0.0500 - 354ms/epoch - 11ms/step\n",
            "Epoch 22/30\n",
            " Train time 0:00:11 **best-31/31 - 0s - loss: 0.0140 - mean_absolute_error: 0.0920 - val_loss: 0.0048 - val_mean_absolute_error: 0.0484 - 369ms/epoch - 12ms/step\n",
            "Epoch 23/30\n",
            " Train time 0:00:11 **best-31/31 - 0s - loss: 0.0135 - mean_absolute_error: 0.0910 - val_loss: 0.0047 - val_mean_absolute_error: 0.0480 - 375ms/epoch - 12ms/step\n",
            "Epoch 24/30\n",
            " Train time 0:00:11-31/31 - 0s - loss: 0.0132 - mean_absolute_error: 0.0879 - val_loss: 0.0049 - val_mean_absolute_error: 0.0489 - 355ms/epoch - 11ms/step\n",
            "Epoch 25/30\n",
            " Train time 0:00:12 **best-31/31 - 0s - loss: 0.0134 - mean_absolute_error: 0.0890 - val_loss: 0.0046 - val_mean_absolute_error: 0.0471 - 388ms/epoch - 13ms/step\n",
            "Epoch 26/30\n",
            " Train time 0:00:12-31/31 - 0s - loss: 0.0133 - mean_absolute_error: 0.0886 - val_loss: 0.0046 - val_mean_absolute_error: 0.0477 - 360ms/epoch - 12ms/step\n",
            "Epoch 27/30\n",
            " Train time 0:00:12 **best-31/31 - 0s - loss: 0.0118 - mean_absolute_error: 0.0839 - val_loss: 0.0045 - val_mean_absolute_error: 0.0466 - 375ms/epoch - 12ms/step\n",
            "Epoch 28/30\n",
            " Train time 0:00:13 **best-31/31 - 0s - loss: 0.0121 - mean_absolute_error: 0.0854 - val_loss: 0.0044 - val_mean_absolute_error: 0.0465 - 392ms/epoch - 13ms/step\n",
            "Epoch 29/30\n",
            " Train time 0:00:13-31/31 - 0s - loss: 0.0122 - mean_absolute_error: 0.0859 - val_loss: 0.0045 - val_mean_absolute_error: 0.0470 - 353ms/epoch - 11ms/step\n",
            "Epoch 30/30\n",
            " Train time 0:00:14 **best-31/31 - 0s - loss: 0.0112 - mean_absolute_error: 0.0829 - val_loss: 0.0041 - val_mean_absolute_error: 0.0448 - 375ms/epoch - 12ms/step\n"
          ]
        }
      ]
    },
    {
      "cell_type": "code",
      "source": [
        "hist.history.keys()"
      ],
      "metadata": {
        "colab": {
          "base_uri": "https://localhost:8080/"
        },
        "id": "7CsOl6dlBi9Y",
        "outputId": "dc1129c6-5baf-4a6b-e9e5-5771a168ac6c"
      },
      "execution_count": 58,
      "outputs": [
        {
          "output_type": "execute_result",
          "data": {
            "text/plain": [
              "dict_keys(['loss', 'mean_absolute_error', 'val_loss', 'val_mean_absolute_error'])"
            ]
          },
          "metadata": {},
          "execution_count": 58
        }
      ]
    },
    {
      "cell_type": "code",
      "source": [
        "# Plot training & validation loss values\n",
        "plt.figure(figsize=(15,5))\n",
        "plt.plot(hist.history['loss'])\n",
        "plt.plot(hist.history['val_loss'])\n",
        "plt.title('Model loss: MSE')\n",
        "plt.ylabel('Loss')\n",
        "plt.xlabel('Epoch')\n",
        "plt.legend(['train', 'val'], loc='upper right')\n",
        "plt.grid()\n",
        "plt.show()"
      ],
      "metadata": {
        "colab": {
          "base_uri": "https://localhost:8080/",
          "height": 350
        },
        "id": "eJtEDw3ZBsOL",
        "outputId": "5dff9cec-49c1-40c2-b831-ddc53c3360bc"
      },
      "execution_count": 59,
      "outputs": [
        {
          "output_type": "display_data",
          "data": {
            "text/plain": [
              "<Figure size 1080x360 with 1 Axes>"
            ],
            "image/png": "[encoded data removed]"
          },
          "metadata": {
            "needs_background": "light"
          }
        }
      ]
    },
    {
      "cell_type": "code",
      "source": [
        "# Plot training & validation evaluation values\n",
        "plt.figure(figsize=(15,5))\n",
        "plt.plot(hist.history['mean_absolute_error'])\n",
        "plt.plot(hist.history['val_mean_absolute_error'])\n",
        "plt.title('Model: MAE')\n",
        "plt.ylabel('MAE')\n",
        "plt.xlabel('Epoch')\n",
        "plt.legend(['train', 'val'], loc='upper right')\n",
        "plt.grid()\n",
        "plt.show()"
      ],
      "metadata": {
        "colab": {
          "base_uri": "https://localhost:8080/",
          "height": 350
        },
        "id": "YWPLoCAoCV8Z",
        "outputId": "24745c05-dcc1-4e1d-840b-8c3560a800e6"
      },
      "execution_count": 60,
      "outputs": [
        {
          "output_type": "display_data",
          "data": {
            "text/plain": [
              "<Figure size 1080x360 with 1 Axes>"
            ],
            "image/png": "[encoded data removed]"
          },
          "metadata": {
            "needs_background": "light"
          }
        }
      ]
    },
    {
      "cell_type": "markdown",
      "source": [
        "# 5. Evaluation"
      ],
      "metadata": {
        "id": "EsXRf1vUCtOF"
      }
    },
    {
      "cell_type": "code",
      "source": [
        "# Load the model from the best epoch (minimum val_loss)\n",
        "import os\n",
        "bestmodel_path = max([f for f in os.listdir('.') if f.startswith('Group_HW3_bestmodel_') and f.endswith('.hdf5')])\n",
        "print(f'The best model: {bestmodel_path}')\n",
        "\n",
        "best_model = tf.keras.models.load_model(bestmodel_path, compile=True)"
      ],
      "metadata": {
        "colab": {
          "base_uri": "https://localhost:8080/"
        },
        "id": "TkAmO_22DOFu",
        "outputId": "57b6cb81-0c99-4348-a853-24ca7a14b7b9"
      },
      "execution_count": 61,
      "outputs": [
        {
          "output_type": "stream",
          "name": "stdout",
          "text": [
            "The best model: Group_HW3_bestmodel_epoch030.hdf5\n"
          ]
        }
      ]
    },
    {
      "cell_type": "code",
      "source": [
        "# Evaluate the model from the last epoch\n",
        "score = seq2seq_model.evaluate([encoder_x_test_norm, decoder_x_test_norm], decoder_y_test_norm, verbose=0)\n",
        "if hasattr(score,'__len__'):\n",
        "  print('The results (model from the last epoch):', [(seq2seq_model.metrics_names[i], score[i]) for i in range(len(score))])\n",
        "else:\n",
        "  print('The results (model from the last epoch):', (seq2seq_model.metrics_names[0], score))\n",
        "\n",
        "# Evaluate the model from the best epoch\n",
        "score = best_model.evaluate([encoder_x_test_norm, decoder_x_test_norm], decoder_y_test_norm, verbose=0)\n",
        "if hasattr(score,'__len__'):\n",
        "  print('The results (model from the best epoch):', [(best_model.metrics_names[i], score[i]) for i in range(len(score))])\n",
        "else:\n",
        "  print('The results (model from the best epoch):', (best_model.metrics_names[0], score))"
      ],
      "metadata": {
        "colab": {
          "base_uri": "https://localhost:8080/"
        },
        "id": "JXon6rFGD3in",
        "outputId": "ffc4556d-ba9c-44f4-d3de-478f1314a75a"
      },
      "execution_count": 62,
      "outputs": [
        {
          "output_type": "stream",
          "name": "stdout",
          "text": [
            "The results (model from the last epoch): [('loss', 0.004897018428891897), ('mean_absolute_error', 0.05407462641596794)]\n",
            "The results (model from the best epoch): [('loss', 0.004897018428891897), ('mean_absolute_error', 0.05407462641596794)]\n"
          ]
        }
      ]
    },
    {
      "cell_type": "markdown",
      "source": [
        "# 6. Inference"
      ],
      "metadata": {
        "id": "9gbqT2GaFQ9h"
      }
    },
    {
      "cell_type": "markdown",
      "source": [
        "## 6.1 Load the best encoder and decoder models"
      ],
      "metadata": {
        "id": "asjm0ldAFU8f"
      }
    },
    {
      "cell_type": "code",
      "source": [
        "# Load the encoder and decoder models corresponding to the best epoch (minimum val_loss)\n",
        "best_encoder = tf.keras.models.load_model('Group_HW3_bestencoder.hdf5', compile=False)\n",
        "best_decoder = tf.keras.models.load_model('Group_HW3_bestdecoder.hdf5', compile=False)"
      ],
      "metadata": {
        "id": "CVIoubsiFUWa"
      },
      "execution_count": 63,
      "outputs": []
    },
    {
      "cell_type": "markdown",
      "source": [
        "## 6.2 Define a function for autoregressive decoding"
      ],
      "metadata": {
        "id": "AFMnSm4NF03K"
      }
    },
    {
      "cell_type": "code",
      "source": [
        "def autoregressive_decode(encoder_inf, decoder_inf, input_seq, n_step_out, n_out_feature=1, start_token=0):\n",
        "  '''\n",
        "  Input argruments:\n",
        "    encoder_inf (model): the encoder model to be used during inferencing\n",
        "    decoder_int (model): the decoder model to be used during inferencing\n",
        "    input_seq (a sequence of numbers): an input sequence (input_dim=1) for the model to predict the next numbers\n",
        "    n_step_out (int): for how many output time step that the model should predict\n",
        "    n_out_feature (int): the number of features for one output (in our example, it is 1)\n",
        "  '''\n",
        "  # Encode\n",
        "  state = encoder_inf.predict(input_seq)\n",
        "  # Create the first input of the decoder (= the start token)\n",
        "  target_seq = np.zeros(n_out_feature).reshape(1,1,n_out_feature)\n",
        "  target_seq[0,0,:] = start_token\n",
        "  # Collect predictions from autoreqressive decoding\n",
        "  output = []\n",
        "  for t in range(n_step_out):\n",
        "    # Predict the next number\n",
        "    y_pred, state = decoder_inf.predict([target_seq,state])\n",
        "\n",
        "    # Store prediction\n",
        "    output.append(y_pred[0,0,:])\n",
        "\n",
        "    # Update target sequence\n",
        "    target_seq = y_pred\n",
        "  \n",
        "  return np.array(output)"
      ],
      "metadata": {
        "id": "JqY9Id4qFzH6"
      },
      "execution_count": 64,
      "outputs": []
    },
    {
      "cell_type": "markdown",
      "source": [
        "## 6.3 Use autoregressive decoding\n",
        "\n",
        "Evaluate the models on the test set"
      ],
      "metadata": {
        "id": "moqaZg87H7sh"
      }
    },
    {
      "cell_type": "code",
      "source": [
        "n = encoder_x_test.shape[0]\n",
        "n_step_out = n_output_timesteps\n",
        "y_pred = []\n",
        "\n",
        "for i in range(n):\n",
        "  ypred_norm = autoregressive_decode(best_encoder, best_decoder, np.expand_dims(encoder_x_test_norm[i], axis=0), n_step_out, 1, start_token)\n",
        "  ypred = minmax_norm.inverse_transform(ypred_norm)\n",
        "  y_pred.append(ypred.reshape(-1)[0])"
      ],
      "metadata": {
        "id": "sXCxTamNEmyM"
      },
      "execution_count": 65,
      "outputs": []
    },
    {
      "cell_type": "code",
      "source": [
        "# Convert return prediction to price\n",
        "y_pred = np.array(y_pred).reshape(-1,1)\n",
        "price_pred = (x_close_test[:,0].reshape(-1,1) * (1 + y_pred))\n",
        "price_pred = np.around(price_pred, 2)"
      ],
      "metadata": {
        "id": "WONVW4HdEBlj"
      },
      "execution_count": 66,
      "outputs": []
    },
    {
      "cell_type": "code",
      "source": [
        "# Visualize the price prediction\n",
        "plt.figure(figsize=(15,5))\n",
        "plt.plot(y_close_test, label='Actual price', color='blue')\n",
        "plt.plot(price_pred, label='Prediction price', color='orange')\n",
        "plt.title('(RNN Encoder-Decoder) BCH Price Prediction')\n",
        "plt.xlabel('Time')\n",
        "plt.ylabel('Price')\n",
        "plt.legend()\n",
        "plt.show()"
      ],
      "metadata": {
        "id": "3ZrA2dDdQ2E1",
        "colab": {
          "base_uri": "https://localhost:8080/",
          "height": 350
        },
        "outputId": "95538f0e-dd7d-42f8-fc6c-d48159e3077b"
      },
      "execution_count": 67,
      "outputs": [
        {
          "output_type": "display_data",
          "data": {
            "text/plain": [
              "<Figure size 1080x360 with 1 Axes>"
            ],
            "image/png": "[encoded data removed]"
          },
          "metadata": {
            "needs_background": "light"
          }
        }
      ]
    },
    {
      "cell_type": "code",
      "source": [
        "mse = mean_squared_error(y_close_test, price_pred)\n",
        "mae = mean_absolute_error(y_close_test, price_pred)\n",
        "\n",
        "print(f\"mean_squared_error : {mse:.4f}\")\n",
        "print(f\"mean_absolute_error : {mae:.4f}\")"
      ],
      "metadata": {
        "colab": {
          "base_uri": "https://localhost:8080/"
        },
        "id": "5AXva6UROiNX",
        "outputId": "fb4a35a5-db4b-4d89-9d56-cc1ed571dcbf"
      },
      "execution_count": 68,
      "outputs": [
        {
          "output_type": "stream",
          "name": "stdout",
          "text": [
            "mean_squared_error : 0.6113\n",
            "mean_absolute_error : 0.6136\n"
          ]
        }
      ]
    },
    {
      "cell_type": "code",
      "source": [
        "prediction = pd.DataFrame(price_pred, columns=['y_pred'])\n",
        "prediction"
      ],
      "metadata": {
        "colab": {
          "base_uri": "https://localhost:8080/",
          "height": 424
        },
        "id": "zLacd5PMW41-",
        "outputId": "c3dbf417-0897-46e8-8c57-7db3758ee18d"
      },
      "execution_count": 69,
      "outputs": [
        {
          "output_type": "execute_result",
          "data": {
            "text/plain": [
              "     y_pred\n",
              "0     15.04\n",
              "1     14.89\n",
              "2     14.78\n",
              "3     15.20\n",
              "4     15.14\n",
              "..      ...\n",
              "239   20.31\n",
              "240   20.34\n",
              "241   20.24\n",
              "242   20.51\n",
              "243   21.12\n",
              "\n",
              "[244 rows x 1 columns]"
            ],
            "text/html": [
              "\n",
              "  <div id=\"df-019687dc-38e6-4bd2-af13-6a8e4c43ca87\">\n",
              "    <div class=\"colab-df-container\">\n",
              "      <div>\n",
              "<style scoped>\n",
              "    .dataframe tbody tr th:only-of-type {\n",
              "        vertical-align: middle;\n",
              "    }\n",
              "\n",
              "    .dataframe tbody tr th {\n",
              "        vertical-align: top;\n",
              "    }\n",
              "\n",
              "    .dataframe thead th {\n",
              "        text-align: right;\n",
              "    }\n",
              "</style>\n",
              "<table border=\"1\" class=\"dataframe\">\n",
              "  <thead>\n",
              "    <tr style=\"text-align: right;\">\n",
              "      <th></th>\n",
              "      <th>y_pred</th>\n",
              "    </tr>\n",
              "  </thead>\n",
              "  <tbody>\n",
              "    <tr>\n",
              "      <th>0</th>\n",
              "      <td>15.04</td>\n",
              "    </tr>\n",
              "    <tr>\n",
              "      <th>1</th>\n",
              "      <td>14.89</td>\n",
              "    </tr>\n",
              "    <tr>\n",
              "      <th>2</th>\n",
              "      <td>14.78</td>\n",
              "    </tr>\n",
              "    <tr>\n",
              "      <th>3</th>\n",
              "      <td>15.20</td>\n",
              "    </tr>\n",
              "    <tr>\n",
              "      <th>4</th>\n",
              "      <td>15.14</td>\n",
              "    </tr>\n",
              "    <tr>\n",
              "      <th>...</th>\n",
              "      <td>...</td>\n",
              "    </tr>\n",
              "    <tr>\n",
              "      <th>239</th>\n",
              "      <td>20.31</td>\n",
              "    </tr>\n",
              "    <tr>\n",
              "      <th>240</th>\n",
              "      <td>20.34</td>\n",
              "    </tr>\n",
              "    <tr>\n",
              "      <th>241</th>\n",
              "      <td>20.24</td>\n",
              "    </tr>\n",
              "    <tr>\n",
              "      <th>242</th>\n",
              "      <td>20.51</td>\n",
              "    </tr>\n",
              "    <tr>\n",
              "      <th>243</th>\n",
              "      <td>21.12</td>\n",
              "    </tr>\n",
              "  </tbody>\n",
              "</table>\n",
              "<p>244 rows × 1 columns</p>\n",
              "</div>\n",
              "      <button class=\"colab-df-convert\" onclick=\"convertToInteractive('df-019687dc-38e6-4bd2-af13-6a8e4c43ca87')\"\n",
              "              title=\"Convert this dataframe to an interactive table.\"\n",
              "              style=\"display:none;\">\n",
              "        \n",
              "  <svg xmlns=\"http://www.w3.org/2000/svg\" height=\"24px\"viewBox=\"0 0 24 24\"\n",
              "       width=\"24px\">\n",
              "    <path d=\"M0 0h24v24H0V0z\" fill=\"none\"/>\n",
              "    <path d=\"M18.56 5.44l.94 2.06.94-2.06 2.06-.94-2.06-.94-.94-2.06-.94 2.06-2.06.94zm-11 1L8.5 8.5l.94-2.06 2.06-.94-2.06-.94L8.5 2.5l-.94 2.06-2.06.94zm10 10l.94 2.06.94-2.06 2.06-.94-2.06-.94-.94-2.06-.94 2.06-2.06.94z\"/><path d=\"M17.41 7.96l-1.37-1.37c-.4-.4-.92-.59-1.43-.59-.52 0-1.04.2-1.43.59L10.3 9.45l-7.72 7.72c-.78.78-.78 2.05 0 2.83L4 21.41c.39.39.9.59 1.41.59.51 0 1.02-.2 1.41-.59l7.78-7.78 2.81-2.81c.8-.78.8-2.07 0-2.86zM5.41 20L4 18.59l7.72-7.72 1.47 1.35L5.41 20z\"/>\n",
              "  </svg>\n",
              "      </button>\n",
              "      \n",
              "  <style>\n",
              "    .colab-df-container {\n",
              "      display:flex;\n",
              "      flex-wrap:wrap;\n",
              "      gap: 12px;\n",
              "    }\n",
              "\n",
              "    .colab-df-convert {\n",
              "      background-color: #E8F0FE;\n",
              "      border: none;\n",
              "      border-radius: 50%;\n",
              "      cursor: pointer;\n",
              "      display: none;\n",
              "      fill: #1967D2;\n",
              "      height: 32px;\n",
              "      padding: 0 0 0 0;\n",
              "      width: 32px;\n",
              "    }\n",
              "\n",
              "    .colab-df-convert:hover {\n",
              "      background-color: #E2EBFA;\n",
              "      box-shadow: 0px 1px 2px rgba(60, 64, 67, 0.3), 0px 1px 3px 1px rgba(60, 64, 67, 0.15);\n",
              "      fill: #174EA6;\n",
              "    }\n",
              "\n",
              "    [theme=dark] .colab-df-convert {\n",
              "      background-color: #3B4455;\n",
              "      fill: #D2E3FC;\n",
              "    }\n",
              "\n",
              "    [theme=dark] .colab-df-convert:hover {\n",
              "      background-color: #434B5C;\n",
              "      box-shadow: 0px 1px 3px 1px rgba(0, 0, 0, 0.15);\n",
              "      filter: drop-shadow(0px 1px 2px rgba(0, 0, 0, 0.3));\n",
              "      fill: #FFFFFF;\n",
              "    }\n",
              "  </style>\n",
              "\n",
              "      <script>\n",
              "        const buttonEl =\n",
              "          document.querySelector('#df-019687dc-38e6-4bd2-af13-6a8e4c43ca87 button.colab-df-convert');\n",
              "        buttonEl.style.display =\n",
              "          google.colab.kernel.accessAllowed ? 'block' : 'none';\n",
              "\n",
              "        async function convertToInteractive(key) {\n",
              "          const element = document.querySelector('#df-019687dc-38e6-4bd2-af13-6a8e4c43ca87');\n",
              "          const dataTable =\n",
              "            await google.colab.kernel.invokeFunction('convertToInteractive',\n",
              "                                                     [key], {});\n",
              "          if (!dataTable) return;\n",
              "\n",
              "          const docLinkHtml = 'Like what you see? Visit the ' +\n",
              "            '<a target=\"_blank\" href=https://colab.research.google.com/notebooks/data_table.ipynb>data table notebook</a>'\n",
              "            + ' to learn more about interactive tables.';\n",
              "          element.innerHTML = '';\n",
              "          dataTable['output_type'] = 'display_data';\n",
              "          await google.colab.output.renderOutput(dataTable, element);\n",
              "          const docLink = document.createElement('div');\n",
              "          docLink.innerHTML = docLinkHtml;\n",
              "          element.appendChild(docLink);\n",
              "        }\n",
              "      </script>\n",
              "    </div>\n",
              "  </div>\n",
              "  "
            ]
          },
          "metadata": {},
          "execution_count": 69
        }
      ]
    },
    {
      "cell_type": "code",
      "source": [
        "prediction.to_excel('prediction.xlsx')"
      ],
      "metadata": {
        "id": "EiZNbJgfXeaF"
      },
      "execution_count": 70,
      "outputs": []
    }
  ]
}