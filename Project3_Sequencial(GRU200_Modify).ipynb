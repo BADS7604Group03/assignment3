{
  "nbformat": 4,
  "nbformat_minor": 0,
  "metadata": {
    "colab": {
      "name": "Project3_Sequencial(GRU200 Modify).ipynb",
      "provenance": [],
      "collapsed_sections": [],
      "include_colab_link": true
    },
    "kernelspec": {
      "name": "python3",
      "display_name": "Python 3"
    },
    "language_info": {
      "name": "python"
    },
    "accelerator": "GPU"
  },
  "cells": [
    {
      "cell_type": "markdown",
      "metadata": {
        "id": "view-in-github",
        "colab_type": "text"
      },
      "source": [
        "<a href=\"https://colab.research.google.com/github/BADS7604Group03/assignment3/blob/main/Project3_Sequencial(GRU200_Modify).ipynb\" target=\"_parent\"><img src=\"https://colab.research.google.com/assets/colab-badge.svg\" alt=\"Open In Colab\"/></a>"
      ]
    },
    {
      "cell_type": "markdown",
      "source": [
        "# Import Libraries"
      ],
      "metadata": {
        "id": "0dePD9u4CuDw"
      }
    },
    {
      "cell_type": "markdown",
      "source": [
        "Check GPU "
      ],
      "metadata": {
        "id": "IMbtBjIP_gXf"
      }
    },
    {
      "cell_type": "code",
      "execution_count": 57,
      "metadata": {
        "colab": {
          "base_uri": "https://localhost:8080/"
        },
        "id": "OWGz3XaOuKYu",
        "outputId": "0d94491a-8894-4e46-e2b7-6a804548e6a1"
      },
      "outputs": [
        {
          "output_type": "stream",
          "name": "stdout",
          "text": [
            "NVIDIA-SMI has failed because it couldn't communicate with the NVIDIA driver. Make sure that the latest NVIDIA driver is installed and running.\n",
            "\n"
          ]
        }
      ],
      "source": [
        "# List all NVIDIA GPUs as available in this computer (or Colab's session)\n",
        "!nvidia-smi -L"
      ]
    },
    {
      "cell_type": "markdown",
      "source": [
        "Check enviroment"
      ],
      "metadata": {
        "id": "XpwFMbS6_mKq"
      }
    },
    {
      "cell_type": "code",
      "source": [
        "import sys\n",
        "print(f'Python {sys.version}\\n')\n",
        "\n",
        "import numpy as np\n",
        "print(f'NumPy {np.__version__}\\n')\n",
        "\n",
        "import matplotlib.pyplot as plt\n",
        "%matplotlib inline\n",
        "\n",
        "import tensorflow as tf\n",
        "print(f'TensorFlow {tf.__version__}')\n",
        "print(f'tf.keras.backend.image_data_format() = {tf.keras.backend.image_data_format()}')\n",
        "\n",
        "# Count the number of GPUs as detected by tensorflow\n",
        "gpus = tf.config.list_physical_devices('GPU')\n",
        "print(f'TensorFlow detected {len(gpus)} GPU(s):')\n",
        "for i, gpu in enumerate(gpus):\n",
        "  print(f'....GPU No. {i}: Name = {gpu.name}, Type = {gpu.device_type}')\n",
        "\n",
        "import os\n",
        "import math\n",
        "import time\n",
        "import datetime\n",
        "import pandas as pd\n",
        "import matplotlib.pyplot as plt\n",
        "from sklearn.metrics import mean_squared_error,mean_absolute_error\n",
        "\n",
        "# Set fixed seeding values for reproducability during experiments\n",
        "# To guarantee reproducability, make sure that seed values for ANY randomize operation are all set\n",
        "np.random.seed(1234)\n",
        "tf.random.set_seed(5678)"
      ],
      "metadata": {
        "colab": {
          "base_uri": "https://localhost:8080/"
        },
        "id": "4if0Qtc0ulw3",
        "outputId": "a7f446cc-ea06-4461-a77d-93c356ba844f"
      },
      "execution_count": 58,
      "outputs": [
        {
          "output_type": "stream",
          "name": "stdout",
          "text": [
            "Python 3.7.13 (default, Mar 16 2022, 17:37:17) \n",
            "[GCC 7.5.0]\n",
            "\n",
            "NumPy 1.21.5\n",
            "\n",
            "TensorFlow 2.8.0\n",
            "tf.keras.backend.image_data_format() = channels_last\n",
            "TensorFlow detected 0 GPU(s):\n"
          ]
        }
      ]
    },
    {
      "cell_type": "markdown",
      "source": [
        "Prepare relate Library "
      ],
      "metadata": {
        "id": "jYX30Csj_wPf"
      }
    },
    {
      "cell_type": "code",
      "execution_count": 59,
      "metadata": {
        "id": "ftPCFF62AjlV"
      },
      "outputs": [],
      "source": [
        "import numpy as np\n",
        "import pandas as pd\n",
        "import tensorflow as tf\n",
        "from sklearn.model_selection import train_test_split\n",
        "from keras import backend as K\n",
        "from keras.models import Sequential\n",
        "from sklearn import preprocessing\n",
        "from keras.layers import Conv1D,Flatten,MaxPooling1D,Dropout,TimeDistributed,MaxPool2D,GRU\n",
        "from keras.layers import Dense,GlobalAveragePooling2D\n",
        "import matplotlib.pyplot as plt\n",
        "from sklearn.metrics import mean_squared_error,mean_absolute_error\n",
        "from sklearn import preprocessing"
      ]
    },
    {
      "cell_type": "markdown",
      "source": [
        "# Define Functions"
      ],
      "metadata": {
        "id": "cAVkvD3q3geB"
      }
    },
    {
      "cell_type": "code",
      "source": [
        "def split(x_array, y_array, ratio_train=0.8, ratio_test=0.1):\n",
        "  n_data = x_array.shape[0]\n",
        "  n_train = int(n_data * ratio_train)\n",
        "  n_test = int(n_data *ratio_test)\n",
        "  n_val = n_data -n_train -n_test\n",
        "  x_train, y_train = x_array[:n_train], y_array[:n_train]\n",
        "  x_val, y_val = x_array[n_train:n_train+n_val], y_array[n_train:n_train+n_val]\n",
        "  x_test, y_test = x_array[n_train+n_val:], y_array[n_train+n_val:]\n",
        "  return x_train, x_val, x_test, y_train, y_val, y_test"
      ],
      "metadata": {
        "id": "QWJaebn9aNhp"
      },
      "execution_count": 60,
      "outputs": []
    },
    {
      "cell_type": "markdown",
      "source": [
        "# Load Data"
      ],
      "metadata": {
        "id": "INIHEWqSDYZ8"
      }
    },
    {
      "cell_type": "code",
      "source": [
        "#mount my google drive\n",
        "from google.colab import drive\n",
        "drive.mount('/content/drive')"
      ],
      "metadata": {
        "colab": {
          "base_uri": "https://localhost:8080/"
        },
        "id": "DWLs3_i4AufF",
        "outputId": "14863230-ead3-41bc-f30d-a684d2ef2820"
      },
      "execution_count": 61,
      "outputs": [
        {
          "output_type": "stream",
          "name": "stdout",
          "text": [
            "Drive already mounted at /content/drive; to attempt to forcibly remount, call drive.mount(\"/content/drive\", force_remount=True).\n"
          ]
        }
      ]
    },
    {
      "cell_type": "code",
      "source": [
        "path = \"/content/drive/MyDrive/Colab Notebooks/BADS7604/BADS7604_DL/Project3/BCH OHLC 10Y.xlsx\"\n",
        "df_trans = pd.read_excel(path,sheet_name='Daily')\n",
        "df_trans.shape"
      ],
      "metadata": {
        "colab": {
          "base_uri": "https://localhost:8080/"
        },
        "id": "3q_NLbocAumu",
        "outputId": "774145ed-fcf2-46ad-b0bc-825fb7908207"
      },
      "execution_count": 62,
      "outputs": [
        {
          "output_type": "execute_result",
          "data": {
            "text/plain": [
              "(2469, 6)"
            ]
          },
          "metadata": {},
          "execution_count": 62
        }
      ]
    },
    {
      "cell_type": "code",
      "source": [
        "df_trans.info()"
      ],
      "metadata": {
        "colab": {
          "base_uri": "https://localhost:8080/"
        },
        "id": "st0oeAHFAvHt",
        "outputId": "8b33b842-f362-4ebe-d585-5eca88531527"
      },
      "execution_count": 63,
      "outputs": [
        {
          "output_type": "stream",
          "name": "stdout",
          "text": [
            "<class 'pandas.core.frame.DataFrame'>\n",
            "RangeIndex: 2469 entries, 0 to 2468\n",
            "Data columns (total 6 columns):\n",
            " #   Column                  Non-Null Count  Dtype         \n",
            "---  ------                  --------------  -----         \n",
            " 0   Date                    2469 non-null   datetime64[ns]\n",
            " 1   Last Price              2469 non-null   float64       \n",
            " 2   Open Price              2469 non-null   float64       \n",
            " 3   High Price              2469 non-null   float64       \n",
            " 4   Low Price               2469 non-null   float64       \n",
            " 5   BCH TB Equity - Volume  2469 non-null   int64         \n",
            "dtypes: datetime64[ns](1), float64(4), int64(1)\n",
            "memory usage: 115.9 KB\n"
          ]
        }
      ]
    },
    {
      "cell_type": "code",
      "source": [
        "df_trans = df_trans.sort_values(by='Date', ascending=True)\n",
        "df_trans.head(1)"
      ],
      "metadata": {
        "colab": {
          "base_uri": "https://localhost:8080/",
          "height": 81
        },
        "id": "V77m8W1LBElE",
        "outputId": "27e4e792-93d4-4bf8-f789-faa6beac9e24"
      },
      "execution_count": 64,
      "outputs": [
        {
          "output_type": "execute_result",
          "data": {
            "text/plain": [
              "           Date  Last Price  Open Price  High Price  Low Price  \\\n",
              "2468 2012-02-09         5.6        5.64        5.64        5.6   \n",
              "\n",
              "      BCH TB Equity - Volume  \n",
              "2468                 4118750  "
            ],
            "text/html": [
              "\n",
              "  <div id=\"df-50bc9f46-4a01-4627-8d43-7d516acb33ac\">\n",
              "    <div class=\"colab-df-container\">\n",
              "      <div>\n",
              "<style scoped>\n",
              "    .dataframe tbody tr th:only-of-type {\n",
              "        vertical-align: middle;\n",
              "    }\n",
              "\n",
              "    .dataframe tbody tr th {\n",
              "        vertical-align: top;\n",
              "    }\n",
              "\n",
              "    .dataframe thead th {\n",
              "        text-align: right;\n",
              "    }\n",
              "</style>\n",
              "<table border=\"1\" class=\"dataframe\">\n",
              "  <thead>\n",
              "    <tr style=\"text-align: right;\">\n",
              "      <th></th>\n",
              "      <th>Date</th>\n",
              "      <th>Last Price</th>\n",
              "      <th>Open Price</th>\n",
              "      <th>High Price</th>\n",
              "      <th>Low Price</th>\n",
              "      <th>BCH TB Equity - Volume</th>\n",
              "    </tr>\n",
              "  </thead>\n",
              "  <tbody>\n",
              "    <tr>\n",
              "      <th>2468</th>\n",
              "      <td>2012-02-09</td>\n",
              "      <td>5.6</td>\n",
              "      <td>5.64</td>\n",
              "      <td>5.64</td>\n",
              "      <td>5.6</td>\n",
              "      <td>4118750</td>\n",
              "    </tr>\n",
              "  </tbody>\n",
              "</table>\n",
              "</div>\n",
              "      <button class=\"colab-df-convert\" onclick=\"convertToInteractive('df-50bc9f46-4a01-4627-8d43-7d516acb33ac')\"\n",
              "              title=\"Convert this dataframe to an interactive table.\"\n",
              "              style=\"display:none;\">\n",
              "        \n",
              "  <svg xmlns=\"http://www.w3.org/2000/svg\" height=\"24px\"viewBox=\"0 0 24 24\"\n",
              "       width=\"24px\">\n",
              "    <path d=\"M0 0h24v24H0V0z\" fill=\"none\"/>\n",
              "    <path d=\"M18.56 5.44l.94 2.06.94-2.06 2.06-.94-2.06-.94-.94-2.06-.94 2.06-2.06.94zm-11 1L8.5 8.5l.94-2.06 2.06-.94-2.06-.94L8.5 2.5l-.94 2.06-2.06.94zm10 10l.94 2.06.94-2.06 2.06-.94-2.06-.94-.94-2.06-.94 2.06-2.06.94z\"/><path d=\"M17.41 7.96l-1.37-1.37c-.4-.4-.92-.59-1.43-.59-.52 0-1.04.2-1.43.59L10.3 9.45l-7.72 7.72c-.78.78-.78 2.05 0 2.83L4 21.41c.39.39.9.59 1.41.59.51 0 1.02-.2 1.41-.59l7.78-7.78 2.81-2.81c.8-.78.8-2.07 0-2.86zM5.41 20L4 18.59l7.72-7.72 1.47 1.35L5.41 20z\"/>\n",
              "  </svg>\n",
              "      </button>\n",
              "      \n",
              "  <style>\n",
              "    .colab-df-container {\n",
              "      display:flex;\n",
              "      flex-wrap:wrap;\n",
              "      gap: 12px;\n",
              "    }\n",
              "\n",
              "    .colab-df-convert {\n",
              "      background-color: #E8F0FE;\n",
              "      border: none;\n",
              "      border-radius: 50%;\n",
              "      cursor: pointer;\n",
              "      display: none;\n",
              "      fill: #1967D2;\n",
              "      height: 32px;\n",
              "      padding: 0 0 0 0;\n",
              "      width: 32px;\n",
              "    }\n",
              "\n",
              "    .colab-df-convert:hover {\n",
              "      background-color: #E2EBFA;\n",
              "      box-shadow: 0px 1px 2px rgba(60, 64, 67, 0.3), 0px 1px 3px 1px rgba(60, 64, 67, 0.15);\n",
              "      fill: #174EA6;\n",
              "    }\n",
              "\n",
              "    [theme=dark] .colab-df-convert {\n",
              "      background-color: #3B4455;\n",
              "      fill: #D2E3FC;\n",
              "    }\n",
              "\n",
              "    [theme=dark] .colab-df-convert:hover {\n",
              "      background-color: #434B5C;\n",
              "      box-shadow: 0px 1px 3px 1px rgba(0, 0, 0, 0.15);\n",
              "      filter: drop-shadow(0px 1px 2px rgba(0, 0, 0, 0.3));\n",
              "      fill: #FFFFFF;\n",
              "    }\n",
              "  </style>\n",
              "\n",
              "      <script>\n",
              "        const buttonEl =\n",
              "          document.querySelector('#df-50bc9f46-4a01-4627-8d43-7d516acb33ac button.colab-df-convert');\n",
              "        buttonEl.style.display =\n",
              "          google.colab.kernel.accessAllowed ? 'block' : 'none';\n",
              "\n",
              "        async function convertToInteractive(key) {\n",
              "          const element = document.querySelector('#df-50bc9f46-4a01-4627-8d43-7d516acb33ac');\n",
              "          const dataTable =\n",
              "            await google.colab.kernel.invokeFunction('convertToInteractive',\n",
              "                                                     [key], {});\n",
              "          if (!dataTable) return;\n",
              "\n",
              "          const docLinkHtml = 'Like what you see? Visit the ' +\n",
              "            '<a target=\"_blank\" href=https://colab.research.google.com/notebooks/data_table.ipynb>data table notebook</a>'\n",
              "            + ' to learn more about interactive tables.';\n",
              "          element.innerHTML = '';\n",
              "          dataTable['output_type'] = 'display_data';\n",
              "          await google.colab.output.renderOutput(dataTable, element);\n",
              "          const docLink = document.createElement('div');\n",
              "          docLink.innerHTML = docLinkHtml;\n",
              "          element.appendChild(docLink);\n",
              "        }\n",
              "      </script>\n",
              "    </div>\n",
              "  </div>\n",
              "  "
            ]
          },
          "metadata": {},
          "execution_count": 64
        }
      ]
    },
    {
      "cell_type": "code",
      "source": [
        "df_trans.describe(include='all',datetime_is_numeric=True)"
      ],
      "metadata": {
        "colab": {
          "base_uri": "https://localhost:8080/",
          "height": 300
        },
        "id": "2nouyq9_AvQ-",
        "outputId": "8a908dfb-5c90-4e2f-d106-f467570e50e9"
      },
      "execution_count": 65,
      "outputs": [
        {
          "output_type": "execute_result",
          "data": {
            "text/plain": [
              "                                Date   Last Price   Open Price   High Price  \\\n",
              "count                           2469  2469.000000  2469.000000  2469.000000   \n",
              "mean   2017-02-27 01:08:14.289185792    12.585439    12.593718    12.770543   \n",
              "min              2012-02-09 00:00:00     5.360000     5.360000     5.440000   \n",
              "25%              2014-08-20 00:00:00     7.900000     7.900000     8.080000   \n",
              "50%              2017-02-28 00:00:00    13.100000    13.100000    13.300000   \n",
              "75%              2019-09-06 00:00:00    16.100000    16.100000    16.300000   \n",
              "max              2022-03-23 00:00:00    26.250000    26.500000    26.750000   \n",
              "std                              NaN     4.681297     4.688040     4.752978   \n",
              "\n",
              "         Low Price  BCH TB Equity - Volume  \n",
              "count  2469.000000            2.469000e+03  \n",
              "mean     12.416541            1.050543e+07  \n",
              "min       5.360000            1.911000e+05  \n",
              "25%       7.800000            3.712100e+06  \n",
              "50%      13.000000            7.320945e+06  \n",
              "75%      15.900000            1.296720e+07  \n",
              "max      25.750000            1.416106e+08  \n",
              "std       4.615918            1.151587e+07  "
            ],
            "text/html": [
              "\n",
              "  <div id=\"df-3ffcbf8d-a121-4a37-94a8-aca1d5248c3c\">\n",
              "    <div class=\"colab-df-container\">\n",
              "      <div>\n",
              "<style scoped>\n",
              "    .dataframe tbody tr th:only-of-type {\n",
              "        vertical-align: middle;\n",
              "    }\n",
              "\n",
              "    .dataframe tbody tr th {\n",
              "        vertical-align: top;\n",
              "    }\n",
              "\n",
              "    .dataframe thead th {\n",
              "        text-align: right;\n",
              "    }\n",
              "</style>\n",
              "<table border=\"1\" class=\"dataframe\">\n",
              "  <thead>\n",
              "    <tr style=\"text-align: right;\">\n",
              "      <th></th>\n",
              "      <th>Date</th>\n",
              "      <th>Last Price</th>\n",
              "      <th>Open Price</th>\n",
              "      <th>High Price</th>\n",
              "      <th>Low Price</th>\n",
              "      <th>BCH TB Equity - Volume</th>\n",
              "    </tr>\n",
              "  </thead>\n",
              "  <tbody>\n",
              "    <tr>\n",
              "      <th>count</th>\n",
              "      <td>2469</td>\n",
              "      <td>2469.000000</td>\n",
              "      <td>2469.000000</td>\n",
              "      <td>2469.000000</td>\n",
              "      <td>2469.000000</td>\n",
              "      <td>2.469000e+03</td>\n",
              "    </tr>\n",
              "    <tr>\n",
              "      <th>mean</th>\n",
              "      <td>2017-02-27 01:08:14.289185792</td>\n",
              "      <td>12.585439</td>\n",
              "      <td>12.593718</td>\n",
              "      <td>12.770543</td>\n",
              "      <td>12.416541</td>\n",
              "      <td>1.050543e+07</td>\n",
              "    </tr>\n",
              "    <tr>\n",
              "      <th>min</th>\n",
              "      <td>2012-02-09 00:00:00</td>\n",
              "      <td>5.360000</td>\n",
              "      <td>5.360000</td>\n",
              "      <td>5.440000</td>\n",
              "      <td>5.360000</td>\n",
              "      <td>1.911000e+05</td>\n",
              "    </tr>\n",
              "    <tr>\n",
              "      <th>25%</th>\n",
              "      <td>2014-08-20 00:00:00</td>\n",
              "      <td>7.900000</td>\n",
              "      <td>7.900000</td>\n",
              "      <td>8.080000</td>\n",
              "      <td>7.800000</td>\n",
              "      <td>3.712100e+06</td>\n",
              "    </tr>\n",
              "    <tr>\n",
              "      <th>50%</th>\n",
              "      <td>2017-02-28 00:00:00</td>\n",
              "      <td>13.100000</td>\n",
              "      <td>13.100000</td>\n",
              "      <td>13.300000</td>\n",
              "      <td>13.000000</td>\n",
              "      <td>7.320945e+06</td>\n",
              "    </tr>\n",
              "    <tr>\n",
              "      <th>75%</th>\n",
              "      <td>2019-09-06 00:00:00</td>\n",
              "      <td>16.100000</td>\n",
              "      <td>16.100000</td>\n",
              "      <td>16.300000</td>\n",
              "      <td>15.900000</td>\n",
              "      <td>1.296720e+07</td>\n",
              "    </tr>\n",
              "    <tr>\n",
              "      <th>max</th>\n",
              "      <td>2022-03-23 00:00:00</td>\n",
              "      <td>26.250000</td>\n",
              "      <td>26.500000</td>\n",
              "      <td>26.750000</td>\n",
              "      <td>25.750000</td>\n",
              "      <td>1.416106e+08</td>\n",
              "    </tr>\n",
              "    <tr>\n",
              "      <th>std</th>\n",
              "      <td>NaN</td>\n",
              "      <td>4.681297</td>\n",
              "      <td>4.688040</td>\n",
              "      <td>4.752978</td>\n",
              "      <td>4.615918</td>\n",
              "      <td>1.151587e+07</td>\n",
              "    </tr>\n",
              "  </tbody>\n",
              "</table>\n",
              "</div>\n",
              "      <button class=\"colab-df-convert\" onclick=\"convertToInteractive('df-3ffcbf8d-a121-4a37-94a8-aca1d5248c3c')\"\n",
              "              title=\"Convert this dataframe to an interactive table.\"\n",
              "              style=\"display:none;\">\n",
              "        \n",
              "  <svg xmlns=\"http://www.w3.org/2000/svg\" height=\"24px\"viewBox=\"0 0 24 24\"\n",
              "       width=\"24px\">\n",
              "    <path d=\"M0 0h24v24H0V0z\" fill=\"none\"/>\n",
              "    <path d=\"M18.56 5.44l.94 2.06.94-2.06 2.06-.94-2.06-.94-.94-2.06-.94 2.06-2.06.94zm-11 1L8.5 8.5l.94-2.06 2.06-.94-2.06-.94L8.5 2.5l-.94 2.06-2.06.94zm10 10l.94 2.06.94-2.06 2.06-.94-2.06-.94-.94-2.06-.94 2.06-2.06.94z\"/><path d=\"M17.41 7.96l-1.37-1.37c-.4-.4-.92-.59-1.43-.59-.52 0-1.04.2-1.43.59L10.3 9.45l-7.72 7.72c-.78.78-.78 2.05 0 2.83L4 21.41c.39.39.9.59 1.41.59.51 0 1.02-.2 1.41-.59l7.78-7.78 2.81-2.81c.8-.78.8-2.07 0-2.86zM5.41 20L4 18.59l7.72-7.72 1.47 1.35L5.41 20z\"/>\n",
              "  </svg>\n",
              "      </button>\n",
              "      \n",
              "  <style>\n",
              "    .colab-df-container {\n",
              "      display:flex;\n",
              "      flex-wrap:wrap;\n",
              "      gap: 12px;\n",
              "    }\n",
              "\n",
              "    .colab-df-convert {\n",
              "      background-color: #E8F0FE;\n",
              "      border: none;\n",
              "      border-radius: 50%;\n",
              "      cursor: pointer;\n",
              "      display: none;\n",
              "      fill: #1967D2;\n",
              "      height: 32px;\n",
              "      padding: 0 0 0 0;\n",
              "      width: 32px;\n",
              "    }\n",
              "\n",
              "    .colab-df-convert:hover {\n",
              "      background-color: #E2EBFA;\n",
              "      box-shadow: 0px 1px 2px rgba(60, 64, 67, 0.3), 0px 1px 3px 1px rgba(60, 64, 67, 0.15);\n",
              "      fill: #174EA6;\n",
              "    }\n",
              "\n",
              "    [theme=dark] .colab-df-convert {\n",
              "      background-color: #3B4455;\n",
              "      fill: #D2E3FC;\n",
              "    }\n",
              "\n",
              "    [theme=dark] .colab-df-convert:hover {\n",
              "      background-color: #434B5C;\n",
              "      box-shadow: 0px 1px 3px 1px rgba(0, 0, 0, 0.15);\n",
              "      filter: drop-shadow(0px 1px 2px rgba(0, 0, 0, 0.3));\n",
              "      fill: #FFFFFF;\n",
              "    }\n",
              "  </style>\n",
              "\n",
              "      <script>\n",
              "        const buttonEl =\n",
              "          document.querySelector('#df-3ffcbf8d-a121-4a37-94a8-aca1d5248c3c button.colab-df-convert');\n",
              "        buttonEl.style.display =\n",
              "          google.colab.kernel.accessAllowed ? 'block' : 'none';\n",
              "\n",
              "        async function convertToInteractive(key) {\n",
              "          const element = document.querySelector('#df-3ffcbf8d-a121-4a37-94a8-aca1d5248c3c');\n",
              "          const dataTable =\n",
              "            await google.colab.kernel.invokeFunction('convertToInteractive',\n",
              "                                                     [key], {});\n",
              "          if (!dataTable) return;\n",
              "\n",
              "          const docLinkHtml = 'Like what you see? Visit the ' +\n",
              "            '<a target=\"_blank\" href=https://colab.research.google.com/notebooks/data_table.ipynb>data table notebook</a>'\n",
              "            + ' to learn more about interactive tables.';\n",
              "          element.innerHTML = '';\n",
              "          dataTable['output_type'] = 'display_data';\n",
              "          await google.colab.output.renderOutput(dataTable, element);\n",
              "          const docLink = document.createElement('div');\n",
              "          docLink.innerHTML = docLinkHtml;\n",
              "          element.appendChild(docLink);\n",
              "        }\n",
              "      </script>\n",
              "    </div>\n",
              "  </div>\n",
              "  "
            ]
          },
          "metadata": {},
          "execution_count": 65
        }
      ]
    },
    {
      "cell_type": "code",
      "source": [
        "df_last_price = df_trans[[\"Date\",\"Last Price\"]]\n",
        "df_last_price.shape"
      ],
      "metadata": {
        "colab": {
          "base_uri": "https://localhost:8080/"
        },
        "id": "rWw0UInhOf2g",
        "outputId": "bb2e9d17-8b98-4da8-b39a-5661adb418aa"
      },
      "execution_count": 66,
      "outputs": [
        {
          "output_type": "execute_result",
          "data": {
            "text/plain": [
              "(2469, 2)"
            ]
          },
          "metadata": {},
          "execution_count": 66
        }
      ]
    },
    {
      "cell_type": "code",
      "source": [
        "df_trans.head()"
      ],
      "metadata": {
        "colab": {
          "base_uri": "https://localhost:8080/",
          "height": 206
        },
        "id": "RmRICk0cAva2",
        "outputId": "e588f0ae-952f-42ab-a61a-8fb220e8b76b"
      },
      "execution_count": 67,
      "outputs": [
        {
          "output_type": "execute_result",
          "data": {
            "text/plain": [
              "           Date  Last Price  Open Price  High Price  Low Price  \\\n",
              "2468 2012-02-09        5.60        5.64        5.64       5.60   \n",
              "2467 2012-02-10        5.64        5.56        5.64       5.52   \n",
              "2466 2012-02-13        5.56        5.64        5.64       5.56   \n",
              "2465 2012-02-14        5.48        5.60        5.60       5.44   \n",
              "2464 2012-02-15        5.52        5.48        5.56       5.48   \n",
              "\n",
              "      BCH TB Equity - Volume  \n",
              "2468                 4118750  \n",
              "2467                 6783500  \n",
              "2466                 1923000  \n",
              "2465                 3553750  \n",
              "2464                 2479125  "
            ],
            "text/html": [
              "\n",
              "  <div id=\"df-5e8d3a00-8e6e-4eee-8430-685913968266\">\n",
              "    <div class=\"colab-df-container\">\n",
              "      <div>\n",
              "<style scoped>\n",
              "    .dataframe tbody tr th:only-of-type {\n",
              "        vertical-align: middle;\n",
              "    }\n",
              "\n",
              "    .dataframe tbody tr th {\n",
              "        vertical-align: top;\n",
              "    }\n",
              "\n",
              "    .dataframe thead th {\n",
              "        text-align: right;\n",
              "    }\n",
              "</style>\n",
              "<table border=\"1\" class=\"dataframe\">\n",
              "  <thead>\n",
              "    <tr style=\"text-align: right;\">\n",
              "      <th></th>\n",
              "      <th>Date</th>\n",
              "      <th>Last Price</th>\n",
              "      <th>Open Price</th>\n",
              "      <th>High Price</th>\n",
              "      <th>Low Price</th>\n",
              "      <th>BCH TB Equity - Volume</th>\n",
              "    </tr>\n",
              "  </thead>\n",
              "  <tbody>\n",
              "    <tr>\n",
              "      <th>2468</th>\n",
              "      <td>2012-02-09</td>\n",
              "      <td>5.60</td>\n",
              "      <td>5.64</td>\n",
              "      <td>5.64</td>\n",
              "      <td>5.60</td>\n",
              "      <td>4118750</td>\n",
              "    </tr>\n",
              "    <tr>\n",
              "      <th>2467</th>\n",
              "      <td>2012-02-10</td>\n",
              "      <td>5.64</td>\n",
              "      <td>5.56</td>\n",
              "      <td>5.64</td>\n",
              "      <td>5.52</td>\n",
              "      <td>6783500</td>\n",
              "    </tr>\n",
              "    <tr>\n",
              "      <th>2466</th>\n",
              "      <td>2012-02-13</td>\n",
              "      <td>5.56</td>\n",
              "      <td>5.64</td>\n",
              "      <td>5.64</td>\n",
              "      <td>5.56</td>\n",
              "      <td>1923000</td>\n",
              "    </tr>\n",
              "    <tr>\n",
              "      <th>2465</th>\n",
              "      <td>2012-02-14</td>\n",
              "      <td>5.48</td>\n",
              "      <td>5.60</td>\n",
              "      <td>5.60</td>\n",
              "      <td>5.44</td>\n",
              "      <td>3553750</td>\n",
              "    </tr>\n",
              "    <tr>\n",
              "      <th>2464</th>\n",
              "      <td>2012-02-15</td>\n",
              "      <td>5.52</td>\n",
              "      <td>5.48</td>\n",
              "      <td>5.56</td>\n",
              "      <td>5.48</td>\n",
              "      <td>2479125</td>\n",
              "    </tr>\n",
              "  </tbody>\n",
              "</table>\n",
              "</div>\n",
              "      <button class=\"colab-df-convert\" onclick=\"convertToInteractive('df-5e8d3a00-8e6e-4eee-8430-685913968266')\"\n",
              "              title=\"Convert this dataframe to an interactive table.\"\n",
              "              style=\"display:none;\">\n",
              "        \n",
              "  <svg xmlns=\"http://www.w3.org/2000/svg\" height=\"24px\"viewBox=\"0 0 24 24\"\n",
              "       width=\"24px\">\n",
              "    <path d=\"M0 0h24v24H0V0z\" fill=\"none\"/>\n",
              "    <path d=\"M18.56 5.44l.94 2.06.94-2.06 2.06-.94-2.06-.94-.94-2.06-.94 2.06-2.06.94zm-11 1L8.5 8.5l.94-2.06 2.06-.94-2.06-.94L8.5 2.5l-.94 2.06-2.06.94zm10 10l.94 2.06.94-2.06 2.06-.94-2.06-.94-.94-2.06-.94 2.06-2.06.94z\"/><path d=\"M17.41 7.96l-1.37-1.37c-.4-.4-.92-.59-1.43-.59-.52 0-1.04.2-1.43.59L10.3 9.45l-7.72 7.72c-.78.78-.78 2.05 0 2.83L4 21.41c.39.39.9.59 1.41.59.51 0 1.02-.2 1.41-.59l7.78-7.78 2.81-2.81c.8-.78.8-2.07 0-2.86zM5.41 20L4 18.59l7.72-7.72 1.47 1.35L5.41 20z\"/>\n",
              "  </svg>\n",
              "      </button>\n",
              "      \n",
              "  <style>\n",
              "    .colab-df-container {\n",
              "      display:flex;\n",
              "      flex-wrap:wrap;\n",
              "      gap: 12px;\n",
              "    }\n",
              "\n",
              "    .colab-df-convert {\n",
              "      background-color: #E8F0FE;\n",
              "      border: none;\n",
              "      border-radius: 50%;\n",
              "      cursor: pointer;\n",
              "      display: none;\n",
              "      fill: #1967D2;\n",
              "      height: 32px;\n",
              "      padding: 0 0 0 0;\n",
              "      width: 32px;\n",
              "    }\n",
              "\n",
              "    .colab-df-convert:hover {\n",
              "      background-color: #E2EBFA;\n",
              "      box-shadow: 0px 1px 2px rgba(60, 64, 67, 0.3), 0px 1px 3px 1px rgba(60, 64, 67, 0.15);\n",
              "      fill: #174EA6;\n",
              "    }\n",
              "\n",
              "    [theme=dark] .colab-df-convert {\n",
              "      background-color: #3B4455;\n",
              "      fill: #D2E3FC;\n",
              "    }\n",
              "\n",
              "    [theme=dark] .colab-df-convert:hover {\n",
              "      background-color: #434B5C;\n",
              "      box-shadow: 0px 1px 3px 1px rgba(0, 0, 0, 0.15);\n",
              "      filter: drop-shadow(0px 1px 2px rgba(0, 0, 0, 0.3));\n",
              "      fill: #FFFFFF;\n",
              "    }\n",
              "  </style>\n",
              "\n",
              "      <script>\n",
              "        const buttonEl =\n",
              "          document.querySelector('#df-5e8d3a00-8e6e-4eee-8430-685913968266 button.colab-df-convert');\n",
              "        buttonEl.style.display =\n",
              "          google.colab.kernel.accessAllowed ? 'block' : 'none';\n",
              "\n",
              "        async function convertToInteractive(key) {\n",
              "          const element = document.querySelector('#df-5e8d3a00-8e6e-4eee-8430-685913968266');\n",
              "          const dataTable =\n",
              "            await google.colab.kernel.invokeFunction('convertToInteractive',\n",
              "                                                     [key], {});\n",
              "          if (!dataTable) return;\n",
              "\n",
              "          const docLinkHtml = 'Like what you see? Visit the ' +\n",
              "            '<a target=\"_blank\" href=https://colab.research.google.com/notebooks/data_table.ipynb>data table notebook</a>'\n",
              "            + ' to learn more about interactive tables.';\n",
              "          element.innerHTML = '';\n",
              "          dataTable['output_type'] = 'display_data';\n",
              "          await google.colab.output.renderOutput(dataTable, element);\n",
              "          const docLink = document.createElement('div');\n",
              "          docLink.innerHTML = docLinkHtml;\n",
              "          element.appendChild(docLink);\n",
              "        }\n",
              "      </script>\n",
              "    </div>\n",
              "  </div>\n",
              "  "
            ]
          },
          "metadata": {},
          "execution_count": 67
        }
      ]
    },
    {
      "cell_type": "code",
      "source": [
        "window_size = 20\n",
        "week = 5\n",
        "X = []\n",
        "Y = []"
      ],
      "metadata": {
        "id": "evQKL3rfAvi1"
      },
      "execution_count": 68,
      "outputs": []
    },
    {
      "cell_type": "code",
      "source": [
        "print(range(0 , len(df_trans) - window_size -1 , 1))"
      ],
      "metadata": {
        "colab": {
          "base_uri": "https://localhost:8080/"
        },
        "id": "fOUe4F4FVy37",
        "outputId": "93863808-b73d-402f-f711-3bddd82d46bf"
      },
      "execution_count": 69,
      "outputs": [
        {
          "output_type": "stream",
          "name": "stdout",
          "text": [
            "range(0, 2448)\n"
          ]
        }
      ]
    },
    {
      "cell_type": "code",
      "source": [
        "window_size = 20\n",
        "lst_x = []\n",
        "lst_y = []\n",
        "val = df_trans['Last Price'].values\n",
        "for i in range(0,len(val) - window_size -1,1):\n",
        "  first_price = val[i]\n",
        "  lst_x.append((val[i+1:i+window_size]-first_price)/first_price)\n",
        "  lst_y.append((val[i+window_size]-first_price)/first_price)\n",
        "\n",
        "\n",
        "\n",
        "X = np.array(lst_x).reshape(-1,window_size-1)\n",
        "Y = np.array(lst_y).reshape(-1,1)"
      ],
      "metadata": {
        "id": "o0jPgay8VLiP"
      },
      "execution_count": 70,
      "outputs": []
    },
    {
      "cell_type": "code",
      "source": [
        "min_max_scaler = preprocessing.MinMaxScaler()\n",
        "X_scaled = min_max_scaler.fit_transform(np.array(X).reshape(-1,1))\n",
        "Y_scaled = min_max_scaler.fit_transform(np.array(Y).reshape(-1,1))"
      ],
      "metadata": {
        "id": "hXm1bqnMI7Wi"
      },
      "execution_count": 71,
      "outputs": []
    },
    {
      "cell_type": "code",
      "source": [
        "arow = len(X)\n",
        "acol = len(X[0])\n",
        "print(\"Rows : \" + str(arow))\n",
        "print(\"Columns : \" + str(acol))"
      ],
      "metadata": {
        "colab": {
          "base_uri": "https://localhost:8080/"
        },
        "id": "nKr-XB98Av01",
        "outputId": "5f8bae0a-1f2e-40f2-d553-c6adecf68105"
      },
      "execution_count": 72,
      "outputs": [
        {
          "output_type": "stream",
          "name": "stdout",
          "text": [
            "Rows : 2448\n",
            "Columns : 19\n"
          ]
        }
      ]
    },
    {
      "cell_type": "code",
      "source": [
        "arow = len(Y)\n",
        "acol = len(Y[0])\n",
        "print(\"Rows : \" + str(arow))\n",
        "print(\"Columns : \" + str(acol))"
      ],
      "metadata": {
        "colab": {
          "base_uri": "https://localhost:8080/"
        },
        "id": "BdkMtuwRAwQt",
        "outputId": "e9c8b3e2-5058-455a-fb7a-bff543347b36"
      },
      "execution_count": 73,
      "outputs": [
        {
          "output_type": "stream",
          "name": "stdout",
          "text": [
            "Rows : 2448\n",
            "Columns : 1\n"
          ]
        }
      ]
    },
    {
      "cell_type": "code",
      "source": [
        "x_train, x_val, x_test, y_train, y_val, y_test = split(X, Y, 0.8, 0.1)\n",
        "print(len(x_train))\n",
        "print(len(x_test))\n",
        "print(len(x_val))"
      ],
      "metadata": {
        "colab": {
          "base_uri": "https://localhost:8080/"
        },
        "id": "BcGguJ75aapY",
        "outputId": "dc0a2305-7803-4ab7-d147-56b675551af8"
      },
      "execution_count": 74,
      "outputs": [
        {
          "output_type": "stream",
          "name": "stdout",
          "text": [
            "1958\n",
            "244\n",
            "246\n"
          ]
        }
      ]
    },
    {
      "cell_type": "code",
      "source": [
        "# train_X,test_X,train_label,test_label = train_test_split(X, Y, test_size=0.1,shuffle=False,random_state=1)\n",
        "len_t = len(x_train)"
      ],
      "metadata": {
        "id": "RodXbfnpAwl7"
      },
      "execution_count": 75,
      "outputs": []
    },
    {
      "cell_type": "code",
      "source": [
        "train_X = np.array(x_train)\n",
        "test_X = np.array(x_test)\n",
        "train_label = np.array(y_train)\n",
        "test_label = np.array(y_test)\n",
        "train_val = np.array(x_val)\n",
        "test_val = np.array(y_val)"
      ],
      "metadata": {
        "id": "Fl6FZcgEAwsC"
      },
      "execution_count": 76,
      "outputs": []
    },
    {
      "cell_type": "code",
      "source": [
        "train_X = train_X.reshape(train_X.shape[0],1,window_size-1,1)\n",
        "test_X = test_X.reshape(test_X.shape[0],1,window_size-1,1)\n",
        "train_val = train_val.reshape(train_val.shape[0],1,window_size-1,1)"
      ],
      "metadata": {
        "id": "JmtjVXTJAwvC"
      },
      "execution_count": 77,
      "outputs": []
    },
    {
      "cell_type": "markdown",
      "source": [
        "# Run model"
      ],
      "metadata": {
        "id": "MZFsSigW2rP7"
      }
    },
    {
      "cell_type": "code",
      "source": [
        "model = Sequential()\n",
        "\n",
        "model.add(tf.keras.layers.GRU(200, return_sequences=True, input_shape=(1,19), activation='relu'))\n",
        "model.add(tf.keras.layers.GRU(200,activation='relu'))\n",
        "model.add(tf.keras.layers.Dense(units=1, activation='relu'))\n",
        "model.add(Dropout(0.3))\n",
        "model.compile(optimizer=tf.keras.optimizers.Nadam(learning_rate=0.0001),loss='mse')\n",
        "print(model.summary())\n",
        "\n"
      ],
      "metadata": {
        "colab": {
          "base_uri": "https://localhost:8080/"
        },
        "id": "c2lYtLZShjC2",
        "outputId": "b78cfe5c-ecaa-4137-8950-f3f5886f64a0"
      },
      "execution_count": 78,
      "outputs": [
        {
          "output_type": "stream",
          "name": "stdout",
          "text": [
            "Model: \"sequential_13\"\n",
            "_________________________________________________________________\n",
            " Layer (type)                Output Shape              Param #   \n",
            "=================================================================\n",
            " gru_24 (GRU)                (None, 1, 200)            132600    \n",
            "                                                                 \n",
            " gru_25 (GRU)                (None, 200)               241200    \n",
            "                                                                 \n",
            " dense_16 (Dense)            (None, 1)                 201       \n",
            "                                                                 \n",
            " dropout_7 (Dropout)         (None, 1)                 0         \n",
            "                                                                 \n",
            "=================================================================\n",
            "Total params: 374,001\n",
            "Trainable params: 374,001\n",
            "Non-trainable params: 0\n",
            "_________________________________________________________________\n",
            "None\n"
          ]
        }
      ]
    },
    {
      "cell_type": "code",
      "source": [
        "model.fit(train_X, train_label, validation_data=(train_val,test_val), epochs=30,batch_size=64,shuffle =False)"
      ],
      "metadata": {
        "colab": {
          "base_uri": "https://localhost:8080/"
        },
        "id": "ayMiRrpti6bl",
        "outputId": "21c58aab-4db7-4bff-c241-fa32df69376e"
      },
      "execution_count": 79,
      "outputs": [
        {
          "output_type": "stream",
          "name": "stdout",
          "text": [
            "Epoch 1/30\n",
            "31/31 [==============================] - 5s 28ms/step - loss: 0.0063 - val_loss: 0.0066\n",
            "Epoch 2/30\n",
            "31/31 [==============================] - 0s 16ms/step - loss: 0.0053 - val_loss: 0.0058\n",
            "Epoch 3/30\n",
            "31/31 [==============================] - 0s 16ms/step - loss: 0.0048 - val_loss: 0.0054\n",
            "Epoch 4/30\n",
            "31/31 [==============================] - 1s 16ms/step - loss: 0.0046 - val_loss: 0.0051\n",
            "Epoch 5/30\n",
            "31/31 [==============================] - 1s 17ms/step - loss: 0.0044 - val_loss: 0.0049\n",
            "Epoch 6/30\n",
            "31/31 [==============================] - 0s 16ms/step - loss: 0.0039 - val_loss: 0.0048\n",
            "Epoch 7/30\n",
            "31/31 [==============================] - 1s 16ms/step - loss: 0.0041 - val_loss: 0.0047\n",
            "Epoch 8/30\n",
            "31/31 [==============================] - 1s 16ms/step - loss: 0.0040 - val_loss: 0.0047\n",
            "Epoch 9/30\n",
            "31/31 [==============================] - 1s 17ms/step - loss: 0.0039 - val_loss: 0.0046\n",
            "Epoch 10/30\n",
            "31/31 [==============================] - 0s 16ms/step - loss: 0.0039 - val_loss: 0.0046\n",
            "Epoch 11/30\n",
            "31/31 [==============================] - 1s 16ms/step - loss: 0.0038 - val_loss: 0.0046\n",
            "Epoch 12/30\n",
            "31/31 [==============================] - 1s 16ms/step - loss: 0.0038 - val_loss: 0.0046\n",
            "Epoch 13/30\n",
            "31/31 [==============================] - 0s 16ms/step - loss: 0.0038 - val_loss: 0.0046\n",
            "Epoch 14/30\n",
            "31/31 [==============================] - 1s 16ms/step - loss: 0.0038 - val_loss: 0.0046\n",
            "Epoch 15/30\n",
            "31/31 [==============================] - 1s 17ms/step - loss: 0.0038 - val_loss: 0.0045\n",
            "Epoch 16/30\n",
            "31/31 [==============================] - 1s 17ms/step - loss: 0.0039 - val_loss: 0.0046\n",
            "Epoch 17/30\n",
            "31/31 [==============================] - 1s 16ms/step - loss: 0.0039 - val_loss: 0.0045\n",
            "Epoch 18/30\n",
            "31/31 [==============================] - 1s 17ms/step - loss: 0.0038 - val_loss: 0.0045\n",
            "Epoch 19/30\n",
            "31/31 [==============================] - 1s 17ms/step - loss: 0.0038 - val_loss: 0.0045\n",
            "Epoch 20/30\n",
            "31/31 [==============================] - 0s 16ms/step - loss: 0.0039 - val_loss: 0.0045\n",
            "Epoch 21/30\n",
            "31/31 [==============================] - 0s 16ms/step - loss: 0.0037 - val_loss: 0.0045\n",
            "Epoch 22/30\n",
            "31/31 [==============================] - 1s 17ms/step - loss: 0.0038 - val_loss: 0.0045\n",
            "Epoch 23/30\n",
            "31/31 [==============================] - 1s 17ms/step - loss: 0.0039 - val_loss: 0.0045\n",
            "Epoch 24/30\n",
            "31/31 [==============================] - 1s 16ms/step - loss: 0.0037 - val_loss: 0.0045\n",
            "Epoch 25/30\n",
            "31/31 [==============================] - 1s 18ms/step - loss: 0.0040 - val_loss: 0.0045\n",
            "Epoch 26/30\n",
            "31/31 [==============================] - 1s 16ms/step - loss: 0.0039 - val_loss: 0.0045\n",
            "Epoch 27/30\n",
            "31/31 [==============================] - 1s 17ms/step - loss: 0.0040 - val_loss: 0.0045\n",
            "Epoch 28/30\n",
            "31/31 [==============================] - 1s 17ms/step - loss: 0.0040 - val_loss: 0.0045\n",
            "Epoch 29/30\n",
            "31/31 [==============================] - 1s 17ms/step - loss: 0.0037 - val_loss: 0.0045\n",
            "Epoch 30/30\n",
            "31/31 [==============================] - 0s 16ms/step - loss: 0.0037 - val_loss: 0.0045\n"
          ]
        },
        {
          "output_type": "execute_result",
          "data": {
            "text/plain": [
              "<keras.callbacks.History at 0x7f7bf96ecb10>"
            ]
          },
          "metadata": {},
          "execution_count": 79
        }
      ]
    },
    {
      "cell_type": "code",
      "source": [
        "# model.summary()\n",
        "predicted  = model.predict(test_X)\n",
        "predicted = min_max_scaler.inverse_transform(predicted)\n",
        "# test_label = (test_label[:,0])\n",
        "test_label = min_max_scaler.inverse_transform(test_label.reshape(-1,1))\n",
        "predicted = np.array(predicted[:,0]).reshape(-1,1)\n",
        "plt.figure(figsize=(15,5))\n",
        "for j in range(len_t , len_t + len(test_X)):\n",
        "    temp =df_trans.iloc[j,1]\n",
        "    test_label[j - len_t] = test_label[j - len_t] * temp + temp\n",
        "    predicted[j - len_t] = predicted[j - len_t] * temp + temp\n",
        "plt.plot(test_label, color = 'black', label = ' BCH Price')\n",
        "plt.plot(predicted, color = 'green', label = 'Predicted  BCH Price')\n",
        "plt.title(' BCH Price Prediction')\n",
        "plt.xlabel('Time')\n",
        "plt.ylabel(' BCH Price')\n",
        "plt.legend()\n",
        "plt.show()"
      ],
      "metadata": {
        "colab": {
          "base_uri": "https://localhost:8080/",
          "height": 350
        },
        "id": "NcMFksPGAw1A",
        "outputId": "8d7629a0-94f8-4372-ec90-8f71b3eb2d23"
      },
      "execution_count": 80,
      "outputs": [
        {
          "output_type": "display_data",
          "data": {
            "text/plain": [
              "<Figure size 1080x360 with 1 Axes>"
            ],
            "image/png": "[encoded data removed]"
          },
          "metadata": {
            "needs_background": "light"
          }
        }
      ]
    },
    {
      "cell_type": "code",
      "source": [
        "#Normalization\n",
        "mse = mean_squared_error(test_label.reshape(-1,1),predicted.reshape(-1,1))\n",
        "mae = mean_absolute_error(test_label.reshape(-1,1),predicted.reshape(-1,1))\n",
        "\n",
        "\n",
        "\n",
        "print(f\"mean_squared_error : {mse}\")\n",
        "print(f\"mean_absolute_error : {mae}\")"
      ],
      "metadata": {
        "id": "2BH16hApAxBx",
        "colab": {
          "base_uri": "https://localhost:8080/"
        },
        "outputId": "f11c2a91-b1d2-4076-b62c-2662204ee0ab"
      },
      "execution_count": 81,
      "outputs": [
        {
          "output_type": "stream",
          "name": "stdout",
          "text": [
            "mean_squared_error : 0.2688590807756687\n",
            "mean_absolute_error : 0.4269931701839336\n"
          ]
        }
      ]
    },
    {
      "cell_type": "code",
      "source": [
        "len(predicted)"
      ],
      "metadata": {
        "id": "g6zgVANvAxIC",
        "colab": {
          "base_uri": "https://localhost:8080/"
        },
        "outputId": "912f7caf-027f-4af4-cf02-ee19d7634586"
      },
      "execution_count": 82,
      "outputs": [
        {
          "output_type": "execute_result",
          "data": {
            "text/plain": [
              "244"
            ]
          },
          "metadata": {},
          "execution_count": 82
        }
      ]
    },
    {
      "cell_type": "code",
      "source": [
        "predicted"
      ],
      "metadata": {
        "id": "bI33XHAWAxOb",
        "colab": {
          "base_uri": "https://localhost:8080/"
        },
        "outputId": "b5d1ae69-8041-4925-88fc-ec7b938acae2"
      },
      "execution_count": 83,
      "outputs": [
        {
          "output_type": "execute_result",
          "data": {
            "text/plain": [
              "array([[11.180221 ],\n",
              "       [11.17362  ],\n",
              "       [11.210883 ],\n",
              "       [11.021891 ],\n",
              "       [11.00625  ],\n",
              "       [10.932685 ],\n",
              "       [10.683985 ],\n",
              "       [10.550318 ],\n",
              "       [10.17661  ],\n",
              "       [ 9.271319 ],\n",
              "       [ 9.718735 ],\n",
              "       [ 9.255174 ],\n",
              "       [ 9.105646 ],\n",
              "       [ 9.37987  ],\n",
              "       [ 9.800726 ],\n",
              "       [10.344346 ],\n",
              "       [10.07606  ],\n",
              "       [10.065197 ],\n",
              "       [ 9.916399 ],\n",
              "       [ 9.671401 ],\n",
              "       [ 8.2862   ],\n",
              "       [ 8.691093 ],\n",
              "       [ 8.098732 ],\n",
              "       [ 8.5420065],\n",
              "       [ 9.015752 ],\n",
              "       [ 9.06007  ],\n",
              "       [ 9.912017 ],\n",
              "       [ 8.414497 ],\n",
              "       [ 8.665336 ],\n",
              "       [ 8.927973 ],\n",
              "       [ 9.445958 ],\n",
              "       [ 9.357986 ],\n",
              "       [ 9.127906 ],\n",
              "       [ 8.974376 ],\n",
              "       [ 8.73242  ],\n",
              "       [ 8.723835 ],\n",
              "       [ 8.73796  ],\n",
              "       [ 9.571726 ],\n",
              "       [ 9.897236 ],\n",
              "       [ 9.927881 ],\n",
              "       [10.429892 ],\n",
              "       [ 9.77109  ],\n",
              "       [10.0207615],\n",
              "       [ 9.783529 ],\n",
              "       [ 9.286921 ],\n",
              "       [ 9.709572 ],\n",
              "       [10.001351 ],\n",
              "       [ 9.801178 ],\n",
              "       [ 9.67704  ],\n",
              "       [ 9.7681875],\n",
              "       [ 9.721826 ],\n",
              "       [ 9.771032 ],\n",
              "       [10.087701 ],\n",
              "       [10.24827  ],\n",
              "       [10.179569 ],\n",
              "       [ 9.933397 ],\n",
              "       [10.027998 ],\n",
              "       [ 9.643845 ],\n",
              "       [10.006176 ],\n",
              "       [ 9.95653  ],\n",
              "       [10.124399 ],\n",
              "       [10.018772 ],\n",
              "       [ 9.878698 ],\n",
              "       [ 9.936486 ],\n",
              "       [10.522991 ],\n",
              "       [10.90336  ],\n",
              "       [10.786784 ],\n",
              "       [10.951696 ],\n",
              "       [11.043806 ],\n",
              "       [10.949632 ],\n",
              "       [11.131874 ],\n",
              "       [11.164733 ],\n",
              "       [11.557808 ],\n",
              "       [11.484783 ],\n",
              "       [11.226192 ],\n",
              "       [11.184862 ],\n",
              "       [10.97896  ],\n",
              "       [10.971224 ],\n",
              "       [11.049746 ],\n",
              "       [11.086987 ],\n",
              "       [11.069898 ],\n",
              "       [11.077942 ],\n",
              "       [10.764971 ],\n",
              "       [10.689529 ],\n",
              "       [10.754107 ],\n",
              "       [10.838701 ],\n",
              "       [10.771071 ],\n",
              "       [10.693839 ],\n",
              "       [10.558261 ],\n",
              "       [10.485173 ],\n",
              "       [10.352597 ],\n",
              "       [10.144156 ],\n",
              "       [10.352597 ],\n",
              "       [10.560796 ],\n",
              "       [10.494079 ],\n",
              "       [10.318986 ],\n",
              "       [10.213636 ],\n",
              "       [10.213636 ],\n",
              "       [10.422078 ],\n",
              "       [10.352597 ],\n",
              "       [10.352597 ],\n",
              "       [10.005195 ],\n",
              "       [10.074676 ],\n",
              "       [10.352597 ],\n",
              "       [10.213636 ],\n",
              "       [10.213636 ],\n",
              "       [10.213636 ],\n",
              "       [10.213636 ],\n",
              "       [10.213636 ],\n",
              "       [10.283117 ],\n",
              "       [10.213636 ],\n",
              "       [10.352597 ],\n",
              "       [10.422078 ],\n",
              "       [10.422078 ],\n",
              "       [10.7      ],\n",
              "       [10.977922 ],\n",
              "       [10.838962 ],\n",
              "       [10.769481 ],\n",
              "       [10.769481 ],\n",
              "       [10.7      ],\n",
              "       [10.72415  ],\n",
              "       [10.561039 ],\n",
              "       [10.63052  ],\n",
              "       [10.422078 ],\n",
              "       [10.491559 ],\n",
              "       [10.422078 ],\n",
              "       [10.422078 ],\n",
              "       [10.491559 ],\n",
              "       [10.977922 ],\n",
              "       [10.769481 ],\n",
              "       [10.63052  ],\n",
              "       [10.491559 ],\n",
              "       [10.422078 ],\n",
              "       [10.838962 ],\n",
              "       [10.422078 ],\n",
              "       [10.422078 ],\n",
              "       [10.491559 ],\n",
              "       [10.352597 ],\n",
              "       [10.422078 ],\n",
              "       [10.63052  ],\n",
              "       [10.283117 ],\n",
              "       [10.144156 ],\n",
              "       [ 9.866234 ],\n",
              "       [10.005195 ],\n",
              "       [10.074676 ],\n",
              "       [10.144156 ],\n",
              "       [10.283117 ],\n",
              "       [10.144156 ],\n",
              "       [10.144156 ],\n",
              "       [10.144156 ],\n",
              "       [10.144156 ],\n",
              "       [10.074676 ],\n",
              "       [10.144156 ],\n",
              "       [ 9.657792 ],\n",
              "       [ 9.588312 ],\n",
              "       [ 9.518831 ],\n",
              "       [ 9.518831 ],\n",
              "       [ 9.866234 ],\n",
              "       [ 9.81599  ],\n",
              "       [ 9.657792 ],\n",
              "       [ 9.935715 ],\n",
              "       [ 9.935715 ],\n",
              "       [ 9.866234 ],\n",
              "       [10.005195 ],\n",
              "       [ 9.727273 ],\n",
              "       [ 9.44935  ],\n",
              "       [ 9.44935  ],\n",
              "       [ 9.61561  ],\n",
              "       [ 9.978592 ],\n",
              "       [10.0986395],\n",
              "       [ 9.98423  ],\n",
              "       [10.21422  ],\n",
              "       [ 9.941451 ],\n",
              "       [ 9.706985 ],\n",
              "       [ 9.518831 ],\n",
              "       [ 9.44935  ],\n",
              "       [ 9.37987  ],\n",
              "       [ 9.657792 ],\n",
              "       [ 9.518831 ],\n",
              "       [ 9.796754 ],\n",
              "       [ 9.935715 ],\n",
              "       [10.037881 ],\n",
              "       [10.1621   ],\n",
              "       [10.2729   ],\n",
              "       [10.179791 ],\n",
              "       [10.144156 ],\n",
              "       [10.213636 ],\n",
              "       [10.213636 ],\n",
              "       [10.283117 ],\n",
              "       [10.422078 ],\n",
              "       [10.213636 ],\n",
              "       [10.005195 ],\n",
              "       [10.00785  ],\n",
              "       [10.111582 ],\n",
              "       [ 9.7750025],\n",
              "       [ 9.605846 ],\n",
              "       [ 9.722282 ],\n",
              "       [ 9.914915 ],\n",
              "       [ 9.786549 ],\n",
              "       [ 9.737928 ],\n",
              "       [ 9.518831 ],\n",
              "       [ 9.518831 ],\n",
              "       [ 9.588312 ],\n",
              "       [ 9.588312 ],\n",
              "       [ 9.657792 ],\n",
              "       [ 9.518831 ],\n",
              "       [ 9.032468 ],\n",
              "       [ 9.101949 ],\n",
              "       [ 9.101949 ],\n",
              "       [ 9.24091  ],\n",
              "       [ 9.37987  ],\n",
              "       [ 9.44935  ],\n",
              "       [ 9.44935  ],\n",
              "       [ 9.44935  ],\n",
              "       [ 9.588312 ],\n",
              "       [ 9.657792 ],\n",
              "       [ 9.518831 ],\n",
              "       [ 9.657792 ],\n",
              "       [ 9.727273 ],\n",
              "       [ 9.588312 ],\n",
              "       [ 9.518831 ],\n",
              "       [ 9.518831 ],\n",
              "       [ 9.588312 ],\n",
              "       [ 9.721674 ],\n",
              "       [ 9.911804 ],\n",
              "       [ 9.95236  ],\n",
              "       [10.187408 ],\n",
              "       [10.348633 ],\n",
              "       [10.36689  ],\n",
              "       [10.570727 ],\n",
              "       [10.49201  ],\n",
              "       [10.490558 ],\n",
              "       [10.334387 ],\n",
              "       [10.550313 ],\n",
              "       [10.844778 ],\n",
              "       [10.747115 ],\n",
              "       [10.729861 ],\n",
              "       [10.935215 ],\n",
              "       [11.104351 ],\n",
              "       [11.163659 ],\n",
              "       [10.91244  ],\n",
              "       [10.85195  ],\n",
              "       [10.743221 ],\n",
              "       [10.601608 ]], dtype=float32)"
            ]
          },
          "metadata": {},
          "execution_count": 83
        }
      ]
    },
    {
      "cell_type": "code",
      "source": [
        "y = pd.DataFrame(test_label)\n",
        "y"
      ],
      "metadata": {
        "id": "4M0blAnBAxRi",
        "colab": {
          "base_uri": "https://localhost:8080/",
          "height": 424
        },
        "outputId": "84fe0f7e-bce9-412e-cdc8-8e259186c5f3"
      },
      "execution_count": 84,
      "outputs": [
        {
          "output_type": "execute_result",
          "data": {
            "text/plain": [
              "             0\n",
              "0    11.319324\n",
              "1    11.318881\n",
              "2    11.392488\n",
              "3    11.106991\n",
              "4    11.042231\n",
              "..         ...\n",
              "239  11.578388\n",
              "240  11.304461\n",
              "241  11.325207\n",
              "242  11.392781\n",
              "243  10.820858\n",
              "\n",
              "[244 rows x 1 columns]"
            ],
            "text/html": [
              "\n",
              "  <div id=\"df-9367fcea-59b7-4bbb-b21a-2a25bd59c1f0\">\n",
              "    <div class=\"colab-df-container\">\n",
              "      <div>\n",
              "<style scoped>\n",
              "    .dataframe tbody tr th:only-of-type {\n",
              "        vertical-align: middle;\n",
              "    }\n",
              "\n",
              "    .dataframe tbody tr th {\n",
              "        vertical-align: top;\n",
              "    }\n",
              "\n",
              "    .dataframe thead th {\n",
              "        text-align: right;\n",
              "    }\n",
              "</style>\n",
              "<table border=\"1\" class=\"dataframe\">\n",
              "  <thead>\n",
              "    <tr style=\"text-align: right;\">\n",
              "      <th></th>\n",
              "      <th>0</th>\n",
              "    </tr>\n",
              "  </thead>\n",
              "  <tbody>\n",
              "    <tr>\n",
              "      <th>0</th>\n",
              "      <td>11.319324</td>\n",
              "    </tr>\n",
              "    <tr>\n",
              "      <th>1</th>\n",
              "      <td>11.318881</td>\n",
              "    </tr>\n",
              "    <tr>\n",
              "      <th>2</th>\n",
              "      <td>11.392488</td>\n",
              "    </tr>\n",
              "    <tr>\n",
              "      <th>3</th>\n",
              "      <td>11.106991</td>\n",
              "    </tr>\n",
              "    <tr>\n",
              "      <th>4</th>\n",
              "      <td>11.042231</td>\n",
              "    </tr>\n",
              "    <tr>\n",
              "      <th>...</th>\n",
              "      <td>...</td>\n",
              "    </tr>\n",
              "    <tr>\n",
              "      <th>239</th>\n",
              "      <td>11.578388</td>\n",
              "    </tr>\n",
              "    <tr>\n",
              "      <th>240</th>\n",
              "      <td>11.304461</td>\n",
              "    </tr>\n",
              "    <tr>\n",
              "      <th>241</th>\n",
              "      <td>11.325207</td>\n",
              "    </tr>\n",
              "    <tr>\n",
              "      <th>242</th>\n",
              "      <td>11.392781</td>\n",
              "    </tr>\n",
              "    <tr>\n",
              "      <th>243</th>\n",
              "      <td>10.820858</td>\n",
              "    </tr>\n",
              "  </tbody>\n",
              "</table>\n",
              "<p>244 rows × 1 columns</p>\n",
              "</div>\n",
              "      <button class=\"colab-df-convert\" onclick=\"convertToInteractive('df-9367fcea-59b7-4bbb-b21a-2a25bd59c1f0')\"\n",
              "              title=\"Convert this dataframe to an interactive table.\"\n",
              "              style=\"display:none;\">\n",
              "        \n",
              "  <svg xmlns=\"http://www.w3.org/2000/svg\" height=\"24px\"viewBox=\"0 0 24 24\"\n",
              "       width=\"24px\">\n",
              "    <path d=\"M0 0h24v24H0V0z\" fill=\"none\"/>\n",
              "    <path d=\"M18.56 5.44l.94 2.06.94-2.06 2.06-.94-2.06-.94-.94-2.06-.94 2.06-2.06.94zm-11 1L8.5 8.5l.94-2.06 2.06-.94-2.06-.94L8.5 2.5l-.94 2.06-2.06.94zm10 10l.94 2.06.94-2.06 2.06-.94-2.06-.94-.94-2.06-.94 2.06-2.06.94z\"/><path d=\"M17.41 7.96l-1.37-1.37c-.4-.4-.92-.59-1.43-.59-.52 0-1.04.2-1.43.59L10.3 9.45l-7.72 7.72c-.78.78-.78 2.05 0 2.83L4 21.41c.39.39.9.59 1.41.59.51 0 1.02-.2 1.41-.59l7.78-7.78 2.81-2.81c.8-.78.8-2.07 0-2.86zM5.41 20L4 18.59l7.72-7.72 1.47 1.35L5.41 20z\"/>\n",
              "  </svg>\n",
              "      </button>\n",
              "      \n",
              "  <style>\n",
              "    .colab-df-container {\n",
              "      display:flex;\n",
              "      flex-wrap:wrap;\n",
              "      gap: 12px;\n",
              "    }\n",
              "\n",
              "    .colab-df-convert {\n",
              "      background-color: #E8F0FE;\n",
              "      border: none;\n",
              "      border-radius: 50%;\n",
              "      cursor: pointer;\n",
              "      display: none;\n",
              "      fill: #1967D2;\n",
              "      height: 32px;\n",
              "      padding: 0 0 0 0;\n",
              "      width: 32px;\n",
              "    }\n",
              "\n",
              "    .colab-df-convert:hover {\n",
              "      background-color: #E2EBFA;\n",
              "      box-shadow: 0px 1px 2px rgba(60, 64, 67, 0.3), 0px 1px 3px 1px rgba(60, 64, 67, 0.15);\n",
              "      fill: #174EA6;\n",
              "    }\n",
              "\n",
              "    [theme=dark] .colab-df-convert {\n",
              "      background-color: #3B4455;\n",
              "      fill: #D2E3FC;\n",
              "    }\n",
              "\n",
              "    [theme=dark] .colab-df-convert:hover {\n",
              "      background-color: #434B5C;\n",
              "      box-shadow: 0px 1px 3px 1px rgba(0, 0, 0, 0.15);\n",
              "      filter: drop-shadow(0px 1px 2px rgba(0, 0, 0, 0.3));\n",
              "      fill: #FFFFFF;\n",
              "    }\n",
              "  </style>\n",
              "\n",
              "      <script>\n",
              "        const buttonEl =\n",
              "          document.querySelector('#df-9367fcea-59b7-4bbb-b21a-2a25bd59c1f0 button.colab-df-convert');\n",
              "        buttonEl.style.display =\n",
              "          google.colab.kernel.accessAllowed ? 'block' : 'none';\n",
              "\n",
              "        async function convertToInteractive(key) {\n",
              "          const element = document.querySelector('#df-9367fcea-59b7-4bbb-b21a-2a25bd59c1f0');\n",
              "          const dataTable =\n",
              "            await google.colab.kernel.invokeFunction('convertToInteractive',\n",
              "                                                     [key], {});\n",
              "          if (!dataTable) return;\n",
              "\n",
              "          const docLinkHtml = 'Like what you see? Visit the ' +\n",
              "            '<a target=\"_blank\" href=https://colab.research.google.com/notebooks/data_table.ipynb>data table notebook</a>'\n",
              "            + ' to learn more about interactive tables.';\n",
              "          element.innerHTML = '';\n",
              "          dataTable['output_type'] = 'display_data';\n",
              "          await google.colab.output.renderOutput(dataTable, element);\n",
              "          const docLink = document.createElement('div');\n",
              "          docLink.innerHTML = docLinkHtml;\n",
              "          element.appendChild(docLink);\n",
              "        }\n",
              "      </script>\n",
              "    </div>\n",
              "  </div>\n",
              "  "
            ]
          },
          "metadata": {},
          "execution_count": 84
        }
      ]
    },
    {
      "cell_type": "code",
      "source": [
        "y.to_excel (r'/content/drive/MyDrive/Colab Notebooks/BADS7604/BADS7604_DL/Project3/Predict.xlsx', index = False, header=True)"
      ],
      "metadata": {
        "id": "1zQ7Hj1DAxU5"
      },
      "execution_count": 85,
      "outputs": []
    },
    {
      "cell_type": "code",
      "source": [
        ""
      ],
      "metadata": {
        "id": "YO5gs17jbHvq"
      },
      "execution_count": null,
      "outputs": []
    }
  ]
}